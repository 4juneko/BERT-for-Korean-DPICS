{
 "cells": [
  {
   "cell_type": "markdown",
   "metadata": {},
   "source": [
    "# load module"
   ]
  },
  {
   "cell_type": "markdown",
   "metadata": {
    "id": "3UYd-xmy5nyF"
   },
   "source": [
    "https://breezymind.com/kcbert-find-tuning/"
   ]
  },
  {
   "cell_type": "code",
   "execution_count": 110,
   "metadata": {
    "colab": {
     "base_uri": "https://localhost:8080/"
    },
    "executionInfo": {
     "elapsed": 13618,
     "status": "ok",
     "timestamp": 1695390016861,
     "user": {
      "displayName": "June Ko",
      "userId": "01172581608508178140"
     },
     "user_tz": -540
    },
    "id": "cA_9nTz44uEC",
    "outputId": "92123f3f-3138-4886-88b4-14da8a90c5b3",
    "tags": []
   },
   "outputs": [
    {
     "name": "stdout",
     "output_type": "stream",
     "text": [
      "huggingface/tokenizers: The current process just got forked, after parallelism has already been used. Disabling parallelism to avoid deadlocks...\n",
      "To disable this warning, you can either:\n",
      "\t- Avoid using `tokenizers` before the fork if possible\n",
      "\t- Explicitly set the environment variable TOKENIZERS_PARALLELISM=(true | false)\n",
      "Requirement already satisfied: transformers in /home/tools/anaconda/lib/python3.11/site-packages (4.29.2)\n",
      "Requirement already satisfied: filelock in /home/tools/anaconda/lib/python3.11/site-packages (from transformers) (3.9.0)\n",
      "Requirement already satisfied: huggingface-hub<1.0,>=0.14.1 in /home/tools/anaconda/lib/python3.11/site-packages (from transformers) (0.15.1)\n",
      "Requirement already satisfied: numpy>=1.17 in /home/tools/anaconda/lib/python3.11/site-packages (from transformers) (1.24.3)\n",
      "Requirement already satisfied: packaging>=20.0 in /home/tools/anaconda/lib/python3.11/site-packages (from transformers) (23.0)\n",
      "Requirement already satisfied: pyyaml>=5.1 in /home/tools/anaconda/lib/python3.11/site-packages (from transformers) (6.0)\n",
      "Requirement already satisfied: regex!=2019.12.17 in /home/tools/anaconda/lib/python3.11/site-packages (from transformers) (2022.7.9)\n",
      "Requirement already satisfied: requests in /home/tools/anaconda/lib/python3.11/site-packages (from transformers) (2.31.0)\n",
      "Requirement already satisfied: tokenizers!=0.11.3,<0.14,>=0.11.1 in /home/tools/anaconda/lib/python3.11/site-packages (from transformers) (0.13.2)\n",
      "Requirement already satisfied: tqdm>=4.27 in /home/tools/anaconda/lib/python3.11/site-packages (from transformers) (4.65.0)\n",
      "Requirement already satisfied: fsspec in /home/tools/anaconda/lib/python3.11/site-packages (from huggingface-hub<1.0,>=0.14.1->transformers) (2023.4.0)\n",
      "Requirement already satisfied: typing-extensions>=3.7.4.3 in /home/tools/anaconda/lib/python3.11/site-packages (from huggingface-hub<1.0,>=0.14.1->transformers) (4.7.1)\n",
      "Requirement already satisfied: charset-normalizer<4,>=2 in /home/tools/anaconda/lib/python3.11/site-packages (from requests->transformers) (2.0.4)\n",
      "Requirement already satisfied: idna<4,>=2.5 in /home/tools/anaconda/lib/python3.11/site-packages (from requests->transformers) (3.4)\n",
      "Requirement already satisfied: urllib3<3,>=1.21.1 in /home/tools/anaconda/lib/python3.11/site-packages (from requests->transformers) (1.26.16)\n",
      "Requirement already satisfied: certifi>=2017.4.17 in /home/tools/anaconda/lib/python3.11/site-packages (from requests->transformers) (2023.7.22)\n",
      "\u001b[33mWARNING: Running pip as the 'root' user can result in broken permissions and conflicting behaviour with the system package manager. It is recommended to use a virtual environment instead: https://pip.pypa.io/warnings/venv\u001b[0m\u001b[33m\n",
      "\u001b[0m"
     ]
    }
   ],
   "source": [
    "!pip install transformers"
   ]
  },
  {
   "cell_type": "code",
   "execution_count": 111,
   "metadata": {
    "executionInfo": {
     "elapsed": 10502,
     "status": "ok",
     "timestamp": 1695390027357,
     "user": {
      "displayName": "June Ko",
      "userId": "01172581608508178140"
     },
     "user_tz": -540
    },
    "id": "MosptCW64g_u",
    "tags": []
   },
   "outputs": [],
   "source": [
    "import pandas as pd\n",
    "import numpy as np\n",
    "import torch\n",
    "import torch.nn as nn\n",
    "from torch.utils.data import Dataset, DataLoader\n",
    "from transformers import AutoTokenizer, AutoModelForSequenceClassification, AdamW\n",
    "from sklearn.model_selection import train_test_split\n",
    "from transformers import ElectraModel, ElectraTokenizer\n",
    "from transformers import AutoTokenizer, ElectraForSequenceClassification\n",
    "from sklearn.metrics import f1_score, confusion_matrix\n",
    "import seaborn as sns\n",
    "import matplotlib.pyplot as plt\n",
    "\n",
    "class CustomDataset(Dataset):\n",
    "    def __init__(self, texts, labels, tokenizer, max_length):\n",
    "        self.texts = texts\n",
    "        self.labels = labels\n",
    "        self.tokenizer = tokenizer\n",
    "        self.max_length = max_length\n",
    "\n",
    "    def __len__(self):\n",
    "        return len(self.texts)\n",
    "\n",
    "    def __getitem__(self, index):\n",
    "        text = self.texts[index]\n",
    "        label = self.labels[index]\n",
    "\n",
    "        encoding = self.tokenizer(text, padding='max_length', truncation=True, max_length=self.max_length, return_tensors='pt')\n",
    "        input_ids = encoding['input_ids'].squeeze()\n",
    "        attention_mask = encoding['attention_mask'].squeeze()\n",
    "\n",
    "        return {'input_ids': input_ids, 'attention_mask': attention_mask, 'label': label}"
   ]
  },
  {
   "cell_type": "code",
   "execution_count": 112,
   "metadata": {
    "colab": {
     "base_uri": "https://localhost:8080/"
    },
    "executionInfo": {
     "elapsed": 11,
     "status": "ok",
     "timestamp": 1695390027358,
     "user": {
      "displayName": "June Ko",
      "userId": "01172581608508178140"
     },
     "user_tz": -540
    },
    "id": "OxgUVt2XEe19",
    "outputId": "6b0c4430-88aa-4093-a3e3-45a4d9d19342",
    "tags": []
   },
   "outputs": [
    {
     "name": "stdout",
     "output_type": "stream",
     "text": [
      "huggingface/tokenizers: The current process just got forked, after parallelism has already been used. Disabling parallelism to avoid deadlocks...\n",
      "To disable this warning, you can either:\n",
      "\t- Avoid using `tokenizers` before the fork if possible\n",
      "\t- Explicitly set the environment variable TOKENIZERS_PARALLELISM=(true | false)\n",
      "Fri Oct 13 09:56:56 2023       \n",
      "+---------------------------------------------------------------------------------------+\n",
      "| NVIDIA-SMI 535.104.12             Driver Version: 535.104.12   CUDA Version: 12.2     |\n",
      "|-----------------------------------------+----------------------+----------------------+\n",
      "| GPU  Name                 Persistence-M | Bus-Id        Disp.A | Volatile Uncorr. ECC |\n",
      "| Fan  Temp   Perf          Pwr:Usage/Cap |         Memory-Usage | GPU-Util  Compute M. |\n",
      "|                                         |                      |               MIG M. |\n",
      "|=========================================+======================+======================|\n",
      "|   0  NVIDIA GeForce RTX 3080        Off | 00000000:01:00.0 Off |                  N/A |\n",
      "| 50%   45C    P8              21W / 320W |   4734MiB / 10240MiB |      0%      Default |\n",
      "|                                         |                      |                  N/A |\n",
      "+-----------------------------------------+----------------------+----------------------+\n",
      "|   1  NVIDIA GeForce RTX 3080        Off | 00000000:06:00.0 Off |                  N/A |\n",
      "|  0%   38C    P8              21W / 340W |      4MiB / 10240MiB |      0%      Default |\n",
      "|                                         |                      |                  N/A |\n",
      "+-----------------------------------------+----------------------+----------------------+\n",
      "                                                                                         \n",
      "+---------------------------------------------------------------------------------------+\n",
      "| Processes:                                                                            |\n",
      "|  GPU   GI   CI        PID   Type   Process name                            GPU Memory |\n",
      "|        ID   ID                                                             Usage      |\n",
      "|=======================================================================================|\n",
      "+---------------------------------------------------------------------------------------+\n"
     ]
    }
   ],
   "source": [
    "!nvidia-smi"
   ]
  },
  {
   "cell_type": "markdown",
   "metadata": {
    "id": "uXjwiVQWEe19"
   },
   "source": [
    "# load data"
   ]
  },
  {
   "cell_type": "code",
   "execution_count": null,
   "metadata": {
    "colab": {
     "base_uri": "https://localhost:8080/"
    },
    "executionInfo": {
     "elapsed": 2911,
     "status": "ok",
     "timestamp": 1695390967108,
     "user": {
      "displayName": "June Ko",
      "userId": "01172581608508178140"
     },
     "user_tz": -540
    },
    "id": "0mUISq3XHdTF",
    "outputId": "cdecde99-36d1-4871-bc55-15f6e39fd137",
    "tags": []
   },
   "outputs": [],
   "source": [
    "from google.colab import drive\n",
    "drive.mount('/content/drive')"
   ]
  },
  {
   "cell_type": "code",
   "execution_count": null,
   "metadata": {
    "colab": {
     "base_uri": "https://localhost:8080/",
     "height": 53
    },
    "executionInfo": {
     "elapsed": 5,
     "status": "ok",
     "timestamp": 1695391000344,
     "user": {
      "displayName": "June Ko",
      "userId": "01172581608508178140"
     },
     "user_tz": -540
    },
    "id": "9L28vL90H6sW",
    "outputId": "25278151-8cc2-4c17-c764-0271c9d4e5b9"
   },
   "outputs": [],
   "source": [
    "%cd /content/drive/My Drive/Colab Notebooks\n",
    "%pwd"
   ]
  },
  {
   "cell_type": "code",
   "execution_count": 113,
   "metadata": {
    "colab": {
     "base_uri": "https://localhost:8080/",
     "height": 206
    },
    "executionInfo": {
     "elapsed": 609,
     "status": "ok",
     "timestamp": 1695391005441,
     "user": {
      "displayName": "June Ko",
      "userId": "01172581608508178140"
     },
     "user_tz": -540
    },
    "id": "ddgCUe-TEe19",
    "outputId": "710bde5f-3081-4d38-ea54-4aa5b3bcc404",
    "tags": []
   },
   "outputs": [
    {
     "data": {
      "text/html": [
       "<div>\n",
       "<style scoped>\n",
       "    .dataframe tbody tr th:only-of-type {\n",
       "        vertical-align: middle;\n",
       "    }\n",
       "\n",
       "    .dataframe tbody tr th {\n",
       "        vertical-align: top;\n",
       "    }\n",
       "\n",
       "    .dataframe thead th {\n",
       "        text-align: right;\n",
       "    }\n",
       "</style>\n",
       "<table border=\"1\" class=\"dataframe\">\n",
       "  <thead>\n",
       "    <tr style=\"text-align: right;\">\n",
       "      <th></th>\n",
       "      <th>label</th>\n",
       "      <th>speech</th>\n",
       "    </tr>\n",
       "  </thead>\n",
       "  <tbody>\n",
       "    <tr>\n",
       "      <th>0</th>\n",
       "      <td>일반적인 말</td>\n",
       "      <td>오늘 우리 마당에 귀여운 토끼가 있었어</td>\n",
       "    </tr>\n",
       "    <tr>\n",
       "      <th>1</th>\n",
       "      <td>부정적인 말</td>\n",
       "      <td>날 귀찮게 하고있어</td>\n",
       "    </tr>\n",
       "    <tr>\n",
       "      <th>2</th>\n",
       "      <td>반영</td>\n",
       "      <td>포테이토 헤드를 위한 모자이구나</td>\n",
       "    </tr>\n",
       "    <tr>\n",
       "      <th>3</th>\n",
       "      <td>지시</td>\n",
       "      <td>그림에 말을 그리렴</td>\n",
       "    </tr>\n",
       "    <tr>\n",
       "      <th>4</th>\n",
       "      <td>행동 묘사</td>\n",
       "      <td>우리는 색칠을 하고 있어</td>\n",
       "    </tr>\n",
       "  </tbody>\n",
       "</table>\n",
       "</div>"
      ],
      "text/plain": [
       "    label                 speech\n",
       "0  일반적인 말  오늘 우리 마당에 귀여운 토끼가 있었어\n",
       "1  부정적인 말             날 귀찮게 하고있어\n",
       "2      반영      포테이토 헤드를 위한 모자이구나\n",
       "3      지시             그림에 말을 그리렴\n",
       "4   행동 묘사          우리는 색칠을 하고 있어"
      ]
     },
     "execution_count": 113,
     "metadata": {},
     "output_type": "execute_result"
    }
   ],
   "source": [
    "rawdata = pd.read_csv('./preprocess_PCIT_labeled_09272023.csv')\n",
    "rawdata.head()"
   ]
  },
  {
   "cell_type": "code",
   "execution_count": 114,
   "metadata": {
    "tags": []
   },
   "outputs": [
    {
     "data": {
      "text/plain": [
       "5748"
      ]
     },
     "execution_count": 114,
     "metadata": {},
     "output_type": "execute_result"
    }
   ],
   "source": [
    "len(rawdata)"
   ]
  },
  {
   "cell_type": "code",
   "execution_count": 115,
   "metadata": {
    "id": "1suEm6YdEe1-",
    "tags": []
   },
   "outputs": [],
   "source": [
    "# rawdata.drop(['Unnamed: 0'], axis=1, inplace=True)\n",
    "# rawdata"
   ]
  },
  {
   "cell_type": "code",
   "execution_count": 116,
   "metadata": {
    "colab": {
     "base_uri": "https://localhost:8080/"
    },
    "executionInfo": {
     "elapsed": 635,
     "status": "ok",
     "timestamp": 1695391011828,
     "user": {
      "displayName": "June Ko",
      "userId": "01172581608508178140"
     },
     "user_tz": -540
    },
    "id": "rp6A7juZEe1-",
    "outputId": "d60f5533-54ae-465e-d4bc-5618e79f54bb",
    "tags": []
   },
   "outputs": [
    {
     "data": {
      "text/plain": [
       "일반적인 말     1136\n",
       "지시          910\n",
       "행동 묘사       755\n",
       "질문          716\n",
       "반영          704\n",
       "구체적인 칭찬     684\n",
       "부정적인 말      619\n",
       "일반적인 칭찬     224\n",
       "Name: label, dtype: int64"
      ]
     },
     "execution_count": 116,
     "metadata": {},
     "output_type": "execute_result"
    }
   ],
   "source": [
    "rawdata['label'].value_counts()"
   ]
  },
  {
   "cell_type": "code",
   "execution_count": 117,
   "metadata": {
    "colab": {
     "base_uri": "https://localhost:8080/"
    },
    "executionInfo": {
     "elapsed": 5,
     "status": "ok",
     "timestamp": 1695391016218,
     "user": {
      "displayName": "June Ko",
      "userId": "01172581608508178140"
     },
     "user_tz": -540
    },
    "id": "lnN-C_m-Ee1_",
    "outputId": "aef1570f-e9ba-4392-9c41-f9f53712b3dd",
    "tags": []
   },
   "outputs": [
    {
     "data": {
      "text/plain": [
       "array(['일반적인 말', '부정적인 말', '반영', '지시', '행동 묘사', '일반적인 칭찬', '질문',\n",
       "       '구체적인 칭찬'], dtype=object)"
      ]
     },
     "execution_count": 117,
     "metadata": {},
     "output_type": "execute_result"
    }
   ],
   "source": [
    "labels = rawdata.label.unique()\n",
    "labels"
   ]
  },
  {
   "cell_type": "code",
   "execution_count": 118,
   "metadata": {
    "tags": []
   },
   "outputs": [],
   "source": [
    "labels = ['일반적인 말', '부정적인 말', '반영', '지시', '행동 묘사', '질문', '일반적인 칭찬', '구체적인 칭찬']"
   ]
  },
  {
   "cell_type": "code",
   "execution_count": 119,
   "metadata": {
    "colab": {
     "base_uri": "https://localhost:8080/"
    },
    "executionInfo": {
     "elapsed": 4,
     "status": "ok",
     "timestamp": 1695391018328,
     "user": {
      "displayName": "June Ko",
      "userId": "01172581608508178140"
     },
     "user_tz": -540
    },
    "id": "RYfHKKcqEe1_",
    "outputId": "22605dc3-5ab7-4d67-b581-9d5e715869f3",
    "tags": []
   },
   "outputs": [
    {
     "data": {
      "text/plain": [
       "{'일반적인 말': 0,\n",
       " '부정적인 말': 1,\n",
       " '반영': 2,\n",
       " '지시': 3,\n",
       " '행동 묘사': 4,\n",
       " '질문': 5,\n",
       " '일반적인 칭찬': 6,\n",
       " '구체적인 칭찬': 7}"
      ]
     },
     "execution_count": 119,
     "metadata": {},
     "output_type": "execute_result"
    }
   ],
   "source": [
    "label_dict = {}\n",
    "for index, label in enumerate(labels):\n",
    "    label_dict[label] = index\n",
    "label_dict"
   ]
  },
  {
   "cell_type": "code",
   "execution_count": 120,
   "metadata": {
    "id": "MzePyVzbEe1_",
    "outputId": "7fd41b01-6b43-437a-b114-a0666fb753dd",
    "tags": []
   },
   "outputs": [
    {
     "data": {
      "text/plain": [
       "8"
      ]
     },
     "execution_count": 120,
     "metadata": {},
     "output_type": "execute_result"
    }
   ],
   "source": [
    "len(label_dict)"
   ]
  },
  {
   "cell_type": "code",
   "execution_count": 121,
   "metadata": {
    "executionInfo": {
     "elapsed": 4,
     "status": "ok",
     "timestamp": 1695391026154,
     "user": {
      "displayName": "June Ko",
      "userId": "01172581608508178140"
     },
     "user_tz": -540
    },
    "id": "zBBdRe0HEe1_",
    "tags": []
   },
   "outputs": [],
   "source": [
    "rawdata['label_ct'] = rawdata.label.replace(label_dict)"
   ]
  },
  {
   "cell_type": "code",
   "execution_count": 122,
   "metadata": {
    "colab": {
     "base_uri": "https://localhost:8080/",
     "height": 206
    },
    "executionInfo": {
     "elapsed": 5,
     "status": "ok",
     "timestamp": 1695391028337,
     "user": {
      "displayName": "June Ko",
      "userId": "01172581608508178140"
     },
     "user_tz": -540
    },
    "id": "OqlYLvcOEe2A",
    "outputId": "e91a8cb3-3c2d-427a-a9eb-45abeb0d5030",
    "tags": []
   },
   "outputs": [
    {
     "data": {
      "text/html": [
       "<div>\n",
       "<style scoped>\n",
       "    .dataframe tbody tr th:only-of-type {\n",
       "        vertical-align: middle;\n",
       "    }\n",
       "\n",
       "    .dataframe tbody tr th {\n",
       "        vertical-align: top;\n",
       "    }\n",
       "\n",
       "    .dataframe thead th {\n",
       "        text-align: right;\n",
       "    }\n",
       "</style>\n",
       "<table border=\"1\" class=\"dataframe\">\n",
       "  <thead>\n",
       "    <tr style=\"text-align: right;\">\n",
       "      <th></th>\n",
       "      <th>label</th>\n",
       "      <th>speech</th>\n",
       "      <th>label_ct</th>\n",
       "    </tr>\n",
       "  </thead>\n",
       "  <tbody>\n",
       "    <tr>\n",
       "      <th>5743</th>\n",
       "      <td>반영</td>\n",
       "      <td>인형을 제시카라고 부르는구나</td>\n",
       "      <td>2</td>\n",
       "    </tr>\n",
       "    <tr>\n",
       "      <th>5744</th>\n",
       "      <td>구체적인 칭찬</td>\n",
       "      <td>멋진 공룡을 그렸구나</td>\n",
       "      <td>7</td>\n",
       "    </tr>\n",
       "    <tr>\n",
       "      <th>5745</th>\n",
       "      <td>반영</td>\n",
       "      <td>내거야 내가 원하면 꽉 누를 수 있어</td>\n",
       "      <td>2</td>\n",
       "    </tr>\n",
       "    <tr>\n",
       "      <th>5746</th>\n",
       "      <td>질문</td>\n",
       "      <td>그것은 무엇이니</td>\n",
       "      <td>5</td>\n",
       "    </tr>\n",
       "    <tr>\n",
       "      <th>5747</th>\n",
       "      <td>구체적인 칭찬</td>\n",
       "      <td>노력하고 있구나 잘했어</td>\n",
       "      <td>7</td>\n",
       "    </tr>\n",
       "  </tbody>\n",
       "</table>\n",
       "</div>"
      ],
      "text/plain": [
       "        label                speech  label_ct\n",
       "5743       반영       인형을 제시카라고 부르는구나         2\n",
       "5744  구체적인 칭찬           멋진 공룡을 그렸구나         7\n",
       "5745       반영  내거야 내가 원하면 꽉 누를 수 있어         2\n",
       "5746       질문              그것은 무엇이니         5\n",
       "5747  구체적인 칭찬          노력하고 있구나 잘했어         7"
      ]
     },
     "execution_count": 122,
     "metadata": {},
     "output_type": "execute_result"
    }
   ],
   "source": [
    "rawdata.tail(5)"
   ]
  },
  {
   "cell_type": "code",
   "execution_count": 89,
   "metadata": {
    "tags": []
   },
   "outputs": [],
   "source": [
    "rawdata[\"Words Per Sentence\"] = rawdata[\"speech\"].str.split().apply(len)"
   ]
  },
  {
   "cell_type": "code",
   "execution_count": 90,
   "metadata": {
    "tags": []
   },
   "outputs": [
    {
     "data": {
      "text/plain": [
       "5748"
      ]
     },
     "execution_count": 90,
     "metadata": {},
     "output_type": "execute_result"
    }
   ],
   "source": [
    "rawdata.tail(5)"
   ]
  },
  {
   "cell_type": "markdown",
   "metadata": {
    "id": "5YzX-cNEEe1-"
   },
   "source": [
    "# analyse data"
   ]
  },
  {
   "cell_type": "code",
   "execution_count": 91,
   "metadata": {
    "colab": {
     "base_uri": "https://localhost:8080/"
    },
    "executionInfo": {
     "elapsed": 22831,
     "status": "ok",
     "timestamp": 1695391058029,
     "user": {
      "displayName": "June Ko",
      "userId": "01172581608508178140"
     },
     "user_tz": -540
    },
    "id": "e5VIczocEe2A",
    "outputId": "d99ec32f-9fcc-448f-a16a-8e621569b1c4",
    "tags": []
   },
   "outputs": [
    {
     "name": "stdout",
     "output_type": "stream",
     "text": [
      "huggingface/tokenizers: The current process just got forked, after parallelism has already been used. Disabling parallelism to avoid deadlocks...\n",
      "To disable this warning, you can either:\n",
      "\t- Avoid using `tokenizers` before the fork if possible\n",
      "\t- Explicitly set the environment variable TOKENIZERS_PARALLELISM=(true | false)\n",
      "huggingface/tokenizers: The current process just got forked, after parallelism has already been used. Disabling parallelism to avoid deadlocks...\n",
      "To disable this warning, you can either:\n",
      "\t- Avoid using `tokenizers` before the fork if possible\n",
      "\t- Explicitly set the environment variable TOKENIZERS_PARALLELISM=(true | false)\n"
     ]
    }
   ],
   "source": [
    "# 한글 출력\n",
    "\n",
    "from matplotlib import rc\n",
    "import matplotlib.font_manager as fm\n",
    "import matplotlib as plt\n",
    "\n",
    "!apt-get update -qq         # apt-get 패키지 설치 명령어, -qq : 에러외 메세지 숨기기\n",
    "!apt-get install fonts-nanum* -qq #나눔글꼴 설치\n",
    "\n",
    "# fm._rebuild()\n",
    "# fm.get_fontconfig_fonts()\n",
    "\n",
    "# 디렉토리 및 파일 이름에 맞추어 변경\n",
    "font_location = './NanumGothic.ttf'"
   ]
  },
  {
   "cell_type": "code",
   "execution_count": 92,
   "metadata": {
    "executionInfo": {
     "elapsed": 10,
     "status": "ok",
     "timestamp": 1695391058030,
     "user": {
      "displayName": "June Ko",
      "userId": "01172581608508178140"
     },
     "user_tz": -540
    },
    "id": "cdzx3BKwEe2A",
    "tags": []
   },
   "outputs": [],
   "source": [
    "fe = fm.FontEntry(fname=r'/usr/share/fonts/truetype/nanum/NanumGothic.ttf', name='NanumGothic') #파일 저장되어있는 경로와 이름 설정\n",
    "fm.fontManager.ttflist.insert(0, fe)  # Matplotlib에 폰트 추가\n",
    "plt.rcParams.update({'font.size': 10, 'font.family': 'NanumGothic'}) #폰트설정\n"
   ]
  },
  {
   "cell_type": "code",
   "execution_count": 98,
   "metadata": {
    "colab": {
     "base_uri": "https://localhost:8080/",
     "height": 331
    },
    "executionInfo": {
     "elapsed": 10,
     "status": "ok",
     "timestamp": 1695391058031,
     "user": {
      "displayName": "June Ko",
      "userId": "01172581608508178140"
     },
     "user_tz": -540
    },
    "id": "kBZQbqcfEe2A",
    "outputId": "21594baa-b4ff-4a40-e2c4-2f4d70fdf086",
    "tags": []
   },
   "outputs": [
    {
     "data": {
      "text/html": [
       "<div>\n",
       "<style scoped>\n",
       "    .dataframe tbody tr th:only-of-type {\n",
       "        vertical-align: middle;\n",
       "    }\n",
       "\n",
       "    .dataframe tbody tr th {\n",
       "        vertical-align: top;\n",
       "    }\n",
       "\n",
       "    .dataframe thead th {\n",
       "        text-align: right;\n",
       "    }\n",
       "</style>\n",
       "<table border=\"1\" class=\"dataframe\">\n",
       "  <thead>\n",
       "    <tr style=\"text-align: right;\">\n",
       "      <th></th>\n",
       "      <th>label_ct</th>\n",
       "    </tr>\n",
       "    <tr>\n",
       "      <th>label_ct</th>\n",
       "      <th></th>\n",
       "    </tr>\n",
       "  </thead>\n",
       "  <tbody>\n",
       "    <tr>\n",
       "      <th>0</th>\n",
       "      <td>1136</td>\n",
       "    </tr>\n",
       "    <tr>\n",
       "      <th>1</th>\n",
       "      <td>619</td>\n",
       "    </tr>\n",
       "    <tr>\n",
       "      <th>2</th>\n",
       "      <td>704</td>\n",
       "    </tr>\n",
       "    <tr>\n",
       "      <th>3</th>\n",
       "      <td>910</td>\n",
       "    </tr>\n",
       "    <tr>\n",
       "      <th>4</th>\n",
       "      <td>755</td>\n",
       "    </tr>\n",
       "    <tr>\n",
       "      <th>5</th>\n",
       "      <td>716</td>\n",
       "    </tr>\n",
       "    <tr>\n",
       "      <th>6</th>\n",
       "      <td>224</td>\n",
       "    </tr>\n",
       "    <tr>\n",
       "      <th>7</th>\n",
       "      <td>684</td>\n",
       "    </tr>\n",
       "  </tbody>\n",
       "</table>\n",
       "</div>"
      ],
      "text/plain": [
       "          label_ct\n",
       "label_ct          \n",
       "0             1136\n",
       "1              619\n",
       "2              704\n",
       "3              910\n",
       "4              755\n",
       "5              716\n",
       "6              224\n",
       "7              684"
      ]
     },
     "execution_count": 98,
     "metadata": {},
     "output_type": "execute_result"
    }
   ],
   "source": [
    "distrubution_data = rawdata.groupby(by='label_ct')[['label_ct']].count()\n",
    "# distrubution_data.columns=['label', 'frequency']\n",
    "distrubution_data"
   ]
  },
  {
   "cell_type": "code",
   "execution_count": 99,
   "metadata": {
    "colab": {
     "base_uri": "https://localhost:8080/",
     "height": 482
    },
    "executionInfo": {
     "elapsed": 686,
     "status": "ok",
     "timestamp": 1695391096891,
     "user": {
      "displayName": "June Ko",
      "userId": "01172581608508178140"
     },
     "user_tz": -540
    },
    "id": "jVv-lAloEe2A",
    "outputId": "bdb15ee9-5d4f-45c5-bcfa-9b817e70f9a4",
    "tags": []
   },
   "outputs": [
    {
     "data": {
      "text/plain": [
       "<Figure size 1000x600 with 0 Axes>"
      ]
     },
     "metadata": {},
     "output_type": "display_data"
    },
    {
     "data": {
      "image/png": "[encoded data removed]",
      "text/plain": [
       "<Figure size 640x480 with 1 Axes>"
      ]
     },
     "metadata": {},
     "output_type": "display_data"
    }
   ],
   "source": [
    "import matplotlib.pyplot as plt\n",
    "\n",
    "plt.figure(figsize=(10, 6))\n",
    "distrubution_data.plot(kind='bar'\n",
    "                      ,title = '행동 구분 빈도'\n",
    "                      ,xlabel = '행동 구분'\n",
    "                      ,ylabel = '빈도(수)',\n",
    "                       legend = None)\n",
    "\n",
    "plt.savefig(f\"{'result_image/distrubution_data_1.png'}\",dpi=300)"
   ]
  },
  {
   "cell_type": "code",
   "execution_count": 100,
   "metadata": {
    "colab": {
     "base_uri": "https://localhost:8080/",
     "height": 331
    },
    "executionInfo": {
     "elapsed": 7,
     "status": "ok",
     "timestamp": 1695391104865,
     "user": {
      "displayName": "June Ko",
      "userId": "01172581608508178140"
     },
     "user_tz": -540
    },
    "id": "l4AiLBHcEe2B",
    "outputId": "2650f06a-403f-4af1-cecc-6ae46df49e45",
    "tags": []
   },
   "outputs": [
    {
     "data": {
      "text/html": [
       "<div>\n",
       "<style scoped>\n",
       "    .dataframe tbody tr th:only-of-type {\n",
       "        vertical-align: middle;\n",
       "    }\n",
       "\n",
       "    .dataframe tbody tr th {\n",
       "        vertical-align: top;\n",
       "    }\n",
       "\n",
       "    .dataframe thead th {\n",
       "        text-align: right;\n",
       "    }\n",
       "</style>\n",
       "<table border=\"1\" class=\"dataframe\">\n",
       "  <thead>\n",
       "    <tr style=\"text-align: right;\">\n",
       "      <th></th>\n",
       "      <th>label</th>\n",
       "    </tr>\n",
       "    <tr>\n",
       "      <th>label</th>\n",
       "      <th></th>\n",
       "    </tr>\n",
       "  </thead>\n",
       "  <tbody>\n",
       "    <tr>\n",
       "      <th>일반적인 말</th>\n",
       "      <td>1136</td>\n",
       "    </tr>\n",
       "    <tr>\n",
       "      <th>부정적인 말</th>\n",
       "      <td>619</td>\n",
       "    </tr>\n",
       "    <tr>\n",
       "      <th>반영</th>\n",
       "      <td>704</td>\n",
       "    </tr>\n",
       "    <tr>\n",
       "      <th>지시</th>\n",
       "      <td>910</td>\n",
       "    </tr>\n",
       "    <tr>\n",
       "      <th>행동 묘사</th>\n",
       "      <td>755</td>\n",
       "    </tr>\n",
       "    <tr>\n",
       "      <th>질문</th>\n",
       "      <td>716</td>\n",
       "    </tr>\n",
       "    <tr>\n",
       "      <th>일반적인 칭찬</th>\n",
       "      <td>224</td>\n",
       "    </tr>\n",
       "    <tr>\n",
       "      <th>구체적인 칭찬</th>\n",
       "      <td>684</td>\n",
       "    </tr>\n",
       "  </tbody>\n",
       "</table>\n",
       "</div>"
      ],
      "text/plain": [
       "         label\n",
       "label         \n",
       "일반적인 말    1136\n",
       "부정적인 말     619\n",
       "반영         704\n",
       "지시         910\n",
       "행동 묘사      755\n",
       "질문         716\n",
       "일반적인 칭찬    224\n",
       "구체적인 칭찬    684"
      ]
     },
     "execution_count": 100,
     "metadata": {},
     "output_type": "execute_result"
    }
   ],
   "source": [
    "distrubution_data2 = rawdata.groupby(by='label')[['label']].count()\n",
    "distrubution_data2 = distrubution_data2.reindex(['일반적인 말', '부정적인 말', '반영', '지시', '행동 묘사', '질문', '일반적인 칭찬', '구체적인 칭찬'])\n",
    "distrubution_data2"
   ]
  },
  {
   "cell_type": "code",
   "execution_count": 105,
   "metadata": {
    "colab": {
     "base_uri": "https://localhost:8080/",
     "height": 556
    },
    "executionInfo": {
     "elapsed": 971,
     "status": "ok",
     "timestamp": 1695391125364,
     "user": {
      "displayName": "June Ko",
      "userId": "01172581608508178140"
     },
     "user_tz": -540
    },
    "id": "bF3HX1i-Ee2B",
    "outputId": "204c6048-42a6-487c-ed82-f146d3e225d8",
    "tags": []
   },
   "outputs": [
    {
     "data": {
      "text/plain": [
       "<Figure size 10000x10000 with 0 Axes>"
      ]
     },
     "metadata": {},
     "output_type": "display_data"
    },
    {
     "data": {
      "image/png": "[encoded data removed]",
      "text/plain": [
       "<Figure size 640x480 with 1 Axes>"
      ]
     },
     "metadata": {},
     "output_type": "display_data"
    }
   ],
   "source": [
    "plt.figure(figsize=(100,100))\n",
    "\n",
    "distrubution_data2.plot(kind='bar'\n",
    "                      ,title = '클래스의 데이터 수'\n",
    "                      ,xlabel = 'Class'\n",
    "                      ,ylabel = '빈도(수)',\n",
    "                        legend = None)\n",
    "\n",
    "plt.savefig(f\"{'result_image/distrubution_data_2.png'}\",dpi=300)"
   ]
  },
  {
   "cell_type": "code",
   "execution_count": 104,
   "metadata": {
    "colab": {
     "base_uri": "https://localhost:8080/",
     "height": 450
    },
    "executionInfo": {
     "elapsed": 665,
     "status": "ok",
     "timestamp": 1695391135764,
     "user": {
      "displayName": "June Ko",
      "userId": "01172581608508178140"
     },
     "user_tz": -540
    },
    "id": "dFfCSUE_Ee2B",
    "outputId": "31068b81-e54f-41dd-9a63-5a3fe3a7bc13",
    "tags": []
   },
   "outputs": [
    {
     "data": {
      "image/png": "[encoded data removed]",
      "text/plain": [
       "<Figure size 1000x600 with 1 Axes>"
      ]
     },
     "metadata": {},
     "output_type": "display_data"
    }
   ],
   "source": [
    "plt.figure(figsize=(10, 6))\n",
    "\n",
    "distrubution_data2[\"label\"].plot.barh()\n",
    "plt.title(\"클래스의 데이터 수\")\n",
    "plt.ylabel(\"Class\")\n",
    "plt.savefig(f\"{'result_image/distrubution_data_3.png'}\",dpi=300)\n",
    "plt.show()"
   ]
  },
  {
   "cell_type": "code",
   "execution_count": 106,
   "metadata": {
    "colab": {
     "base_uri": "https://localhost:8080/",
     "height": 363
    },
    "executionInfo": {
     "elapsed": 551,
     "status": "ok",
     "timestamp": 1695391159113,
     "user": {
      "displayName": "June Ko",
      "userId": "01172581608508178140"
     },
     "user_tz": -540
    },
    "id": "NIHofMo6Ee2B",
    "outputId": "725a6dab-c322-4710-b0e1-6fb4f0a05c13",
    "tags": []
   },
   "outputs": [
    {
     "data": {
      "text/html": [
       "<div>\n",
       "<style scoped>\n",
       "    .dataframe tbody tr th:only-of-type {\n",
       "        vertical-align: middle;\n",
       "    }\n",
       "\n",
       "    .dataframe tbody tr th {\n",
       "        vertical-align: top;\n",
       "    }\n",
       "\n",
       "    .dataframe thead th {\n",
       "        text-align: right;\n",
       "    }\n",
       "</style>\n",
       "<table border=\"1\" class=\"dataframe\">\n",
       "  <thead>\n",
       "    <tr style=\"text-align: right;\">\n",
       "      <th></th>\n",
       "      <th>label</th>\n",
       "      <th>speech</th>\n",
       "      <th>label_ct</th>\n",
       "      <th>Words Per Sentence</th>\n",
       "    </tr>\n",
       "  </thead>\n",
       "  <tbody>\n",
       "    <tr>\n",
       "      <th>0</th>\n",
       "      <td>일반적인 말</td>\n",
       "      <td>오늘 우리 마당에 귀여운 토끼가 있었어</td>\n",
       "      <td>0</td>\n",
       "      <td>6</td>\n",
       "    </tr>\n",
       "    <tr>\n",
       "      <th>1</th>\n",
       "      <td>부정적인 말</td>\n",
       "      <td>날 귀찮게 하고있어</td>\n",
       "      <td>1</td>\n",
       "      <td>3</td>\n",
       "    </tr>\n",
       "    <tr>\n",
       "      <th>2</th>\n",
       "      <td>반영</td>\n",
       "      <td>포테이토 헤드를 위한 모자이구나</td>\n",
       "      <td>2</td>\n",
       "      <td>4</td>\n",
       "    </tr>\n",
       "    <tr>\n",
       "      <th>3</th>\n",
       "      <td>지시</td>\n",
       "      <td>그림에 말을 그리렴</td>\n",
       "      <td>3</td>\n",
       "      <td>3</td>\n",
       "    </tr>\n",
       "    <tr>\n",
       "      <th>4</th>\n",
       "      <td>행동 묘사</td>\n",
       "      <td>우리는 색칠을 하고 있어</td>\n",
       "      <td>4</td>\n",
       "      <td>4</td>\n",
       "    </tr>\n",
       "    <tr>\n",
       "      <th>5</th>\n",
       "      <td>부정적인 말</td>\n",
       "      <td>색칠한 그림이 엉망이구나</td>\n",
       "      <td>1</td>\n",
       "      <td>3</td>\n",
       "    </tr>\n",
       "    <tr>\n",
       "      <th>6</th>\n",
       "      <td>부정적인 말</td>\n",
       "      <td>테이블 위에 서있는 건 용납되지 않아</td>\n",
       "      <td>1</td>\n",
       "      <td>6</td>\n",
       "    </tr>\n",
       "    <tr>\n",
       "      <th>7</th>\n",
       "      <td>반영</td>\n",
       "      <td>집에 가고 싶구나</td>\n",
       "      <td>2</td>\n",
       "      <td>3</td>\n",
       "    </tr>\n",
       "    <tr>\n",
       "      <th>8</th>\n",
       "      <td>부정적인 말</td>\n",
       "      <td>아니야</td>\n",
       "      <td>1</td>\n",
       "      <td>1</td>\n",
       "    </tr>\n",
       "    <tr>\n",
       "      <th>9</th>\n",
       "      <td>부정적인 말</td>\n",
       "      <td>이곳에서 부스러기를 떨어뜨리며 쿠를 먹지마</td>\n",
       "      <td>1</td>\n",
       "      <td>5</td>\n",
       "    </tr>\n",
       "  </tbody>\n",
       "</table>\n",
       "</div>"
      ],
      "text/plain": [
       "    label                   speech  label_ct  Words Per Sentence\n",
       "0  일반적인 말    오늘 우리 마당에 귀여운 토끼가 있었어         0                   6\n",
       "1  부정적인 말               날 귀찮게 하고있어         1                   3\n",
       "2      반영        포테이토 헤드를 위한 모자이구나         2                   4\n",
       "3      지시               그림에 말을 그리렴         3                   3\n",
       "4   행동 묘사            우리는 색칠을 하고 있어         4                   4\n",
       "5  부정적인 말            색칠한 그림이 엉망이구나         1                   3\n",
       "6  부정적인 말     테이블 위에 서있는 건 용납되지 않아         1                   6\n",
       "7      반영                집에 가고 싶구나         2                   3\n",
       "8  부정적인 말                      아니야         1                   1\n",
       "9  부정적인 말  이곳에서 부스러기를 떨어뜨리며 쿠를 먹지마         1                   5"
      ]
     },
     "execution_count": 106,
     "metadata": {},
     "output_type": "execute_result"
    }
   ],
   "source": [
    "rawdata.head(10)"
   ]
  },
  {
   "cell_type": "code",
   "execution_count": 107,
   "metadata": {
    "colab": {
     "base_uri": "https://localhost:8080/",
     "height": 468
    },
    "executionInfo": {
     "elapsed": 1378,
     "status": "ok",
     "timestamp": 1695391746183,
     "user": {
      "displayName": "June Ko",
      "userId": "01172581608508178140"
     },
     "user_tz": -540
    },
    "id": "3Tq51IgcEe2B",
    "outputId": "da25f9c7-6709-4478-f10a-f11e666950fd",
    "tags": []
   },
   "outputs": [
    {
     "data": {
      "image/png": "[encoded data removed]",
      "text/plain": [
       "<Figure size 1000x600 with 1 Axes>"
      ]
     },
     "metadata": {},
     "output_type": "display_data"
    }
   ],
   "source": [
    "import seaborn as sns\n",
    "rawdata[\"Words Per Sentence\"] = rawdata[\"speech\"].str.split().apply(len)\n",
    "\n",
    "plt.figure(figsize=(10, 6))\n",
    "\n",
    "ax = sns.boxplot(data = rawdata,\n",
    "                 y = 'label',\n",
    "                 x = 'Words Per Sentence',\n",
    "                showfliers=False,\n",
    "                color=\"black\",\n",
    "                boxprops={'facecolor':'None'},\n",
    "                order = ['구체적인 칭찬', '일반적인 칭찬', '질문', '행동 묘사', '지시', '반영', '부정적인 말', '일반적인 말'])\n",
    "\n",
    "ax.set(xlabel = None, ylabel = 'Class', title = '문장의 길이')\n",
    "\n",
    "plt.savefig(f\"{'result_image/distrubution_data_4.png'}\",dpi=300)\n",
    "\n",
    "# rawdata.boxplot(\"Words Per Sentence\",\n",
    "#                 by=\"label\",\n",
    "#                 grid=False,\n",
    "#                 showfliers=False,\n",
    "#                 color=\"black\",\n",
    "#                 vert=False,\n",
    "#                 )\n",
    "\n",
    "# plt.suptitle(\"\")\n",
    "# plt.ylabel(\"\")\n",
    "# plt.xlabel(\"\")\n",
    "# plt.show()"
   ]
  },
  {
   "cell_type": "code",
   "execution_count": null,
   "metadata": {
    "id": "xnK8vXP1Ee2B",
    "tags": []
   },
   "outputs": [],
   "source": [
    "rawdata.head()"
   ]
  },
  {
   "cell_type": "markdown",
   "metadata": {},
   "source": [
    "# select model\n",
    "- 3 모델 중에 하나를 선택\n",
    "- koBERT는 토크나이저 만들 때 다른 모듈 사용"
   ]
  },
  {
   "cell_type": "markdown",
   "metadata": {},
   "source": [
    "## 1. koBERT"
   ]
  },
  {
   "cell_type": "markdown",
   "metadata": {},
   "source": [
    "### skt/kobert-base-v1"
   ]
  },
  {
   "cell_type": "code",
   "execution_count": 51,
   "metadata": {
    "tags": []
   },
   "outputs": [
    {
     "name": "stdout",
     "output_type": "stream",
     "text": [
      "Collecting kobert_tokenizer\n",
      "  Cloning https://github.com/SKTBrain/KoBERT.git to /tmp/pip-install-1l2qk0rg/kobert-tokenizer_e1e1dcb4c265431fb69aa9a254e480b3\n",
      "  Running command git clone --filter=blob:none --quiet https://github.com/SKTBrain/KoBERT.git /tmp/pip-install-1l2qk0rg/kobert-tokenizer_e1e1dcb4c265431fb69aa9a254e480b3\n",
      "  Resolved https://github.com/SKTBrain/KoBERT.git to commit 47a69af87928fc24e20f571fe10c3cc9dd9af9a3\n",
      "  Preparing metadata (setup.py) ... \u001b[?25ldone\n",
      "\u001b[33mWARNING: Running pip as the 'root' user can result in broken permissions and conflicting behaviour with the system package manager. It is recommended to use a virtual environment instead: https://pip.pypa.io/warnings/venv\u001b[0m\u001b[33m\n",
      "\u001b[0m\u001b[?25h"
     ]
    }
   ],
   "source": [
    "# # just koBERT\n",
    "# !pip install 'git+https://github.com/SKTBrain/KoBERT.git#egg=kobert_tokenizer&subdirectory=kobert_hf'"
   ]
  },
  {
   "cell_type": "code",
   "execution_count": 52,
   "metadata": {
    "colab": {
     "base_uri": "https://localhost:8080/",
     "height": 266,
     "referenced_widgets": [
      "f18932da04fb40dd857b5495c3ebd6cd",
      "6194b70b50b1497b9f1e12e3009dd377",
      "e88ea56191a340c78c2f4867b5323e80",
      "124d60c9444e43d1a374684687855c09",
      "f959346fc6194f8d996a709e0fc64c3c",
      "4e5dbc65c11a4c7ebc13f50d022e99f1",
      "b7c9f2e92bbb4fac941c38ab33249552",
      "b229e55719f747369067a427d5325340",
      "5d278444830f4e3686b95f0da58228e0",
      "c7a31b2a3b3e49ee95b407cc090eb1b4",
      "8faba5181bd54f458e097239f958d4bc",
      "7a045460f8324d8e952e93cc38fdee05",
      "57463dcad89744d78b0d5f7c87f64f57",
      "425289b7141a44e0b6f4546820803b9d",
      "bd3ca022193d4bfa91db1517642359fc",
      "f62b332ec330427294bd490b366000f5",
      "6e4d48d9021e4e2c88be11ffdfe5a819",
      "54de60b3ddd9411c9606cc38e86d1fe6",
      "e3147a15e385446ca62afe25b309f5d7",
      "41d229d8a8c648ddb3591ad532af562b",
      "e6d0fe531623487d9ccd9150c062fe9a",
      "1de8a12bb7e64862a113ba86bf2debb0",
      "fab1802bb07045eaad18e6b2197ab5c0",
      "6200b17167354bffae81a189472a6cc6",
      "0de7466e848741ca900e20f20fae605a",
      "aa6d5c23020a458582c3d8f7edc82d2b",
      "3bf4f353021744e1835f992d9643fa5b",
      "ae705ec2d64f42eb86561dbbaaadb449",
      "248e7c182ecb4bc3b1de571bd01fcf12",
      "64ebc41c0ed144ffb64f0980901c06ab",
      "03aa7ea574fe4a69af4b86ce71780e9e",
      "6213f62d46084afeaf7b493b31a7af21",
      "5c7d42b9a9e84c93a0d5b13ec9e60158",
      "e434d54ff4f443c596794907ae92238e",
      "0da267fd1551460e90a40ed2fd9d2f38",
      "ea4a6c79200047deaf264e4618ce3e0c",
      "0ee6882367c742129bc7ddc0db159cdf",
      "8ad310a3bc3f4f8c93aed06036f9442d",
      "c98167b02d6e46a6b0a10968bb34e07d",
      "4986590559974871bb35bb7430fa1ea0",
      "fd1c2c76a417427ea038994bba5cd7fc",
      "37d3c23d12f9428384ab15ef03a83aab",
      "77a8da03c45548909b4bd5bb40a76690",
      "3db44825303c41979a4b8560bf78a411",
      "33269972cd004fe9a80beb0c74edd73b",
      "a3edb2fdbc944e649b6d4cd9325d4b92",
      "9b74f0986e934d3282fa42a7cee5a7b7",
      "7e281463ca9a4a8c9efbe87fe2e0c7b8",
      "8f3a488813654137936e3ce60733cf90",
      "7976b8fe69a844cb9f2541b5b72da37c",
      "04ba35e17be24f638a4190b3e5cadfba",
      "ec76e196f39f4e85a2120c38c5dbb430",
      "131cf7db18424a85adbc2e91e4e97311",
      "86adbfa5f9f940b18a9c083c607b8d6b",
      "163064efbe4a4e7f84b4d0ccb3552f5f",
      "c8c5b51d74bb42c099fd123a28b294dc",
      "b06d910ab6df403c9a01aa2edfe52712",
      "20015162c0a64fcdb572b4018fd61187",
      "d13ada86b4e541899c94fbf936c69ae3",
      "a7c72c57f3da43e096834058f9d60a6f",
      "0ffb1e5a95ff4c2a82d9a73144bbc1b1",
      "c8a8ecadc07245acadd1c3cfcfe4650a",
      "4b98f3ad42544d079944bb62537933d6",
      "fad7bfc260094008b310549e9a1fa73d",
      "7d1dc08470f24d4589c7699aa6a5d7df",
      "4085abae2000471ba1cd1748188357ca"
     ]
    },
    "id": "-pjzgiSXEe2C",
    "outputId": "64d810b4-5688-43f3-c0c3-3223bbf7ad6d",
    "tags": []
   },
   "outputs": [],
   "source": [
    "# # KoBERT 모델과 토크나이저 로드\n",
    "# from transformers import BertTokenizer"
   ]
  },
  {
   "cell_type": "code",
   "execution_count": 53,
   "metadata": {
    "colab": {
     "base_uri": "https://localhost:8080/",
     "height": 266,
     "referenced_widgets": [
      "f18932da04fb40dd857b5495c3ebd6cd",
      "6194b70b50b1497b9f1e12e3009dd377",
      "e88ea56191a340c78c2f4867b5323e80",
      "124d60c9444e43d1a374684687855c09",
      "f959346fc6194f8d996a709e0fc64c3c",
      "4e5dbc65c11a4c7ebc13f50d022e99f1",
      "b7c9f2e92bbb4fac941c38ab33249552",
      "b229e55719f747369067a427d5325340",
      "5d278444830f4e3686b95f0da58228e0",
      "c7a31b2a3b3e49ee95b407cc090eb1b4",
      "8faba5181bd54f458e097239f958d4bc",
      "7a045460f8324d8e952e93cc38fdee05",
      "57463dcad89744d78b0d5f7c87f64f57",
      "425289b7141a44e0b6f4546820803b9d",
      "bd3ca022193d4bfa91db1517642359fc",
      "f62b332ec330427294bd490b366000f5",
      "6e4d48d9021e4e2c88be11ffdfe5a819",
      "54de60b3ddd9411c9606cc38e86d1fe6",
      "e3147a15e385446ca62afe25b309f5d7",
      "41d229d8a8c648ddb3591ad532af562b",
      "e6d0fe531623487d9ccd9150c062fe9a",
      "1de8a12bb7e64862a113ba86bf2debb0",
      "fab1802bb07045eaad18e6b2197ab5c0",
      "6200b17167354bffae81a189472a6cc6",
      "0de7466e848741ca900e20f20fae605a",
      "aa6d5c23020a458582c3d8f7edc82d2b",
      "3bf4f353021744e1835f992d9643fa5b",
      "ae705ec2d64f42eb86561dbbaaadb449",
      "248e7c182ecb4bc3b1de571bd01fcf12",
      "64ebc41c0ed144ffb64f0980901c06ab",
      "03aa7ea574fe4a69af4b86ce71780e9e",
      "6213f62d46084afeaf7b493b31a7af21",
      "5c7d42b9a9e84c93a0d5b13ec9e60158",
      "e434d54ff4f443c596794907ae92238e",
      "0da267fd1551460e90a40ed2fd9d2f38",
      "ea4a6c79200047deaf264e4618ce3e0c",
      "0ee6882367c742129bc7ddc0db159cdf",
      "8ad310a3bc3f4f8c93aed06036f9442d",
      "c98167b02d6e46a6b0a10968bb34e07d",
      "4986590559974871bb35bb7430fa1ea0",
      "fd1c2c76a417427ea038994bba5cd7fc",
      "37d3c23d12f9428384ab15ef03a83aab",
      "77a8da03c45548909b4bd5bb40a76690",
      "3db44825303c41979a4b8560bf78a411",
      "33269972cd004fe9a80beb0c74edd73b",
      "a3edb2fdbc944e649b6d4cd9325d4b92",
      "9b74f0986e934d3282fa42a7cee5a7b7",
      "7e281463ca9a4a8c9efbe87fe2e0c7b8",
      "8f3a488813654137936e3ce60733cf90",
      "7976b8fe69a844cb9f2541b5b72da37c",
      "04ba35e17be24f638a4190b3e5cadfba",
      "ec76e196f39f4e85a2120c38c5dbb430",
      "131cf7db18424a85adbc2e91e4e97311",
      "86adbfa5f9f940b18a9c083c607b8d6b",
      "163064efbe4a4e7f84b4d0ccb3552f5f",
      "c8c5b51d74bb42c099fd123a28b294dc",
      "b06d910ab6df403c9a01aa2edfe52712",
      "20015162c0a64fcdb572b4018fd61187",
      "d13ada86b4e541899c94fbf936c69ae3",
      "a7c72c57f3da43e096834058f9d60a6f",
      "0ffb1e5a95ff4c2a82d9a73144bbc1b1",
      "c8a8ecadc07245acadd1c3cfcfe4650a",
      "4b98f3ad42544d079944bb62537933d6",
      "fad7bfc260094008b310549e9a1fa73d",
      "7d1dc08470f24d4589c7699aa6a5d7df",
      "4085abae2000471ba1cd1748188357ca"
     ]
    },
    "id": "-pjzgiSXEe2C",
    "outputId": "64d810b4-5688-43f3-c0c3-3223bbf7ad6d",
    "tags": []
   },
   "outputs": [
    {
     "name": "stderr",
     "output_type": "stream",
     "text": [
      "The tokenizer class you load from this checkpoint is not the same type as the class this function is called from. It may result in unexpected tokenization. \n",
      "The tokenizer class you load from this checkpoint is 'XLNetTokenizer'. \n",
      "The class this function is called from is 'KoBERTTokenizer'.\n",
      "Some weights of BertForSequenceClassification were not initialized from the model checkpoint at skt/kobert-base-v1 and are newly initialized: ['classifier.bias', 'classifier.weight']\n",
      "You should probably TRAIN this model on a down-stream task to be able to use it for predictions and inference.\n"
     ]
    }
   ],
   "source": [
    "# # koBERT\n",
    "# model_name = \"skt/kobert-base-v1\"\n",
    "# from kobert_tokenizer import KoBERTTokenizer\n",
    "# tokenizer = KoBERTTokenizer.from_pretrained(model_name)\n",
    "# model = AutoModelForSequenceClassification.from_pretrained(model_name, num_labels=len(label_dict))"
   ]
  },
  {
   "cell_type": "markdown",
   "metadata": {
    "tags": []
   },
   "source": [
    "### monologg/kobert"
   ]
  },
  {
   "cell_type": "code",
   "execution_count": 171,
   "metadata": {
    "tags": []
   },
   "outputs": [
    {
     "name": "stderr",
     "output_type": "stream",
     "text": [
      "Some weights of the model checkpoint at JuneKo/koBERT_parent_09252023_MLM were not used when initializing BertForSequenceClassification: ['cls.predictions.transform.dense.bias', 'cls.predictions.transform.dense.weight', 'cls.predictions.decoder.bias', 'cls.predictions.transform.LayerNorm.weight', 'cls.predictions.transform.LayerNorm.bias', 'cls.predictions.bias', 'cls.predictions.decoder.weight']\n",
      "- This IS expected if you are initializing BertForSequenceClassification from the checkpoint of a model trained on another task or with another architecture (e.g. initializing a BertForSequenceClassification model from a BertForPreTraining model).\n",
      "- This IS NOT expected if you are initializing BertForSequenceClassification from the checkpoint of a model that you expect to be exactly identical (initializing a BertForSequenceClassification model from a BertForSequenceClassification model).\n",
      "Some weights of BertForSequenceClassification were not initialized from the model checkpoint at JuneKo/koBERT_parent_09252023_MLM and are newly initialized: ['bert.pooler.dense.weight', 'classifier.bias', 'bert.pooler.dense.bias', 'classifier.weight']\n",
      "You should probably TRAIN this model on a down-stream task to be able to use it for predictions and inference.\n"
     ]
    }
   ],
   "source": [
    "# model_name = \"monologg/kobert\"\n",
    "model_name = \"JuneKo/koBERT_parent_09252023_MLM\"\n",
    "tokenizer = AutoTokenizer.from_pretrained(model_name)\n",
    "model = AutoModelForSequenceClassification.from_pretrained(model_name, num_labels=len(label_dict))"
   ]
  },
  {
   "cell_type": "markdown",
   "metadata": {},
   "source": [
    "## 2. kcBERT"
   ]
  },
  {
   "cell_type": "code",
   "execution_count": 198,
   "metadata": {
    "colab": {
     "base_uri": "https://localhost:8080/",
     "height": 266,
     "referenced_widgets": [
      "f18932da04fb40dd857b5495c3ebd6cd",
      "6194b70b50b1497b9f1e12e3009dd377",
      "e88ea56191a340c78c2f4867b5323e80",
      "124d60c9444e43d1a374684687855c09",
      "f959346fc6194f8d996a709e0fc64c3c",
      "4e5dbc65c11a4c7ebc13f50d022e99f1",
      "b7c9f2e92bbb4fac941c38ab33249552",
      "b229e55719f747369067a427d5325340",
      "5d278444830f4e3686b95f0da58228e0",
      "c7a31b2a3b3e49ee95b407cc090eb1b4",
      "8faba5181bd54f458e097239f958d4bc",
      "7a045460f8324d8e952e93cc38fdee05",
      "57463dcad89744d78b0d5f7c87f64f57",
      "425289b7141a44e0b6f4546820803b9d",
      "bd3ca022193d4bfa91db1517642359fc",
      "f62b332ec330427294bd490b366000f5",
      "6e4d48d9021e4e2c88be11ffdfe5a819",
      "54de60b3ddd9411c9606cc38e86d1fe6",
      "e3147a15e385446ca62afe25b309f5d7",
      "41d229d8a8c648ddb3591ad532af562b",
      "e6d0fe531623487d9ccd9150c062fe9a",
      "1de8a12bb7e64862a113ba86bf2debb0",
      "fab1802bb07045eaad18e6b2197ab5c0",
      "6200b17167354bffae81a189472a6cc6",
      "0de7466e848741ca900e20f20fae605a",
      "aa6d5c23020a458582c3d8f7edc82d2b",
      "3bf4f353021744e1835f992d9643fa5b",
      "ae705ec2d64f42eb86561dbbaaadb449",
      "248e7c182ecb4bc3b1de571bd01fcf12",
      "64ebc41c0ed144ffb64f0980901c06ab",
      "03aa7ea574fe4a69af4b86ce71780e9e",
      "6213f62d46084afeaf7b493b31a7af21",
      "5c7d42b9a9e84c93a0d5b13ec9e60158",
      "e434d54ff4f443c596794907ae92238e",
      "0da267fd1551460e90a40ed2fd9d2f38",
      "ea4a6c79200047deaf264e4618ce3e0c",
      "0ee6882367c742129bc7ddc0db159cdf",
      "8ad310a3bc3f4f8c93aed06036f9442d",
      "c98167b02d6e46a6b0a10968bb34e07d",
      "4986590559974871bb35bb7430fa1ea0",
      "fd1c2c76a417427ea038994bba5cd7fc",
      "37d3c23d12f9428384ab15ef03a83aab",
      "77a8da03c45548909b4bd5bb40a76690",
      "3db44825303c41979a4b8560bf78a411",
      "33269972cd004fe9a80beb0c74edd73b",
      "a3edb2fdbc944e649b6d4cd9325d4b92",
      "9b74f0986e934d3282fa42a7cee5a7b7",
      "7e281463ca9a4a8c9efbe87fe2e0c7b8",
      "8f3a488813654137936e3ce60733cf90",
      "7976b8fe69a844cb9f2541b5b72da37c",
      "04ba35e17be24f638a4190b3e5cadfba",
      "ec76e196f39f4e85a2120c38c5dbb430",
      "131cf7db18424a85adbc2e91e4e97311",
      "86adbfa5f9f940b18a9c083c607b8d6b",
      "163064efbe4a4e7f84b4d0ccb3552f5f",
      "c8c5b51d74bb42c099fd123a28b294dc",
      "b06d910ab6df403c9a01aa2edfe52712",
      "20015162c0a64fcdb572b4018fd61187",
      "d13ada86b4e541899c94fbf936c69ae3",
      "a7c72c57f3da43e096834058f9d60a6f",
      "0ffb1e5a95ff4c2a82d9a73144bbc1b1",
      "c8a8ecadc07245acadd1c3cfcfe4650a",
      "4b98f3ad42544d079944bb62537933d6",
      "fad7bfc260094008b310549e9a1fa73d",
      "7d1dc08470f24d4589c7699aa6a5d7df",
      "4085abae2000471ba1cd1748188357ca"
     ]
    },
    "id": "-pjzgiSXEe2C",
    "outputId": "64d810b4-5688-43f3-c0c3-3223bbf7ad6d",
    "tags": []
   },
   "outputs": [
    {
     "name": "stderr",
     "output_type": "stream",
     "text": [
      "Some weights of the model checkpoint at beomi/kcbert-base were not used when initializing BertForSequenceClassification: ['cls.predictions.transform.dense.bias', 'cls.seq_relationship.bias', 'cls.predictions.decoder.bias', 'cls.predictions.transform.dense.weight', 'cls.seq_relationship.weight', 'cls.predictions.transform.LayerNorm.weight', 'cls.predictions.transform.LayerNorm.bias', 'cls.predictions.bias', 'cls.predictions.decoder.weight']\n",
      "- This IS expected if you are initializing BertForSequenceClassification from the checkpoint of a model trained on another task or with another architecture (e.g. initializing a BertForSequenceClassification model from a BertForPreTraining model).\n",
      "- This IS NOT expected if you are initializing BertForSequenceClassification from the checkpoint of a model that you expect to be exactly identical (initializing a BertForSequenceClassification model from a BertForSequenceClassification model).\n",
      "Some weights of BertForSequenceClassification were not initialized from the model checkpoint at beomi/kcbert-base and are newly initialized: ['classifier.bias', 'classifier.weight']\n",
      "You should probably TRAIN this model on a down-stream task to be able to use it for predictions and inference.\n"
     ]
    }
   ],
   "source": [
    "# kcBERET\n",
    "model_name = \"beomi/kcbert-base\"\n",
    "# model_name = \"JuneKo/kcBERT_parent_09252023_MLM\"\n",
    "tokenizer = AutoTokenizer.from_pretrained(model_name)\n",
    "model = AutoModelForSequenceClassification.from_pretrained(model_name, num_labels=len(label_dict))"
   ]
  },
  {
   "cell_type": "markdown",
   "metadata": {},
   "source": [
    "## 3. kcELECTRA"
   ]
  },
  {
   "cell_type": "code",
   "execution_count": 128,
   "metadata": {
    "colab": {
     "base_uri": "https://localhost:8080/",
     "height": 266,
     "referenced_widgets": [
      "f18932da04fb40dd857b5495c3ebd6cd",
      "6194b70b50b1497b9f1e12e3009dd377",
      "e88ea56191a340c78c2f4867b5323e80",
      "124d60c9444e43d1a374684687855c09",
      "f959346fc6194f8d996a709e0fc64c3c",
      "4e5dbc65c11a4c7ebc13f50d022e99f1",
      "b7c9f2e92bbb4fac941c38ab33249552",
      "b229e55719f747369067a427d5325340",
      "5d278444830f4e3686b95f0da58228e0",
      "c7a31b2a3b3e49ee95b407cc090eb1b4",
      "8faba5181bd54f458e097239f958d4bc",
      "7a045460f8324d8e952e93cc38fdee05",
      "57463dcad89744d78b0d5f7c87f64f57",
      "425289b7141a44e0b6f4546820803b9d",
      "bd3ca022193d4bfa91db1517642359fc",
      "f62b332ec330427294bd490b366000f5",
      "6e4d48d9021e4e2c88be11ffdfe5a819",
      "54de60b3ddd9411c9606cc38e86d1fe6",
      "e3147a15e385446ca62afe25b309f5d7",
      "41d229d8a8c648ddb3591ad532af562b",
      "e6d0fe531623487d9ccd9150c062fe9a",
      "1de8a12bb7e64862a113ba86bf2debb0",
      "fab1802bb07045eaad18e6b2197ab5c0",
      "6200b17167354bffae81a189472a6cc6",
      "0de7466e848741ca900e20f20fae605a",
      "aa6d5c23020a458582c3d8f7edc82d2b",
      "3bf4f353021744e1835f992d9643fa5b",
      "ae705ec2d64f42eb86561dbbaaadb449",
      "248e7c182ecb4bc3b1de571bd01fcf12",
      "64ebc41c0ed144ffb64f0980901c06ab",
      "03aa7ea574fe4a69af4b86ce71780e9e",
      "6213f62d46084afeaf7b493b31a7af21",
      "5c7d42b9a9e84c93a0d5b13ec9e60158",
      "e434d54ff4f443c596794907ae92238e",
      "0da267fd1551460e90a40ed2fd9d2f38",
      "ea4a6c79200047deaf264e4618ce3e0c",
      "0ee6882367c742129bc7ddc0db159cdf",
      "8ad310a3bc3f4f8c93aed06036f9442d",
      "c98167b02d6e46a6b0a10968bb34e07d",
      "4986590559974871bb35bb7430fa1ea0",
      "fd1c2c76a417427ea038994bba5cd7fc",
      "37d3c23d12f9428384ab15ef03a83aab",
      "77a8da03c45548909b4bd5bb40a76690",
      "3db44825303c41979a4b8560bf78a411",
      "33269972cd004fe9a80beb0c74edd73b",
      "a3edb2fdbc944e649b6d4cd9325d4b92",
      "9b74f0986e934d3282fa42a7cee5a7b7",
      "7e281463ca9a4a8c9efbe87fe2e0c7b8",
      "8f3a488813654137936e3ce60733cf90",
      "7976b8fe69a844cb9f2541b5b72da37c",
      "04ba35e17be24f638a4190b3e5cadfba",
      "ec76e196f39f4e85a2120c38c5dbb430",
      "131cf7db18424a85adbc2e91e4e97311",
      "86adbfa5f9f940b18a9c083c607b8d6b",
      "163064efbe4a4e7f84b4d0ccb3552f5f",
      "c8c5b51d74bb42c099fd123a28b294dc",
      "b06d910ab6df403c9a01aa2edfe52712",
      "20015162c0a64fcdb572b4018fd61187",
      "d13ada86b4e541899c94fbf936c69ae3",
      "a7c72c57f3da43e096834058f9d60a6f",
      "0ffb1e5a95ff4c2a82d9a73144bbc1b1",
      "c8a8ecadc07245acadd1c3cfcfe4650a",
      "4b98f3ad42544d079944bb62537933d6",
      "fad7bfc260094008b310549e9a1fa73d",
      "7d1dc08470f24d4589c7699aa6a5d7df",
      "4085abae2000471ba1cd1748188357ca"
     ]
    },
    "id": "-pjzgiSXEe2C",
    "outputId": "64d810b4-5688-43f3-c0c3-3223bbf7ad6d",
    "tags": []
   },
   "outputs": [
    {
     "name": "stderr",
     "output_type": "stream",
     "text": [
      "Some weights of the model checkpoint at JuneKo/kcELECTRA_parent_09252023_MLM were not used when initializing ElectraForSequenceClassification: ['generator_predictions.dense.weight', 'generator_predictions.LayerNorm.bias', 'generator_predictions.LayerNorm.weight', 'generator_predictions.dense.bias', 'generator_lm_head.bias', 'generator_lm_head.weight']\n",
      "- This IS expected if you are initializing ElectraForSequenceClassification from the checkpoint of a model trained on another task or with another architecture (e.g. initializing a BertForSequenceClassification model from a BertForPreTraining model).\n",
      "- This IS NOT expected if you are initializing ElectraForSequenceClassification from the checkpoint of a model that you expect to be exactly identical (initializing a BertForSequenceClassification model from a BertForSequenceClassification model).\n",
      "Some weights of ElectraForSequenceClassification were not initialized from the model checkpoint at JuneKo/kcELECTRA_parent_09252023_MLM and are newly initialized: ['classifier.dense.bias', 'classifier.out_proj.weight', 'classifier.dense.weight', 'classifier.out_proj.bias']\n",
      "You should probably TRAIN this model on a down-stream task to be able to use it for predictions and inference.\n"
     ]
    }
   ],
   "source": [
    "#kcELECTRA\n",
    "# model_name = \"beomi/KcELECTRA-base-v2022\"\n",
    "model_name = \"JuneKo/kcELECTRA_parent_09252023_MLM\"\n",
    "tokenizer = AutoTokenizer.from_pretrained(model_name)\n",
    "model = AutoModelForSequenceClassification.from_pretrained(model_name, num_labels=len(label_dict))"
   ]
  },
  {
   "cell_type": "markdown",
   "metadata": {
    "id": "vJip88v7Ee2B"
   },
   "source": [
    "# split data"
   ]
  },
  {
   "cell_type": "code",
   "execution_count": 124,
   "metadata": {
    "id": "lgxUMQWbEe2B",
    "outputId": "671a2172-c717-4639-e732-7edcec80e07a",
    "tags": []
   },
   "outputs": [
    {
     "data": {
      "text/plain": [
       "54343"
      ]
     },
     "execution_count": 124,
     "metadata": {},
     "output_type": "execute_result"
    }
   ],
   "source": [
    "len(tokenizer)"
   ]
  },
  {
   "cell_type": "code",
   "execution_count": 125,
   "metadata": {
    "id": "p4jlJKciEe2B",
    "outputId": "2d8065c6-bde3-4553-e248-5e7bd0967e96",
    "tags": []
   },
   "outputs": [
    {
     "data": {
      "text/plain": [
       "8"
      ]
     },
     "execution_count": 125,
     "metadata": {},
     "output_type": "execute_result"
    }
   ],
   "source": [
    "len(labels)"
   ]
  },
  {
   "cell_type": "code",
   "execution_count": 199,
   "metadata": {
    "colab": {
     "base_uri": "https://localhost:8080/",
     "height": 266,
     "referenced_widgets": [
      "f18932da04fb40dd857b5495c3ebd6cd",
      "6194b70b50b1497b9f1e12e3009dd377",
      "e88ea56191a340c78c2f4867b5323e80",
      "124d60c9444e43d1a374684687855c09",
      "f959346fc6194f8d996a709e0fc64c3c",
      "4e5dbc65c11a4c7ebc13f50d022e99f1",
      "b7c9f2e92bbb4fac941c38ab33249552",
      "b229e55719f747369067a427d5325340",
      "5d278444830f4e3686b95f0da58228e0",
      "c7a31b2a3b3e49ee95b407cc090eb1b4",
      "8faba5181bd54f458e097239f958d4bc",
      "7a045460f8324d8e952e93cc38fdee05",
      "57463dcad89744d78b0d5f7c87f64f57",
      "425289b7141a44e0b6f4546820803b9d",
      "bd3ca022193d4bfa91db1517642359fc",
      "f62b332ec330427294bd490b366000f5",
      "6e4d48d9021e4e2c88be11ffdfe5a819",
      "54de60b3ddd9411c9606cc38e86d1fe6",
      "e3147a15e385446ca62afe25b309f5d7",
      "41d229d8a8c648ddb3591ad532af562b",
      "e6d0fe531623487d9ccd9150c062fe9a",
      "1de8a12bb7e64862a113ba86bf2debb0",
      "fab1802bb07045eaad18e6b2197ab5c0",
      "6200b17167354bffae81a189472a6cc6",
      "0de7466e848741ca900e20f20fae605a",
      "aa6d5c23020a458582c3d8f7edc82d2b",
      "3bf4f353021744e1835f992d9643fa5b",
      "ae705ec2d64f42eb86561dbbaaadb449",
      "248e7c182ecb4bc3b1de571bd01fcf12",
      "64ebc41c0ed144ffb64f0980901c06ab",
      "03aa7ea574fe4a69af4b86ce71780e9e",
      "6213f62d46084afeaf7b493b31a7af21",
      "5c7d42b9a9e84c93a0d5b13ec9e60158",
      "e434d54ff4f443c596794907ae92238e",
      "0da267fd1551460e90a40ed2fd9d2f38",
      "ea4a6c79200047deaf264e4618ce3e0c",
      "0ee6882367c742129bc7ddc0db159cdf",
      "8ad310a3bc3f4f8c93aed06036f9442d",
      "c98167b02d6e46a6b0a10968bb34e07d",
      "4986590559974871bb35bb7430fa1ea0",
      "fd1c2c76a417427ea038994bba5cd7fc",
      "37d3c23d12f9428384ab15ef03a83aab",
      "77a8da03c45548909b4bd5bb40a76690",
      "3db44825303c41979a4b8560bf78a411",
      "33269972cd004fe9a80beb0c74edd73b",
      "a3edb2fdbc944e649b6d4cd9325d4b92",
      "9b74f0986e934d3282fa42a7cee5a7b7",
      "7e281463ca9a4a8c9efbe87fe2e0c7b8",
      "8f3a488813654137936e3ce60733cf90",
      "7976b8fe69a844cb9f2541b5b72da37c",
      "04ba35e17be24f638a4190b3e5cadfba",
      "ec76e196f39f4e85a2120c38c5dbb430",
      "131cf7db18424a85adbc2e91e4e97311",
      "86adbfa5f9f940b18a9c083c607b8d6b",
      "163064efbe4a4e7f84b4d0ccb3552f5f",
      "c8c5b51d74bb42c099fd123a28b294dc",
      "b06d910ab6df403c9a01aa2edfe52712",
      "20015162c0a64fcdb572b4018fd61187",
      "d13ada86b4e541899c94fbf936c69ae3",
      "a7c72c57f3da43e096834058f9d60a6f",
      "0ffb1e5a95ff4c2a82d9a73144bbc1b1",
      "c8a8ecadc07245acadd1c3cfcfe4650a",
      "4b98f3ad42544d079944bb62537933d6",
      "fad7bfc260094008b310549e9a1fa73d",
      "7d1dc08470f24d4589c7699aa6a5d7df",
      "4085abae2000471ba1cd1748188357ca"
     ]
    },
    "id": "-pjzgiSXEe2C",
    "outputId": "64d810b4-5688-43f3-c0c3-3223bbf7ad6d",
    "tags": []
   },
   "outputs": [],
   "source": [
    "texts = []\n",
    "labels = []\n",
    "\n",
    "for idx, label in rawdata.iterrows():\n",
    "  texts.append(label['speech'])\n",
    "  labels.append(label['label_ct'])\n",
    "\n",
    "# 원하는 최대 시퀀스 길이\n",
    "max_length = 16\n",
    "\n",
    "labels = torch.tensor(labels, dtype=torch.long)\n",
    "dataset = CustomDataset(texts, labels, tokenizer, max_length)\n",
    "\n",
    "# 데이터 로더 생성\n",
    "batch_size = 11\n",
    "\n",
    "# Train / Test set 분리\n",
    "from sklearn.model_selection import train_test_split\n",
    "train, valid = train_test_split(dataset, test_size=0.15, random_state=42)\n",
    "\n",
    "train_dataloader = DataLoader(train, batch_size=batch_size, shuffle=True)\n",
    "valid_dataloader = DataLoader(valid, batch_size=batch_size, shuffle=True)"
   ]
  },
  {
   "cell_type": "markdown",
   "metadata": {},
   "source": [
    "## balanced - oversampling"
   ]
  },
  {
   "cell_type": "code",
   "execution_count": 21,
   "metadata": {
    "tags": []
   },
   "outputs": [],
   "source": [
    "# !pip show scikit-learn\n",
    "# !pip install --upgrade scikit-learn\n",
    "# !pip show imbalanced-learn\n",
    "# !pip install --upgrade imbalanced-learn"
   ]
  },
  {
   "cell_type": "code",
   "execution_count": 20,
   "metadata": {
    "tags": []
   },
   "outputs": [],
   "source": [
    "# import pandas as pd\n",
    "# from sklearn.model_selection import train_test_split\n",
    "# from sklearn.utils import resample\n",
    "# import torch\n",
    "# from torch.utils.data import DataLoader\n",
    "\n",
    "# # 데이터프레임으로 변환\n",
    "# rawdata = pd.DataFrame({'speech': rawdata['speech'], 'label_ct': rawdata['label_ct']})\n",
    "\n",
    "# # 원하는 최대 시퀀스 길이\n",
    "# max_length = 16\n",
    "\n",
    "# # labels와 texts 추출\n",
    "# labels = rawdata['label_ct']\n",
    "# texts = rawdata['speech']\n",
    "\n",
    "# # Train 및 Validation 데이터로 분할\n",
    "# X_train, X_valid, y_train, y_valid = train_test_split(texts, labels, test_size=0.15, random_state=42)\n",
    "\n",
    "# # Train 데이터를 데이터프레임으로 변환\n",
    "# train_df = pd.DataFrame({'speech': X_train, 'label_ct': y_train})\n",
    "# valid_df = pd.DataFrame({'speech': X_valid, 'label_ct': y_valid})\n",
    "\n",
    "# # 소수 클래스와 다수 클래스로 분할\n",
    "# minority_class = train_df[train_df['label_ct'] == 6]  # 'label_ct'는 클래스 레이블 컬럼 이름으로 바꿔주세요.\n",
    "# majority_class = train_df[train_df['label_ct'] == 2]\n",
    "\n",
    "# # 소수 클래스 오버샘플링\n",
    "# minority_class_oversampled = resample(minority_class,\n",
    "#                                        replace=True,  # 복원 추출\n",
    "#                                        n_samples=len(majority_class),  # 다수 클래스와 같은 수로 오버샘플링\n",
    "#                                        random_state=42)\n",
    "\n",
    "# # 오버샘플링된 소수 클래스와 다수 클래스 결합\n",
    "# filtered_train_df = train_df[train_df['label_ct'] != 6]\n",
    "# oversampled_train_df = pd.concat([filtered_train_df, minority_class_oversampled])\n",
    "\n",
    "# train_texts = []\n",
    "# train_labels = []\n",
    "# valid_texts = []\n",
    "# valid_labels = []\n",
    "# for idx, label in oversampled_train_df.iterrows():\n",
    "#   train_texts.append(label['speech'])\n",
    "#   train_labels.append(label['label_ct'])\n",
    "\n",
    "# for idx, label in valid_df.iterrows():\n",
    "#   valid_texts.append(label['speech'])\n",
    "#   valid_labels.append(label['label_ct'])\n",
    "\n",
    "# train_labels = torch.tensor(train_labels, dtype=torch.long)\n",
    "# train_dataset = CustomDataset(train_texts, train_labels, tokenizer, max_length)\n",
    "# valid_labels = torch.tensor(valid_labels, dtype=torch.long)\n",
    "# valid_dataset = CustomDataset(valid_texts, labels, tokenizer, max_length)\n",
    "\n",
    "# # # 'speech' 컬럼은 텍스트 데이터입니다.\n",
    "# # oversampled_texts = oversampled_train_df['speech'].values\n",
    "# # valid_texts = valid_df['speech'].values\n",
    "\n",
    "# # # 'label_ct' 컬럼은 레이블입니다.\n",
    "# # oversampled_labels = oversampled_train_df['label_ct'].values\n",
    "# # valid_labels = valid_df['label_ct'].values\n",
    "\n",
    "# # 토크나이저를 사용하여 텍스트를 토큰으로 변환합니다.\n",
    "# # encoded_oversampled_texts = tokenizer(oversampled_texts, padding=True, truncation=True, return_tensors='pt')\n",
    "# # encoded_valid_texts = tokenizer(valid_texts, padding=True, truncation=True, return_tensors='pt')\n",
    "\n",
    "\n",
    "# # dataset = CustomDataset(texts, labels, tokenizer, max_length)\n",
    "\n",
    "# # DataLoader 생성\n",
    "# # train_dataset = TensorDataset(encoded_oversampled_texts['input_ids'], encoded_oversampled_texts['attention_mask'], torch.tensor(oversampled_labels, dtype=torch.long))\n",
    "# train_dataloader = DataLoader(train_dataset, batch_size=batch_size, shuffle=True)\n",
    "# # valid_dataset = CustomDataset(encoded_oversampled_texts['input_ids'], encoded_oversampled_texts['attention_mask'], torch.tensor(oversampled_labels, dtype=torch.long))\n",
    "# valid_dataloader = DataLoader(valid_dataset, batch_size=batch_size, shuffle=True)\n",
    "\n",
    "# # 이제 oversampled_train_dataloader를 사용하여 오버샘플링된 Train 데이터셋으로 학습을 진행합니다.\n"
   ]
  },
  {
   "cell_type": "code",
   "execution_count": 142,
   "metadata": {
    "tags": []
   },
   "outputs": [
    {
     "data": {
      "text/html": [
       "<div>\n",
       "<style scoped>\n",
       "    .dataframe tbody tr th:only-of-type {\n",
       "        vertical-align: middle;\n",
       "    }\n",
       "\n",
       "    .dataframe tbody tr th {\n",
       "        vertical-align: top;\n",
       "    }\n",
       "\n",
       "    .dataframe thead th {\n",
       "        text-align: right;\n",
       "    }\n",
       "</style>\n",
       "<table border=\"1\" class=\"dataframe\">\n",
       "  <thead>\n",
       "    <tr style=\"text-align: right;\">\n",
       "      <th></th>\n",
       "      <th>label_ct</th>\n",
       "    </tr>\n",
       "    <tr>\n",
       "      <th>label_ct</th>\n",
       "      <th></th>\n",
       "    </tr>\n",
       "  </thead>\n",
       "  <tbody>\n",
       "    <tr>\n",
       "      <th>0</th>\n",
       "      <td>977</td>\n",
       "    </tr>\n",
       "    <tr>\n",
       "      <th>1</th>\n",
       "      <td>543</td>\n",
       "    </tr>\n",
       "    <tr>\n",
       "      <th>2</th>\n",
       "      <td>568</td>\n",
       "    </tr>\n",
       "    <tr>\n",
       "      <th>3</th>\n",
       "      <td>762</td>\n",
       "    </tr>\n",
       "    <tr>\n",
       "      <th>4</th>\n",
       "      <td>616</td>\n",
       "    </tr>\n",
       "    <tr>\n",
       "      <th>5</th>\n",
       "      <td>646</td>\n",
       "    </tr>\n",
       "    <tr>\n",
       "      <th>6</th>\n",
       "      <td>568</td>\n",
       "    </tr>\n",
       "    <tr>\n",
       "      <th>7</th>\n",
       "      <td>626</td>\n",
       "    </tr>\n",
       "  </tbody>\n",
       "</table>\n",
       "</div>"
      ],
      "text/plain": [
       "          label_ct\n",
       "label_ct          \n",
       "0              977\n",
       "1              543\n",
       "2              568\n",
       "3              762\n",
       "4              616\n",
       "5              646\n",
       "6              568\n",
       "7              626"
      ]
     },
     "execution_count": 142,
     "metadata": {},
     "output_type": "execute_result"
    }
   ],
   "source": [
    "distrubution_data4 = oversampled_train_df.groupby(by='label_ct')[['label_ct']].count()\n",
    "# distrubution_data.columns=['label', 'frequency']\n",
    "distrubution_data4"
   ]
  },
  {
   "cell_type": "code",
   "execution_count": 125,
   "metadata": {
    "tags": []
   },
   "outputs": [
    {
     "name": "stdout",
     "output_type": "stream",
     "text": [
      "<torch.utils.data.dataloader.DataLoader object at 0x7f1c289bb850>\n"
     ]
    }
   ],
   "source": [
    "print(train_dataloader)"
   ]
  },
  {
   "cell_type": "code",
   "execution_count": null,
   "metadata": {
    "id": "oy2cxOWnEe2C",
    "outputId": "cab96556-b3cd-420a-de9d-cc5304f289a1",
    "tags": []
   },
   "outputs": [],
   "source": [
    "# test"
   ]
  },
  {
   "cell_type": "code",
   "execution_count": 75,
   "metadata": {
    "id": "jRKMeM5XEe2C",
    "outputId": "a9fadfe5-2cbb-4e7f-e0b1-f556d14d8f76",
    "tags": []
   },
   "outputs": [
    {
     "data": {
      "text/plain": [
       "(4885, 863)"
      ]
     },
     "execution_count": 75,
     "metadata": {},
     "output_type": "execute_result"
    }
   ],
   "source": [
    "len(train), len(valid)"
   ]
  },
  {
   "cell_type": "code",
   "execution_count": null,
   "metadata": {
    "id": "IqL-BDkAEe2C",
    "tags": []
   },
   "outputs": [],
   "source": [
    "# rawdata['data_type'] = ['not_set']*rawdata.shape[0]\n",
    "\n",
    "# rawdata.loc[train, 'data_type'] = 'train'\n",
    "# rawdata.loc[valid, 'data_type'] = 'val'"
   ]
  },
  {
   "cell_type": "code",
   "execution_count": null,
   "metadata": {
    "id": "n08uAyXWEe2C",
    "outputId": "dec42d37-d76b-4413-9e1e-ea0f8f540921",
    "tags": []
   },
   "outputs": [],
   "source": [
    "# rawdata.groupby(['label', 'label_ct', 'data_type']).count()"
   ]
  },
  {
   "cell_type": "code",
   "execution_count": null,
   "metadata": {
    "id": "lTzpgGeuEe2C",
    "outputId": "065c0a0a-1ccd-4b16-9281-f3a224c551f5",
    "tags": []
   },
   "outputs": [],
   "source": [
    "# tokenizer.decode(dataset[0]['input_ids'], skip_special_tokens=True)"
   ]
  },
  {
   "cell_type": "markdown",
   "metadata": {
    "id": "xTSWX6yGEe2C"
   },
   "source": [
    "# train"
   ]
  },
  {
   "cell_type": "code",
   "execution_count": 200,
   "metadata": {
    "colab": {
     "base_uri": "https://localhost:8080/"
    },
    "id": "tmhyztjR5qOa",
    "outputId": "f65e0b9d-07a3-4fc7-950d-a980a461416e",
    "tags": []
   },
   "outputs": [
    {
     "name": "stdout",
     "output_type": "stream",
     "text": [
      "beomi/kcbert-base\n",
      "True\n"
     ]
    },
    {
     "name": "stderr",
     "output_type": "stream",
     "text": [
      "/home/tools/anaconda/lib/python3.11/site-packages/transformers/optimization.py:407: FutureWarning: This implementation of AdamW is deprecated and will be removed in a future version. Use the PyTorch implementation torch.optim.AdamW instead, or set `no_deprecation_warning=True` to disable this warning\n",
      "  warnings.warn(\n"
     ]
    },
    {
     "name": "stdout",
     "output_type": "stream",
     "text": [
      "Epoch 1/3 - Avg Loss: 1.0920\n",
      "Validation Loss: 0.8275 - Validation Accuracy: 0.7416 - F1 Score: 0.7432\n",
      "Epoch 2/3 - Avg Loss: 0.6610\n",
      "Validation Loss: 0.7901 - Validation Accuracy: 0.7462 - F1 Score: 0.7447\n",
      "Epoch 3/3 - Avg Loss: 0.4976\n",
      "Validation Loss: 0.8437 - Validation Accuracy: 0.7346 - F1 Score: 0.7309\n"
     ]
    }
   ],
   "source": [
    "print(model_name)\n",
    "device = torch.device(\"cuda:0\" if torch.cuda.is_available() else \"cpu\")\n",
    "print(torch.cuda.is_available())\n",
    "model = model.to(device)\n",
    "\n",
    "# 하이퍼파라미터 설정\n",
    "learning_rate = 1e-5\n",
    "epochs = 3\n",
    "\n",
    "# 옵티마이저 및 손실 함수 설정\n",
    "optimizer = AdamW(model.parameters(), lr=learning_rate)\n",
    "criterion = nn.CrossEntropyLoss()\n",
    "\n",
    "# # weight for imbalanced class\n",
    "# # 클래스 당 데이터 수\n",
    "# class_counts = np.array([1136,619,704,910,755,716,224,684])\n",
    "\n",
    "# # 클래스 빈도의 역수 계산\n",
    "# class_weights = 1.0 / class_counts\n",
    "\n",
    "# # 가장 작은 역수 값을 1로 정규화\n",
    "# class_weights /= min(class_weights)\n",
    "# class_weights = torch.tensor(class_weights, dtype=torch.float32).to(device)\n",
    "\n",
    "# # 손실 함수 초기화\n",
    "# criterion = nn.CrossEntropyLoss(weight=class_weights)\n",
    "\n",
    "# metrcis 초기화\n",
    "training_loss = []\n",
    "validation_loss = []\n",
    "Accuracy =[]\n",
    "F1 =[]\n",
    "\n",
    "# 모델 재학습\n",
    "for epoch in range(epochs):\n",
    "    model.train()\n",
    "    total_loss = 0\n",
    "    correct = 0\n",
    "    total = 0\n",
    "    all_val_preds = []\n",
    "    all_val_labels = []\n",
    "\n",
    "    for batch in train_dataloader:\n",
    "        input_ids = batch['input_ids']\n",
    "        attention_mask = batch['attention_mask']\n",
    "        labels = batch['label']\n",
    "\n",
    "        input_ids = input_ids.to(device)\n",
    "        attention_mask = attention_mask.to(device)\n",
    "        labels = labels.to(device)\n",
    "\n",
    "        # 그래디언트 초기화\n",
    "        optimizer.zero_grad()\n",
    "        # 모델에 입력을 주어 예측을 생성합니다.\n",
    "        outputs = model(input_ids, attention_mask=attention_mask)\n",
    "        # 모델 출력에서 로짓(분류에 대한 점수)을 얻습니다.\n",
    "        logits = outputs.logits\n",
    "        # 손실을 계산합니다.\n",
    "        loss = criterion(logits, labels)\n",
    "        # 역전파를 통해 그래디언트 계산\n",
    "        loss.backward()\n",
    "        # 옵티마이저를 사용해 가중치를 업데이트\n",
    "        optimizer.step()\n",
    "        # 에포크 전체 손실을 누적합니다.\n",
    "        total_loss += loss.item()\n",
    "\n",
    "    # 에포크 평균 손실 계산\n",
    "    avg_loss = total_loss / len(train_dataloader)\n",
    "    # 에포크별 손실 출력\n",
    "    print(f\"Epoch {epoch+1}/{epochs} - Avg Loss: {avg_loss:.4f}\")\n",
    "\n",
    "    # 모델 평가\n",
    "    model.eval()\n",
    "    val_total_loss = 0\n",
    "    correct = 0\n",
    "    total = 0\n",
    "\n",
    "    with torch.no_grad():\n",
    "        for val_batch in valid_dataloader:\n",
    "            # Validation 데이터 가져오기\n",
    "            val_input_ids = val_batch['input_ids']\n",
    "            val_attention_mask = val_batch['attention_mask']\n",
    "            val_labels = val_batch['label']\n",
    "\n",
    "            val_input_ids = val_input_ids.to(device)\n",
    "            val_attention_mask = val_attention_mask.to(device)\n",
    "            val_labels = val_labels.to(device)\n",
    "\n",
    "            # 모델 예측\n",
    "            val_outputs = model(val_input_ids, attention_mask=val_attention_mask)\n",
    "            val_logits = val_outputs.logits\n",
    "\n",
    "            # 손실 계산\n",
    "            val_loss = criterion(val_logits, val_labels)\n",
    "            val_total_loss += val_loss.item()\n",
    "\n",
    "            # 정확도 계산\n",
    "            val_preds = val_logits.argmax(dim=1)\n",
    "            correct += (val_preds == val_labels).sum().item()\n",
    "            total += val_labels.size(0)\n",
    "            \n",
    "            # F1 점수 계산을 위해 모든 예측과 레이블을 저장\n",
    "            all_val_preds.extend(val_preds.cpu().numpy())\n",
    "            all_val_labels.extend(val_labels.cpu().numpy())\n",
    "\n",
    "    val_avg_loss = val_total_loss / len(valid_dataloader)\n",
    "    val_accuracy = correct / total\n",
    "    \n",
    "    # F1 점수 계산\n",
    "    f1 = f1_score(all_val_labels, all_val_preds, average='weighted')\n",
    "    \n",
    "    training_loss.append(avg_loss)\n",
    "    validation_loss.append(val_avg_loss)\n",
    "    Accuracy.append(val_accuracy)\n",
    "    F1.append(f1)\n",
    "\n",
    "    print(f\"Validation Loss: {val_avg_loss:.4f} - Validation Accuracy: {val_accuracy:.4f} - F1 Score: {f1:.4f}\")\n",
    "    \n",
    "# https://www.thedatahunt.com/trend-insight/f1-score"
   ]
  },
  {
   "cell_type": "code",
   "execution_count": 63,
   "metadata": {
    "tags": []
   },
   "outputs": [
    {
     "data": {
      "text/plain": [
       "array([1.        , 1.83521809, 1.61363636, 1.24835165, 1.50463576,\n",
       "       1.58659218, 5.07142857, 1.66081871])"
      ]
     },
     "execution_count": 63,
     "metadata": {},
     "output_type": "execute_result"
    }
   ],
   "source": [
    "class_weights"
   ]
  },
  {
   "cell_type": "markdown",
   "metadata": {},
   "source": [
    "# result"
   ]
  },
  {
   "cell_type": "code",
   "execution_count": 201,
   "metadata": {
    "tags": []
   },
   "outputs": [
    {
     "name": "stdout",
     "output_type": "stream",
     "text": [
      "beomi/kcbert-base\n",
      "F1 Score for class 0: 0.6651\n",
      "F1 Score for class 1: 0.7500\n",
      "F1 Score for class 2: 0.4000\n",
      "F1 Score for class 3: 0.8425\n",
      "F1 Score for class 4: 0.7664\n",
      "F1 Score for class 5: 0.7751\n",
      "F1 Score for class 6: 0.7356\n",
      "F1 Score for class 7: 0.8869\n",
      "Confusion Matrix:\n",
      "[[138  10   9   8   5   5   4   7]\n",
      " [ 16  66   0   2   1   4   1   0]\n",
      " [ 40   1  30   4  10   0   5   0]\n",
      " [  7   3   1 107   1   6   0   0]\n",
      " [ 15   0  10   2  82   0   0   5]\n",
      " [ 10   6   9   6   1  81   0   0]\n",
      " [  1   0   1   0   0   0  32   1]\n",
      " [  2   0   0   0   0   0  10  98]]\n",
      "Classification Report:\n",
      "              precision    recall  f1-score   support\n",
      "\n",
      "           0       0.60      0.74      0.67       186\n",
      "           1       0.77      0.73      0.75        90\n",
      "           2       0.50      0.33      0.40        90\n",
      "           3       0.83      0.86      0.84       125\n",
      "           4       0.82      0.72      0.77       114\n",
      "           5       0.84      0.72      0.78       113\n",
      "           6       0.62      0.91      0.74        35\n",
      "           7       0.88      0.89      0.89       110\n",
      "\n",
      "    accuracy                           0.73       863\n",
      "   macro avg       0.73      0.74      0.73       863\n",
      "weighted avg       0.74      0.73      0.73       863\n",
      "\n"
     ]
    }
   ],
   "source": [
    "from sklearn.metrics import confusion_matrix, classification_report, f1_score\n",
    "\n",
    "print(model_name)\n",
    "\n",
    "# 모든 검증 데이터에 대한 예측과 레이블을 저장한 리스트를 사용\n",
    "confusion = confusion_matrix(all_val_labels, all_val_preds)\n",
    "\n",
    "# F1 점수를 계산\n",
    "f1_scores = f1_score(all_val_labels, all_val_preds, average=None)\n",
    "\n",
    "# 클래스별 F1 점수 출력\n",
    "for class_index, f1 in enumerate(f1_scores):\n",
    "    print(f\"F1 Score for class {class_index}: {f1:.4f}\")\n",
    "\n",
    "# 혼동 행렬 출력\n",
    "print(\"Confusion Matrix:\")\n",
    "print(confusion)\n",
    "\n",
    "# 분류 보고서 출력\n",
    "print(\"Classification Report:\")\n",
    "print(classification_report(all_val_labels, all_val_preds))"
   ]
  },
  {
   "cell_type": "code",
   "execution_count": 202,
   "metadata": {
    "tags": []
   },
   "outputs": [
    {
     "data": {
      "image/png": "[encoded data removed]",
      "text/plain": [
       "<Figure size 800x600 with 1 Axes>"
      ]
     },
     "metadata": {},
     "output_type": "display_data"
    }
   ],
   "source": [
    "# 오차 행렬 계산\n",
    "cm = confusion_matrix(all_val_labels, all_val_preds)\n",
    "\n",
    "# 각 셀 값을 비율로 변환\n",
    "cm = cm.astype('float') / cm.sum(axis=1)[:, np.newaxis]\n",
    "\n",
    "# 오차 행렬 시각화\n",
    "plt.figure(figsize=(8, 6))\n",
    "sns.heatmap(cm, annot=True, fmt='.2f', cmap='Blues', cbar=False)\n",
    "plt.xlabel('Predicted')\n",
    "plt.ylabel('Actual')\n",
    "plt.title('KcBERT Confusion Matrix (Normalized)')\n",
    "\n",
    "plt.savefig(f\"{'result_image/KcBERT_Confusion_Matrix'}.png\", dpi=300)\n",
    "plt.show()\n",
    "\n"
   ]
  },
  {
   "cell_type": "code",
   "execution_count": 94,
   "metadata": {
    "tags": []
   },
   "outputs": [
    {
     "data": {
      "text/plain": [
       "{0: '일반적인 말',\n",
       " 1: '부정적인 말',\n",
       " 2: '반영',\n",
       " 3: '지시',\n",
       " 4: '행동 묘사',\n",
       " 5: '질문',\n",
       " 6: '일반적인 칭찬',\n",
       " 7: '구체적인 칭찬'}"
      ]
     },
     "execution_count": 94,
     "metadata": {},
     "output_type": "execute_result"
    }
   ],
   "source": [
    "label_dict\n",
    "reverse_label_dict = dict(map(reversed,label_dict.items()))\n",
    "reverse_label_dict"
   ]
  },
  {
   "cell_type": "code",
   "execution_count": 78,
   "metadata": {
    "id": "dd6nzOUVEe2D",
    "outputId": "011e6821-d8f8-4736-ea6e-c2056690f148",
    "tags": []
   },
   "outputs": [],
   "source": [
    "# import time\n",
    "# time_stamp = time.strftime('%Y%m%d%H%M', time.localtime(time.time()))\n",
    "# time_stamp"
   ]
  },
  {
   "cell_type": "code",
   "execution_count": 203,
   "metadata": {
    "id": "-QpcVnpDEe2D",
    "outputId": "8e510a55-0609-4911-a16e-8826a9d2e610",
    "tags": []
   },
   "outputs": [
    {
     "data": {
      "image/png": "[encoded data removed]",
      "text/plain": [
       "<Figure size 640x480 with 1 Axes>"
      ]
     },
     "metadata": {},
     "output_type": "display_data"
    }
   ],
   "source": [
    "epochs = range(1,4)\n",
    "\n",
    "# \"bo\"는 \"파란색 점\"입니다\n",
    "plt.plot(epochs, training_loss, 'r', label='Train_loss')\n",
    "# b는 \"파란 실선\"입니다\n",
    "plt.plot(epochs, validation_loss, 'b', label='Val_loss')\n",
    "plt.title('Loss of KcBERT')\n",
    "plt.xlabel('Epochs')\n",
    "plt.ylabel('Loss')\n",
    "plt.legend()\n",
    "\n",
    "plt.savefig(f\"{'result_image/KcBERT_classification_Loss'}.png\", dpi=300)\n",
    "\n",
    "# plt.plot(history.history['loss'], label='train_loss')\n",
    "# plt.plot(history.history['val_loss'], label='val_loss')\n",
    "# plt.title('Loss of Model with Attention layer')\n",
    "# plt.legend()\n",
    "# plt.show()"
   ]
  },
  {
   "cell_type": "code",
   "execution_count": 204,
   "metadata": {
    "id": "dIXODxpVEe2E",
    "outputId": "0ed30512-a90a-43d4-a000-ee7a05710ac1",
    "tags": []
   },
   "outputs": [
    {
     "data": {
      "image/png": "[encoded data removed]",
      "text/plain": [
       "<Figure size 640x480 with 1 Axes>"
      ]
     },
     "metadata": {},
     "output_type": "display_data"
    }
   ],
   "source": [
    "epochs = range(1,4)\n",
    "\n",
    "# \"bo\"는 \"파란색 점\"입니다\n",
    "plt.plot(epochs, Accuracy, 'r', label='Accuracy')\n",
    "# b는 \"파란 실선\"입니다\n",
    "plt.plot(epochs, F1, 'b', label='f1')\n",
    "plt.title('Accuracy & f1 of KcBERT')\n",
    "plt.xlabel('Epochs')\n",
    "plt.legend()\n",
    "\n",
    "plt.savefig(f\"{'result_image/KcBERT_classification_Accuracy'}.png\", dpi=300)"
   ]
  },
  {
   "cell_type": "code",
   "execution_count": null,
   "metadata": {
    "id": "wJy79kvWEe2E",
    "tags": []
   },
   "outputs": [],
   "source": [
    "!pwd"
   ]
  },
  {
   "cell_type": "code",
   "execution_count": 205,
   "metadata": {
    "id": "v1mIFLni55sP",
    "outputId": "4f0fbe66-5b41-4e80-c2a1-dfad1d0de43e",
    "tags": []
   },
   "outputs": [],
   "source": [
    "# 모델 저장\n",
    "model_save_path = \"result/KcBERT_classification_epoch3_maxlength16.pth\"\n",
    "torch.save(model.state_dict(), model_save_path)"
   ]
  },
  {
   "cell_type": "code",
   "execution_count": 264,
   "metadata": {
    "id": "v1mIFLni55sP",
    "outputId": "4f0fbe66-5b41-4e80-c2a1-dfad1d0de43e",
    "tags": []
   },
   "outputs": [
    {
     "name": "stderr",
     "output_type": "stream",
     "text": [
      "Some weights of the model checkpoint at beomi/KcELECTRA-base-v2022 were not used when initializing ElectraForSequenceClassification: ['discriminator_predictions.dense.bias', 'discriminator_predictions.dense_prediction.weight', 'discriminator_predictions.dense.weight', 'discriminator_predictions.dense_prediction.bias']\n",
      "- This IS expected if you are initializing ElectraForSequenceClassification from the checkpoint of a model trained on another task or with another architecture (e.g. initializing a BertForSequenceClassification model from a BertForPreTraining model).\n",
      "- This IS NOT expected if you are initializing ElectraForSequenceClassification from the checkpoint of a model that you expect to be exactly identical (initializing a BertForSequenceClassification model from a BertForSequenceClassification model).\n",
      "Some weights of ElectraForSequenceClassification were not initialized from the model checkpoint at beomi/KcELECTRA-base-v2022 and are newly initialized: ['classifier.dense.bias', 'classifier.dense.weight', 'classifier.out_proj.bias', 'classifier.out_proj.weight']\n",
      "You should probably TRAIN this model on a down-stream task to be able to use it for predictions and inference.\n"
     ]
    },
    {
     "data": {
      "text/plain": [
       "ElectraForSequenceClassification(\n",
       "  (electra): ElectraModel(\n",
       "    (embeddings): ElectraEmbeddings(\n",
       "      (word_embeddings): Embedding(54343, 768, padding_idx=0)\n",
       "      (position_embeddings): Embedding(512, 768)\n",
       "      (token_type_embeddings): Embedding(2, 768)\n",
       "      (LayerNorm): LayerNorm((768,), eps=1e-12, elementwise_affine=True)\n",
       "      (dropout): Dropout(p=0.1, inplace=False)\n",
       "    )\n",
       "    (encoder): ElectraEncoder(\n",
       "      (layer): ModuleList(\n",
       "        (0-11): 12 x ElectraLayer(\n",
       "          (attention): ElectraAttention(\n",
       "            (self): ElectraSelfAttention(\n",
       "              (query): Linear(in_features=768, out_features=768, bias=True)\n",
       "              (key): Linear(in_features=768, out_features=768, bias=True)\n",
       "              (value): Linear(in_features=768, out_features=768, bias=True)\n",
       "              (dropout): Dropout(p=0.1, inplace=False)\n",
       "            )\n",
       "            (output): ElectraSelfOutput(\n",
       "              (dense): Linear(in_features=768, out_features=768, bias=True)\n",
       "              (LayerNorm): LayerNorm((768,), eps=1e-12, elementwise_affine=True)\n",
       "              (dropout): Dropout(p=0.1, inplace=False)\n",
       "            )\n",
       "          )\n",
       "          (intermediate): ElectraIntermediate(\n",
       "            (dense): Linear(in_features=768, out_features=3072, bias=True)\n",
       "            (intermediate_act_fn): GELUActivation()\n",
       "          )\n",
       "          (output): ElectraOutput(\n",
       "            (dense): Linear(in_features=3072, out_features=768, bias=True)\n",
       "            (LayerNorm): LayerNorm((768,), eps=1e-12, elementwise_affine=True)\n",
       "            (dropout): Dropout(p=0.1, inplace=False)\n",
       "          )\n",
       "        )\n",
       "      )\n",
       "    )\n",
       "  )\n",
       "  (classifier): ElectraClassificationHead(\n",
       "    (dense): Linear(in_features=768, out_features=768, bias=True)\n",
       "    (dropout): Dropout(p=0.1, inplace=False)\n",
       "    (out_proj): Linear(in_features=768, out_features=8, bias=True)\n",
       "  )\n",
       ")"
      ]
     },
     "execution_count": 264,
     "metadata": {},
     "output_type": "execute_result"
    }
   ],
   "source": [
    "model_name = \"JuneKo/kcELECTRA_parent_09252023_MLM\"\n",
    "\n",
    "model_save_path = \"result/KcELECTRA_DAPT_classification_epoch3_maxlength16.pth\"\n",
    "\n",
    "# 모델 아키텍처 생성\n",
    "loaded_model = AutoModelForSequenceClassification.from_pretrained(model_name, num_labels=len(label_dict))\n",
    "\n",
    "# 저장된 가중치 불러오기\n",
    "loaded_model.load_state_dict(torch.load(model_save_path))\n",
    "\n",
    "# 모델을 평가 모드로 설정\n",
    "loaded_model.eval()"
   ]
  },
  {
   "cell_type": "code",
   "execution_count": null,
   "metadata": {
    "id": "UrTTqT5o_2Tn"
   },
   "outputs": [],
   "source": [
    "from google.colab import files\n",
    "files.download(\"kc_bert_emotion_classifier.pth\")"
   ]
  },
  {
   "cell_type": "markdown",
   "metadata": {},
   "source": [
    "# t-SNE"
   ]
  },
  {
   "cell_type": "code",
   "execution_count": 76,
   "metadata": {
    "tags": []
   },
   "outputs": [],
   "source": [
    "import numpy as np\n",
    "import pandas as pd\n",
    "import matplotlib.pyplot as plt\n",
    "from sklearn.manifold import TSNE\n",
    "from transformers import AutoTokenizer, AutoModel\n",
    "import torch"
   ]
  },
  {
   "cell_type": "code",
   "execution_count": 88,
   "metadata": {
    "tags": []
   },
   "outputs": [
    {
     "name": "stderr",
     "output_type": "stream",
     "text": [
      "Some weights of the model checkpoint at beomi/kcbert-base were not used when initializing BertModel: ['cls.predictions.transform.dense.weight', 'cls.seq_relationship.bias', 'cls.predictions.transform.LayerNorm.bias', 'cls.predictions.bias', 'cls.predictions.decoder.bias', 'cls.seq_relationship.weight', 'cls.predictions.decoder.weight', 'cls.predictions.transform.LayerNorm.weight', 'cls.predictions.transform.dense.bias']\n",
      "- This IS expected if you are initializing BertModel from the checkpoint of a model trained on another task or with another architecture (e.g. initializing a BertForSequenceClassification model from a BertForPreTraining model).\n",
      "- This IS NOT expected if you are initializing BertModel from the checkpoint of a model that you expect to be exactly identical (initializing a BertForSequenceClassification model from a BertForSequenceClassification model).\n"
     ]
    }
   ],
   "source": [
    "# koBERT, kcBERT, kcELECTRA\n",
    "#kcELECTRA\n",
    "model_name = \"beomi/KcELECTRA-base-v2022\"\n",
    "# model_name = \"JuneKo/kcELECTRA_parent_09252023_MLM\"\n",
    "\n",
    "model = AutoModel.from_pretrained(model_name)\n",
    "\n",
    "# 텍스트 데이터를 BERT 임베딩으로 변환\n",
    "embeddings = []\n",
    "\n",
    "# for text in rawdata['speech']:\n",
    "#     input_ids = tokenizer.encode(text, add_special_tokens=True, max_length=max_length, truncation=True)\n",
    "#     with torch.no_grad():\n",
    "#         outputs = model(torch.tensor([input_ids]))[0]\n",
    "#     pooled_output = outputs.mean(dim=1).squeeze().numpy()\n",
    "#     embeddings.append(pooled_output)\n",
    "    \n",
    "labels = []\n",
    "\n",
    "for text, label in zip(rawdata['speech'], rawdata['label_ct']):\n",
    "    input_ids = tokenizer.encode(text, add_special_tokens=True, max_length=max_length, truncation=True)\n",
    "    with torch.no_grad():\n",
    "        outputs = model(torch.tensor([input_ids]))[0]\n",
    "    pooled_output = outputs.mean(dim=1).squeeze().numpy()\n",
    "    embeddings.append(pooled_output)\n",
    "    labels.append(label)\n",
    "\n",
    "# Python 리스트를 NumPy 배열로 변환\n",
    "embeddings = np.array(embeddings)\n",
    "\n",
    "# t-SNE를 사용하여 임베딩된 데이터를 2D로 축소\n",
    "# tsne = TSNE(n_components=2, random_state=42)\n",
    "# 파라미터 조절\n",
    "# tsne = TSNE(n_components=2, perplexity=50.0, early_exaggeration=12.0,\n",
    "#          learning_rate=5.0, n_iter=15000, n_iter_without_progress=300,\n",
    "#          min_grad_norm=1e-07, metric='euclidean', init='random', verbose=0,\n",
    "#          random_state=None, method='barnes_hut', angle=0.6)\n",
    "\n",
    "\n",
    "\n",
    "tsne = TSNE(n_components=2, perplexity=30, learning_rate=10, n_iter=10000, random_state=42)\n",
    "tsne_embeddings = tsne.fit_transform(embeddings)"
   ]
  },
  {
   "cell_type": "code",
   "execution_count": 87,
   "metadata": {
    "tags": []
   },
   "outputs": [
    {
     "name": "stderr",
     "output_type": "stream",
     "text": [
      "/tmp/ipykernel_1715/3778132516.py:19: UserWarning: Glyph 8722 (\\N{MINUS SIGN}) missing from current font.\n",
      "  plt.savefig(f\"{'result_image/kcBERT_t-SNE_13'}.png\", dpi=300)\n",
      "/home/tools/anaconda/lib/python3.11/site-packages/IPython/core/pylabtools.py:152: UserWarning: Glyph 8722 (\\N{MINUS SIGN}) missing from current font.\n",
      "  fig.canvas.print_figure(bytes_io, **kw)\n"
     ]
    },
    {
     "data": {
      "image/png": "[encoded data removed]",
      "text/plain": [
       "<Figure size 640x480 with 1 Axes>"
      ]
     },
     "metadata": {},
     "output_type": "display_data"
    }
   ],
   "source": [
    "# 클래스 라벨과 색상 설정\n",
    "class_labels = ['0', '1', '2', '3', '4', '5', '6', '7']\n",
    "class_colors = ['b', 'g', 'r', 'c', 'm', 'y', 'k', 'purple']\n",
    "\n",
    "# 예를 들어 x와 y는 각각 t-SNE의 결과인 2D 임베딩 좌표입니다.\n",
    "# 클래스 라벨과 색상을 가진 scatter plot 그리기\n",
    "for i in range(8):\n",
    "    plt.scatter(tsne_embeddings[:, 0][rawdata['label_ct'] == i], tsne_embeddings[:, 1][rawdata['label_ct'] == i], c=class_colors[i], label=class_labels[i], s=10)\n",
    "\n",
    "# x축과 y축 범위 자동 맞춤\n",
    "plt.axis('equal')    \n",
    "\n",
    "# legend 추가\n",
    "plt.legend(loc='lower left', ncol=2)\n",
    "plt.title('t-SNE Scatter Plot with 8 Classes')\n",
    "plt.xlabel('t-SNE Dimension 1')\n",
    "plt.ylabel('t-SNE Dimension 2')\n",
    "\n",
    "plt.savefig(f\"{'result_image/kcBERT_t-SNE_13'}.png\", dpi=300)\n",
    "plt.show()"
   ]
  },
  {
   "cell_type": "code",
   "execution_count": null,
   "metadata": {
    "tags": []
   },
   "outputs": [],
   "source": [
    "# 시각화\n",
    "plt.scatter(tsne_embeddings[:, 0], tsne_embeddings[:, 1], c=rawdata['label_ct'], cmap='viridis')\n",
    "plt.colorbar()\n",
    "\n",
    "plt.savefig(f\"{'result_image/koBERT_t-SNE'}.png\", dpi=300)\n",
    "plt.show()\n",
    "\n"
   ]
  },
  {
   "cell_type": "code",
   "execution_count": null,
   "metadata": {
    "tags": []
   },
   "outputs": [],
   "source": [
    "# 라벨을 색상으로 표현\n",
    "label_colors = ['b', 'g', 'r', 'c', 'm', 'y', 'k', 'purple']  # 각 라벨에 대한 색상 설정\n",
    "\n",
    "plt.scatter(tsne_embeddings[:, 0], tsne_embeddings[:, 1], c=[label_colors[label] for label in labels], s=10)\n",
    "plt.colorbar()\n",
    "plt.show()\n",
    "\n",
    "# plt.savefig(f\"{'kcBERT_t-SNE'}.png\", dpi=300)"
   ]
  },
  {
   "cell_type": "code",
   "execution_count": null,
   "metadata": {
    "tags": []
   },
   "outputs": [],
   "source": [
    "# # 텍스트 데이터를 BERT 임베딩으로 변환\n",
    "# embeddings = []\n",
    "# labels = []\n",
    "\n",
    "# for text, label in zip(rawdata['speech'], rawdata['label_ct']):\n",
    "#     input_ids = tokenizer.encode(text, add_special_tokens=True, max_length=max_length, truncation=True)\n",
    "#     with torch.no_grad():\n",
    "#         outputs = model(torch.tensor([input_ids]))[0]\n",
    "#     pooled_output = outputs.mean(dim=1).squeeze().numpy()\n",
    "#     embeddings.append(pooled_output)\n",
    "#     labels.append(label)\n",
    "\n",
    "# # Python 리스트를 NumPy 배열로 변환\n",
    "# embeddings = np.array(embeddings)\n",
    "\n",
    "# # t-SNE를 사용하여 임베딩된 데이터를 2D로 축소\n",
    "# tsne = TSNE(n_components=2, random_state=42)\n",
    "# tsne_embeddings = tsne.fit_transform(embeddings)\n",
    "\n",
    "# 라벨을 색상으로 표현\n",
    "label_colors = ['b', 'g', 'r', 'c', 'm', 'y', 'k', 'purple']  # 8가지 다른 색상 설정\n",
    "\n",
    "plt.scatter(tsne_embeddings[:, 0], tsne_embeddings[:, 1], c=[label_colors[label] for label in labels], s=10)\n",
    "plt.colorbar()\n",
    "plt.show()"
   ]
  },
  {
   "cell_type": "code",
   "execution_count": null,
   "metadata": {
    "tags": []
   },
   "outputs": [],
   "source": [
    "import seaborn as sns\n",
    "\n",
    "# 라벨에 대한 색상 매핑\n",
    "label_colors = sns.color_palette(\"Set1\", n_colors=7)\n",
    "\n",
    "# 시각화 (색상으로 라벨 표현)\n",
    "plt.scatter(tsne_embeddings[:, 0], tsne_embeddings[:, 1], c=label_colors, s=10)\n",
    "plt.show()\n",
    "\n",
    "\n",
    "# 라벨을 범주로 표현 (예: 0, 1, 2, ...)\n",
    "markers = ['0', '1', '2', '3', '4', '5', '6', '7]  # 다른 심볼을 사용하여 범주 표현\n",
    "for i, label_value in enumerate(set(labels)):\n",
    "    label_indices = [j for j, label in enumerate(labels) if label == label_value]\n",
    "    plt.scatter(tsne_embeddings[label_indices, 0], tsne_embeddings[label_indices, 1], \n",
    "                marker=markers[i], label=f'Label {label_value}', s=10)\n",
    "\n",
    "plt.legend()\n",
    "plt.show()\n"
   ]
  },
  {
   "cell_type": "markdown",
   "metadata": {
    "id": "4GYagod_Ee2E"
   },
   "source": [
    "# predict\n",
    "load module before predicting"
   ]
  },
  {
   "cell_type": "code",
   "execution_count": 216,
   "metadata": {
    "tags": []
   },
   "outputs": [],
   "source": [
    "# model_name = \"beomi/KcELECTRA-base-v2022\"\n",
    "model_name = \"JuneKo/kcELECTRA_parent_09252023_MLM\"\n",
    "\n",
    "tokenizer = AutoTokenizer.from_pretrained(model_name)"
   ]
  },
  {
   "cell_type": "code",
   "execution_count": 207,
   "metadata": {
    "id": "CYIIaO7eEe2E",
    "outputId": "fc15f73e-fca4-43fd-e5fb-0251c7ae6788",
    "tags": []
   },
   "outputs": [
    {
     "data": {
      "text/plain": [
       "{'일반적인 말': 0,\n",
       " '부정적인 말': 1,\n",
       " '반영': 2,\n",
       " '지시': 3,\n",
       " '행동 묘사': 4,\n",
       " '질문': 5,\n",
       " '일반적인 칭찬': 6,\n",
       " '구체적인 칭찬': 7}"
      ]
     },
     "execution_count": 207,
     "metadata": {},
     "output_type": "execute_result"
    }
   ],
   "source": [
    "labels = ['일반적인 말', '부정적인 말', '반영', '지시', '행동 묘사', '질문', '일반적인 칭찬', '구체적인 칭찬']\n",
    "label_dict = {}\n",
    "for index, label in enumerate(labels):\n",
    "    label_dict[label] = index\n",
    "label_dict"
   ]
  },
  {
   "cell_type": "code",
   "execution_count": 217,
   "metadata": {
    "tags": []
   },
   "outputs": [
    {
     "name": "stdout",
     "output_type": "stream",
     "text": [
      "JuneKo/kcELECTRA_parent_09252023_MLM\n"
     ]
    },
    {
     "name": "stderr",
     "output_type": "stream",
     "text": [
      "Some weights of the model checkpoint at JuneKo/kcELECTRA_parent_09252023_MLM were not used when initializing ElectraForSequenceClassification: ['generator_predictions.dense.weight', 'generator_predictions.LayerNorm.bias', 'generator_predictions.LayerNorm.weight', 'generator_predictions.dense.bias', 'generator_lm_head.bias', 'generator_lm_head.weight']\n",
      "- This IS expected if you are initializing ElectraForSequenceClassification from the checkpoint of a model trained on another task or with another architecture (e.g. initializing a BertForSequenceClassification model from a BertForPreTraining model).\n",
      "- This IS NOT expected if you are initializing ElectraForSequenceClassification from the checkpoint of a model that you expect to be exactly identical (initializing a BertForSequenceClassification model from a BertForSequenceClassification model).\n",
      "Some weights of ElectraForSequenceClassification were not initialized from the model checkpoint at JuneKo/kcELECTRA_parent_09252023_MLM and are newly initialized: ['classifier.dense.bias', 'classifier.out_proj.weight', 'classifier.dense.weight', 'classifier.out_proj.bias']\n",
      "You should probably TRAIN this model on a down-stream task to be able to use it for predictions and inference.\n"
     ]
    },
    {
     "data": {
      "text/plain": [
       "ElectraForSequenceClassification(\n",
       "  (electra): ElectraModel(\n",
       "    (embeddings): ElectraEmbeddings(\n",
       "      (word_embeddings): Embedding(54343, 768, padding_idx=0)\n",
       "      (position_embeddings): Embedding(512, 768)\n",
       "      (token_type_embeddings): Embedding(2, 768)\n",
       "      (LayerNorm): LayerNorm((768,), eps=1e-12, elementwise_affine=True)\n",
       "      (dropout): Dropout(p=0.1, inplace=False)\n",
       "    )\n",
       "    (encoder): ElectraEncoder(\n",
       "      (layer): ModuleList(\n",
       "        (0-11): 12 x ElectraLayer(\n",
       "          (attention): ElectraAttention(\n",
       "            (self): ElectraSelfAttention(\n",
       "              (query): Linear(in_features=768, out_features=768, bias=True)\n",
       "              (key): Linear(in_features=768, out_features=768, bias=True)\n",
       "              (value): Linear(in_features=768, out_features=768, bias=True)\n",
       "              (dropout): Dropout(p=0.1, inplace=False)\n",
       "            )\n",
       "            (output): ElectraSelfOutput(\n",
       "              (dense): Linear(in_features=768, out_features=768, bias=True)\n",
       "              (LayerNorm): LayerNorm((768,), eps=1e-12, elementwise_affine=True)\n",
       "              (dropout): Dropout(p=0.1, inplace=False)\n",
       "            )\n",
       "          )\n",
       "          (intermediate): ElectraIntermediate(\n",
       "            (dense): Linear(in_features=768, out_features=3072, bias=True)\n",
       "            (intermediate_act_fn): GELUActivation()\n",
       "          )\n",
       "          (output): ElectraOutput(\n",
       "            (dense): Linear(in_features=3072, out_features=768, bias=True)\n",
       "            (LayerNorm): LayerNorm((768,), eps=1e-12, elementwise_affine=True)\n",
       "            (dropout): Dropout(p=0.1, inplace=False)\n",
       "          )\n",
       "        )\n",
       "      )\n",
       "    )\n",
       "  )\n",
       "  (classifier): ElectraClassificationHead(\n",
       "    (dense): Linear(in_features=768, out_features=768, bias=True)\n",
       "    (dropout): Dropout(p=0.1, inplace=False)\n",
       "    (out_proj): Linear(in_features=768, out_features=8, bias=True)\n",
       "  )\n",
       ")"
      ]
     },
     "execution_count": 217,
     "metadata": {},
     "output_type": "execute_result"
    }
   ],
   "source": [
    "print(model_name)\n",
    "# model_save_path = \"result/KcELECTRA_classification_epoch3_maxlength16.pth\"\n",
    "model_save_path = \"result/KcELECTRA_DAPT_classification_epoch6_maxlength16.pth\"\n",
    "\n",
    "\n",
    "# 모델 아키텍처 생성\n",
    "loaded_model = AutoModelForSequenceClassification.from_pretrained(model_name, num_labels=len(label_dict))\n",
    "\n",
    "# 저장된 가중치 불러오기\n",
    "loaded_model.load_state_dict(torch.load(model_save_path))\n",
    "\n",
    "# 모델을 평가 모드로 설정\n",
    "loaded_model.eval()"
   ]
  },
  {
   "cell_type": "code",
   "execution_count": 209,
   "metadata": {
    "tags": []
   },
   "outputs": [
    {
     "data": {
      "text/plain": [
       "{0: '일반적인 말',\n",
       " 1: '부정적인 말',\n",
       " 2: '반영',\n",
       " 3: '지시',\n",
       " 4: '행동 묘사',\n",
       " 5: '질문',\n",
       " 6: '일반적인 칭찬',\n",
       " 7: '구체적인 칭찬'}"
      ]
     },
     "execution_count": 209,
     "metadata": {},
     "output_type": "execute_result"
    }
   ],
   "source": [
    "label_dict\n",
    "reverse_label_dict = dict(map(reversed,label_dict.items()))\n",
    "reverse_label_dict"
   ]
  },
  {
   "cell_type": "code",
   "execution_count": 218,
   "metadata": {
    "id": "EpPNuFKd59x-",
    "outputId": "2801fee9-31e1-4301-95dc-af7871f16543",
    "tags": []
   },
   "outputs": [
    {
     "name": "stdout",
     "output_type": "stream",
     "text": [
      "JuneKo/kcELECTRA_parent_09252023_MLM\n",
      "Input: 내 차도 빨라 - Predicted Label: 일반적인 말\n",
      "Input: 종이를 많이 갖고 있구나 - Predicted Label: 반영\n",
      "Input: 아빠가 복도에 서계신 거 같아 - Predicted Label: 일반적인 말\n",
      "Input: 네가 할 거야 - Predicted Label: 지시\n",
      "Input: 그게 좋아 - Predicted Label: 질문\n",
      "Input: 여긴 재미 없어 - Predicted Label: 부정적인 말\n",
      "Input: 참 잘 했구나 - Predicted Label: 일반적인 칭찬\n",
      "Input: 그만 할래 - Predicted Label: 부정적인 말\n",
      "Input: 신난다 - Predicted Label: 일반적인 말\n",
      "Input: 네가 이걸 쌓았구나 - Predicted Label: 반영\n",
      "Input: 네가 먼저 하는구나 - Predicted Label: 행동 묘사\n",
      "Input: 이거 해 - Predicted Label: 지시\n",
      "Input: 이건 안돼 - Predicted Label: 부정적인 말\n",
      "Input: 그게 뭔지 궁금하구나 - Predicted Label: 반영\n",
      "Input: 네가 할 거라고 말하는구나 - Predicted Label: 행동 묘사\n",
      "Input: 나도 하고 싶어 - Predicted Label: 일반적인 말\n",
      "Input: 이건 사과야 - Predicted Label: 일반적인 말\n",
      "Input: 빨리 해줘 - Predicted Label: 지시\n",
      "Input: 사과 먹고 싶어 - Predicted Label: 일반적인 말\n",
      "Input: 여기 앉을 거야 - Predicted Label: 일반적인 말\n",
      "Input: 사탕 주세요 - Predicted Label: 지시\n",
      "Input: 여기 많이 있다 - Predicted Label: 일반적인 말\n",
      "Input: 고마워 - Predicted Label: 일반적인 칭찬\n",
      "Input: 사랑해 - Predicted Label: 일반적인 칭찬\n",
      "Input: 날 봐 - Predicted Label: 지시\n",
      "Input: 이거 줘봐 - Predicted Label: 지시\n",
      "Input: 여기서 나가고 싶어 - Predicted Label: 일반적인 말\n",
      "Input: 예쁜 색깔이네 - Predicted Label: 일반적인 말\n",
      "Input: 좋은 생각이야 - Predicted Label: 일반적인 칭찬\n",
      "Input: 탑을 멋지게 쌓았구나 - Predicted Label: 구체적인 칭찬\n",
      "Input: 그 강아지 코는 검은색이구나 - Predicted Label: 반영\n",
      "Input: 탑을 쌓고 있구나 - Predicted Label: 행동 묘사\n",
      "Input: 다음에는 농장을 가지고 놀자 - Predicted Label: 지시\n",
      "Input: 엄마한테 돼지를 줘 - Predicted Label: 지시\n",
      "Input: 우리가 높은 탑을 쌍고 있지 그렇지 - Predicted Label: 질문\n",
      "Input: 그건 정말 똑똑하지 못한 거였어 - Predicted Label: 부정적인 말\n",
      "Input: 잘 하네 - Predicted Label: 일반적인 칭찬\n",
      "Input: 이거는 여기 위에 올려두자 - Predicted Label: 지시\n",
      "Input: 책을 다 읽었구나 - Predicted Label: 질문\n",
      "Input: 신발 벗어 - Predicted Label: 지시\n",
      "Input: 더럽히면 안돼 - Predicted Label: 부정적인 말\n",
      "Input: 신발짝을 잘 맞춰 정리했구나 잘 했어 - Predicted Label: 구체적인 칭찬\n",
      "Input: 언제 집에 갈까 - Predicted Label: 질문\n",
      "Input: 판다는 대나무를 먹는데 - Predicted Label: 일반적인 말\n"
     ]
    }
   ],
   "source": [
    "# 입력 데이터 준비 (위 예제와 유사한 방법으로)\n",
    "input_data = [\n",
    "    \"내 차도 빨라\",\n",
    "    \"종이를 많이 갖고 있구나\",\n",
    "    \"아빠가 복도에 서계신 거 같아\",\n",
    "    \"네가 할 거야\",\n",
    "    \"그게 좋아\",\n",
    "    \"여긴 재미 없어\",\n",
    "    \"참 잘 했구나\",\n",
    "    \"그만 할래\",\n",
    "    \"신난다\",\n",
    "    \"네가 이걸 쌓았구나\",\n",
    "    \"네가 먼저 하는구나\",\n",
    "    \"이거 해\",\n",
    "    \"이건 안돼\",\n",
    "    \"그게 뭔지 궁금하구나\",\n",
    "    \"네가 할 거라고 말하는구나\",\n",
    "    \"나도 하고 싶어\",\n",
    "    \"이건 사과야\",\n",
    "    \"빨리 해줘\",\n",
    "    \"사과 먹고 싶어\",\n",
    "    \"여기 앉을 거야\",\n",
    "    \"사탕 주세요\",\n",
    "    \"여기 많이 있다\",\n",
    "    \"고마워\",\n",
    "    \"사랑해\",\n",
    "    \"날 봐\",\n",
    "    \"이거 줘봐\",\n",
    "    \"여기서 나가고 싶어\",\n",
    "    \"예쁜 색깔이네\",\n",
    "    \"좋은 생각이야\",\n",
    "    \"탑을 멋지게 쌓았구나\",\n",
    "    \"그 강아지 코는 검은색이구나\",\n",
    "    \"탑을 쌓고 있구나\",\n",
    "    \"다음에는 농장을 가지고 놀자\",\n",
    "    \"엄마한테 돼지를 줘\",\n",
    "    \"우리가 높은 탑을 쌍고 있지 그렇지\",\n",
    "    \"그건 정말 똑똑하지 못한 거였어\",\n",
    "    \"잘 하네\",\n",
    "    \"이거는 여기 위에 올려두자\",\n",
    "    \"책을 다 읽었구나\",\n",
    "    \"신발 벗어\",\n",
    "    \"더럽히면 안돼\",\n",
    "    \"신발짝을 잘 맞춰 정리했구나 잘 했어\",\n",
    "    \"언제 집에 갈까\",\n",
    "    \"판다는 대나무를 먹는데\"\n",
    "    ]\n",
    "input_encodings = tokenizer(input_data, padding=True, truncation=True, return_tensors=\"pt\")\n",
    "\n",
    "# 모델에 입력 데이터 전달\n",
    "with torch.no_grad():\n",
    "    output = loaded_model(**input_encodings)\n",
    "\n",
    "# 예측 결과 확인\n",
    "logits = output.logits\n",
    "predicted_labels = logits.argmax(dim=1)\n",
    "\n",
    "print(model_name)\n",
    "# 예측 결과 출력\n",
    "for i, input_text in enumerate(input_data):\n",
    "    predicted_label = predicted_labels[i].item()\n",
    "    print(f\"Input: {input_text} - Predicted Label: {reverse_label_dict[predicted_label]}\")"
   ]
  },
  {
   "cell_type": "code",
   "execution_count": null,
   "metadata": {
    "id": "gJWrlbPtEe2F"
   },
   "outputs": [],
   "source": [
    "from sklearn.metrics import ConfusionMatrixDisplay, confusion_matrix\n",
    "\n",
    "def plot_confusion_matrix(y_preds, y_true, labels):\n",
    "    cm = confusion_matrix(y_true, y_preds, normalize=\"true\")\n",
    "    fig, ax = plt.subplots(figsize=(6, 6))\n",
    "    disp = ConfusionMatrixDisplay(confusion_matrix=cm, display_labels=labels)\n",
    "    disp.plot(cmap=\"Blues\", values_format=\".2f\", ax=ax, colorbar=False)\n",
    "    plt.title(\"Normalized confusion matrix\")\n",
    "    plt.show()\n",
    "\n",
    "\n",
    "y_preds = lr_clf.predict(X_valid)\n",
    "plot_confusion_matrix(y_preds, y_valid, labels)"
   ]
  },
  {
   "cell_type": "code",
   "execution_count": null,
   "metadata": {
    "id": "Xuha1X5DEe2F"
   },
   "outputs": [],
   "source": [
    "from torch.nn.functional import cross_entropy\n",
    "\n",
    "def forward_pass_with_label(batch):\n",
    "    # 모든 입력 텐서를 모델과 같은 장치로 이동합니다.\n",
    "    inputs = {k:v.to(device) for k,v in batch.items()\n",
    "              if k in tokenizer.model_input_names}\n",
    "\n",
    "    with torch.no_grad():\n",
    "        output = model(**inputs)\n",
    "        pred_label = torch.argmax(output.logits, axis=-1)\n",
    "        loss = cross_entropy(output.logits, batch[\"label\"].to(device),\n",
    "                             reduction=\"none\")\n",
    "\n",
    "    # 다른 데이터셋 열과 호환되도록 출력을 CPU로 옮깁니다.\n",
    "    return {\"loss\": loss.cpu().numpy(),\n",
    "            \"predicted_label\": pred_label.cpu().numpy()}"
   ]
  },
  {
   "cell_type": "code",
   "execution_count": null,
   "metadata": {
    "id": "-mh85uX9Ee2F"
   },
   "outputs": [],
   "source": [
    "# 데이터셋을 다시 파이토치 텐서로 변환합니다.\n",
    "emotions_encoded.set_format(\"torch\",\n",
    "                            columns=[\"input_ids\", \"attention_mask\", \"label\"])\n",
    "# 손실 값을 계산합니다.\n",
    "emotions_encoded[\"validation\"] = emotions_encoded[\"validation\"].map(\n",
    "    forward_pass_with_label, batched=True, batch_size=16)"
   ]
  },
  {
   "cell_type": "code",
   "execution_count": null,
   "metadata": {
    "id": "Og__fNomEe2F",
    "outputId": "be6641fa-d733-4b00-cd6b-8cdecbf8148c",
    "tags": []
   },
   "outputs": [],
   "source": [
    "print(input_encodings)"
   ]
  },
  {
   "cell_type": "code",
   "execution_count": null,
   "metadata": {
    "id": "b2JGWAQZEe2F",
    "tags": []
   },
   "outputs": [],
   "source": [
    "# # 실제 정답 y_test과 예측값 y_pred 비교하여 평가\n",
    "# from sklearn.metrics import confusion_matrix, accuracy_score, recall_score, precision_score, f1_score\n",
    "\n"
   ]
  },
  {
   "cell_type": "code",
   "execution_count": null,
   "metadata": {
    "id": "ndHT6wTcEe2F",
    "tags": []
   },
   "outputs": [],
   "source": [
    "# from sklearn.metrics import ConfusionMatrixDisplay, confusion_matrix\n",
    "\n",
    "# def plot_confusion_matrix(y_preds, y_true, labels):\n",
    "#     cm = confusion_matrix(y_true, y_preds, normalize=\"true\")\n",
    "#     fig, ax = plt.subplots(figsize=(6, 6))\n",
    "#     disp = ConfusionMatrixDisplay(confusion_matrix=cm, display_labels=labels)\n",
    "#     disp.plot(cmap=\"Blues\", values_format=\".2f\", ax=ax, colorbar=False)\n",
    "#     plt.title(\"Normalized confusion matrix\")\n",
    "#     plt.show()\n",
    "\n",
    "# y_preds = loaded_model.predicted_labels(X_valid)\n",
    "# plot_confusion_matrix(y_preds, y_valid, labels)"
   ]
  },
  {
   "cell_type": "code",
   "execution_count": null,
   "metadata": {
    "id": "zm_m5dvzEe2F",
    "tags": []
   },
   "outputs": [],
   "source": [
    "# print(val_text['input_ids'])\n",
    "# print(loaded_model(val_text['input_ids']))"
   ]
  },
  {
   "cell_type": "code",
   "execution_count": null,
   "metadata": {
    "id": "9oLuYJ3tEe2F",
    "outputId": "369821c4-1514-4e60-c6bd-3826de15c5fb",
    "tags": []
   },
   "outputs": [],
   "source": [
    "type(output)"
   ]
  },
  {
   "cell_type": "code",
   "execution_count": null,
   "metadata": {
    "id": "ehMYTFKuEe2F",
    "outputId": "aa3cf23d-b1cb-4f36-bfbe-781ec4a7c926",
    "tags": []
   },
   "outputs": [],
   "source": [
    "import torch\n",
    "import torch.nn.functional as F\n",
    "from sklearn import metrics\n",
    "\n",
    "input_encodings = tokenizer(input_data, padding=True, truncation=True, return_tensors=\"pt\")\n",
    "\n",
    "# 모델에 입력 데이터 전달\n",
    "for index,val in enumerate(input_encodings):\n",
    "    # print(val['input_ids'])\n",
    "    output = loaded_model(val)"
   ]
  },
  {
   "cell_type": "code",
   "execution_count": null,
   "metadata": {
    "id": "U-E8MrLEEe2G",
    "outputId": "0321dd25-2b78-4ada-e8f7-0f1b24188e10",
    "tags": []
   },
   "outputs": [],
   "source": [
    "# 예측 결과 확인\n",
    "logits = output.logits\n",
    "predicted_labels = logits.argmax(dim=1)\n",
    "\n",
    "\n",
    "# # 예측 결과 출력\n",
    "# for i, input_text in enumerate(input_data):\n",
    "#     predicted_label = predicted_labels[i].item()\n",
    "#     print(f\"Input: {input_text} - Predicted Label: {reverse_label_dict[predicted_label]}\")\n",
    "\n",
    "# input_encodings = tokenizer(valid_texts, return_tensors=\"pt\")\n",
    "\n",
    "y_preds = []\n",
    "y_trues = []\n",
    "for index,val_text in enumerate(valid_texts):\n",
    "     val_encoding = tokenizer([val_text], padding=True, truncation=True, return_tensors=\"pt\")\n",
    "\n",
    "     output = loaded_model(val_encoding)\n",
    "\n",
    "     print(output)\n",
    "     logits = output.logits\n",
    "     prediction = logits.argmax(dim=1)\n",
    "     prediction = prediction[index].items()\n",
    "     print(prediction)\n",
    "     y_pred = torch.argmax(prediction).numpy()\n",
    "     y_true = val_labels[index]\n",
    "     # print(y_true)\n",
    "     y_preds.append(y_pred)\n",
    "     y_trues.append(y_true)\n",
    "\n",
    "confusion_matrix = metrics.confusion_matrix(y_trues, y_preds, labels=[\"0\", \"1\", \"2\", \"3\", \"4\", \"5\", \"6\", \"7\"])\n",
    "print(confusion_matrix)"
   ]
  },
  {
   "cell_type": "code",
   "execution_count": null,
   "metadata": {
    "id": "SpNC9Mg-Ee2G",
    "tags": []
   },
   "outputs": [],
   "source": [
    "# for index,val_text in enumerate(valid):\n",
    "#     print(tokenizer.decode(val_text['input_ids'], skip_special_tokens=True))"
   ]
  },
  {
   "cell_type": "code",
   "execution_count": null,
   "metadata": {
    "id": "kXh1AGwaEe2G",
    "outputId": "6e0605f2-6ada-49ba-cb33-86adcf22ee50",
    "tags": []
   },
   "outputs": [],
   "source": [
    "# test_loader가 없는뎅\n",
    "actual_label, predicted_label = predict(loaded_model, valid_loader, device=device)\n",
    "actual_label = np.array([item.to('cpu') for item in actual_label])\n",
    "predicted_label = np.array([item.to('cpu') for item in predicted_label])\n",
    "\n",
    "print(\"Accuracy :\",metrics.accuracy_score(actual_label, predicted_label))\n",
    "print(\"f1 score macro :\",metrics.f1_score(actual_label, predicted_label, average = 'macro'))\n",
    "print(\"f1 scoore micro :\",metrics.f1_score(actual_label, predicted_label, average = 'micro'))\n",
    "print(\"Hamming loss :\",metrics.hamming_loss(actual_label, predicted_label))\n",
    "print(\"Classification Report: \\n\", classification_report(actual_label, predicted_label))\n",
    "print(\"Confusion Matrix: \\n\", confusion_matrix(actual_label, predicted_label))"
   ]
  },
  {
   "cell_type": "code",
   "execution_count": null,
   "metadata": {
    "id": "SrUTREU_Ee2G"
   },
   "outputs": [],
   "source": []
  },
  {
   "cell_type": "code",
   "execution_count": null,
   "metadata": {
    "id": "Emff8qUtEe2G",
    "outputId": "1e634b40-f9fd-4c93-aeea-9a994d4b5405",
    "tags": []
   },
   "outputs": [],
   "source": [
    "y_eval = eval[\n",
    "cm = metrics.confusion_matrix(y_eval, predic_y)"
   ]
  },
  {
   "cell_type": "code",
   "execution_count": null,
   "metadata": {
    "id": "1W91jSeKEe2G"
   },
   "outputs": [],
   "source": []
  }
 ],
 "metadata": {
  "accelerator": "GPU",
  "colab": {
   "gpuType": "T4",
   "provenance": []
  },
  "kernelspec": {
   "display_name": "Python 3 (ipykernel)",
   "language": "python",
   "name": "python3"
  },
  "language_info": {
   "codemirror_mode": {
    "name": "ipython",
    "version": 3
   },
   "file_extension": ".py",
   "mimetype": "text/x-python",
   "name": "python",
   "nbconvert_exporter": "python",
   "pygments_lexer": "ipython3",
   "version": "3.11.4"
  },
  "widgets": {
   "application/vnd.jupyter.widget-state+json": {
    "03aa7ea574fe4a69af4b86ce71780e9e": {
     "model_module": "@jupyter-widgets/controls",
     "model_module_version": "1.5.0",
     "model_name": "ProgressStyleModel",
     "state": {
      "_model_module": "@jupyter-widgets/controls",
      "_model_module_version": "1.5.0",
      "_model_name": "ProgressStyleModel",
      "_view_count": null,
      "_view_module": "@jupyter-widgets/base",
      "_view_module_version": "1.2.0",
      "_view_name": "StyleView",
      "bar_color": null,
      "description_width": ""
     }
    },
    "04ba35e17be24f638a4190b3e5cadfba": {
     "model_module": "@jupyter-widgets/controls",
     "model_module_version": "1.5.0",
     "model_name": "DescriptionStyleModel",
     "state": {
      "_model_module": "@jupyter-widgets/controls",
      "_model_module_version": "1.5.0",
      "_model_name": "DescriptionStyleModel",
      "_view_count": null,
      "_view_module": "@jupyter-widgets/base",
      "_view_module_version": "1.2.0",
      "_view_name": "StyleView",
      "description_width": ""
     }
    },
    "0da267fd1551460e90a40ed2fd9d2f38": {
     "model_module": "@jupyter-widgets/controls",
     "model_module_version": "1.5.0",
     "model_name": "HTMLModel",
     "state": {
      "_dom_classes": [],
      "_model_module": "@jupyter-widgets/controls",
      "_model_module_version": "1.5.0",
      "_model_name": "HTMLModel",
      "_view_count": null,
      "_view_module": "@jupyter-widgets/controls",
      "_view_module_version": "1.5.0",
      "_view_name": "HTMLView",
      "description": "",
      "description_tooltip": null,
      "layout": "IPY_MODEL_c98167b02d6e46a6b0a10968bb34e07d",
      "placeholder": "​",
      "style": "IPY_MODEL_4986590559974871bb35bb7430fa1ea0",
      "value": "Downloading (…)cial_tokens_map.json: 100%"
     }
    },
    "0de7466e848741ca900e20f20fae605a": {
     "model_module": "@jupyter-widgets/controls",
     "model_module_version": "1.5.0",
     "model_name": "FloatProgressModel",
     "state": {
      "_dom_classes": [],
      "_model_module": "@jupyter-widgets/controls",
      "_model_module_version": "1.5.0",
      "_model_name": "FloatProgressModel",
      "_view_count": null,
      "_view_module": "@jupyter-widgets/controls",
      "_view_module_version": "1.5.0",
      "_view_name": "ProgressView",
      "bar_style": "success",
      "description": "",
      "description_tooltip": null,
      "layout": "IPY_MODEL_64ebc41c0ed144ffb64f0980901c06ab",
      "max": 721451,
      "min": 0,
      "orientation": "horizontal",
      "style": "IPY_MODEL_03aa7ea574fe4a69af4b86ce71780e9e",
      "value": 721451
     }
    },
    "0ee6882367c742129bc7ddc0db159cdf": {
     "model_module": "@jupyter-widgets/controls",
     "model_module_version": "1.5.0",
     "model_name": "HTMLModel",
     "state": {
      "_dom_classes": [],
      "_model_module": "@jupyter-widgets/controls",
      "_model_module_version": "1.5.0",
      "_model_name": "HTMLModel",
      "_view_count": null,
      "_view_module": "@jupyter-widgets/controls",
      "_view_module_version": "1.5.0",
      "_view_name": "HTMLView",
      "description": "",
      "description_tooltip": null,
      "layout": "IPY_MODEL_77a8da03c45548909b4bd5bb40a76690",
      "placeholder": "​",
      "style": "IPY_MODEL_3db44825303c41979a4b8560bf78a411",
      "value": " 125/125 [00:00&lt;00:00, 7.41kB/s]"
     }
    },
    "0ffb1e5a95ff4c2a82d9a73144bbc1b1": {
     "model_module": "@jupyter-widgets/base",
     "model_module_version": "1.2.0",
     "model_name": "LayoutModel",
     "state": {
      "_model_module": "@jupyter-widgets/base",
      "_model_module_version": "1.2.0",
      "_model_name": "LayoutModel",
      "_view_count": null,
      "_view_module": "@jupyter-widgets/base",
      "_view_module_version": "1.2.0",
      "_view_name": "LayoutView",
      "align_content": null,
      "align_items": null,
      "align_self": null,
      "border": null,
      "bottom": null,
      "display": null,
      "flex": null,
      "flex_flow": null,
      "grid_area": null,
      "grid_auto_columns": null,
      "grid_auto_flow": null,
      "grid_auto_rows": null,
      "grid_column": null,
      "grid_gap": null,
      "grid_row": null,
      "grid_template_areas": null,
      "grid_template_columns": null,
      "grid_template_rows": null,
      "height": null,
      "justify_content": null,
      "justify_items": null,
      "left": null,
      "margin": null,
      "max_height": null,
      "max_width": null,
      "min_height": null,
      "min_width": null,
      "object_fit": null,
      "object_position": null,
      "order": null,
      "overflow": null,
      "overflow_x": null,
      "overflow_y": null,
      "padding": null,
      "right": null,
      "top": null,
      "visibility": null,
      "width": null
     }
    },
    "124d60c9444e43d1a374684687855c09": {
     "model_module": "@jupyter-widgets/controls",
     "model_module_version": "1.5.0",
     "model_name": "HTMLModel",
     "state": {
      "_dom_classes": [],
      "_model_module": "@jupyter-widgets/controls",
      "_model_module_version": "1.5.0",
      "_model_name": "HTMLModel",
      "_view_count": null,
      "_view_module": "@jupyter-widgets/controls",
      "_view_module_version": "1.5.0",
      "_view_name": "HTMLView",
      "description": "",
      "description_tooltip": null,
      "layout": "IPY_MODEL_c7a31b2a3b3e49ee95b407cc090eb1b4",
      "placeholder": "​",
      "style": "IPY_MODEL_8faba5181bd54f458e097239f958d4bc",
      "value": " 367/367 [00:00&lt;00:00, 23.0kB/s]"
     }
    },
    "131cf7db18424a85adbc2e91e4e97311": {
     "model_module": "@jupyter-widgets/controls",
     "model_module_version": "1.5.0",
     "model_name": "ProgressStyleModel",
     "state": {
      "_model_module": "@jupyter-widgets/controls",
      "_model_module_version": "1.5.0",
      "_model_name": "ProgressStyleModel",
      "_view_count": null,
      "_view_module": "@jupyter-widgets/base",
      "_view_module_version": "1.2.0",
      "_view_name": "StyleView",
      "bar_color": null,
      "description_width": ""
     }
    },
    "163064efbe4a4e7f84b4d0ccb3552f5f": {
     "model_module": "@jupyter-widgets/controls",
     "model_module_version": "1.5.0",
     "model_name": "DescriptionStyleModel",
     "state": {
      "_model_module": "@jupyter-widgets/controls",
      "_model_module_version": "1.5.0",
      "_model_name": "DescriptionStyleModel",
      "_view_count": null,
      "_view_module": "@jupyter-widgets/base",
      "_view_module_version": "1.2.0",
      "_view_name": "StyleView",
      "description_width": ""
     }
    },
    "1de8a12bb7e64862a113ba86bf2debb0": {
     "model_module": "@jupyter-widgets/controls",
     "model_module_version": "1.5.0",
     "model_name": "DescriptionStyleModel",
     "state": {
      "_model_module": "@jupyter-widgets/controls",
      "_model_module_version": "1.5.0",
      "_model_name": "DescriptionStyleModel",
      "_view_count": null,
      "_view_module": "@jupyter-widgets/base",
      "_view_module_version": "1.2.0",
      "_view_name": "StyleView",
      "description_width": ""
     }
    },
    "20015162c0a64fcdb572b4018fd61187": {
     "model_module": "@jupyter-widgets/controls",
     "model_module_version": "1.5.0",
     "model_name": "FloatProgressModel",
     "state": {
      "_dom_classes": [],
      "_model_module": "@jupyter-widgets/controls",
      "_model_module_version": "1.5.0",
      "_model_name": "FloatProgressModel",
      "_view_count": null,
      "_view_module": "@jupyter-widgets/controls",
      "_view_module_version": "1.5.0",
      "_view_name": "ProgressView",
      "bar_style": "success",
      "description": "",
      "description_tooltip": null,
      "layout": "IPY_MODEL_4b98f3ad42544d079944bb62537933d6",
      "max": 435869237,
      "min": 0,
      "orientation": "horizontal",
      "style": "IPY_MODEL_fad7bfc260094008b310549e9a1fa73d",
      "value": 435869237
     }
    },
    "248e7c182ecb4bc3b1de571bd01fcf12": {
     "model_module": "@jupyter-widgets/controls",
     "model_module_version": "1.5.0",
     "model_name": "DescriptionStyleModel",
     "state": {
      "_model_module": "@jupyter-widgets/controls",
      "_model_module_version": "1.5.0",
      "_model_name": "DescriptionStyleModel",
      "_view_count": null,
      "_view_module": "@jupyter-widgets/base",
      "_view_module_version": "1.2.0",
      "_view_name": "StyleView",
      "description_width": ""
     }
    },
    "33269972cd004fe9a80beb0c74edd73b": {
     "model_module": "@jupyter-widgets/controls",
     "model_module_version": "1.5.0",
     "model_name": "HBoxModel",
     "state": {
      "_dom_classes": [],
      "_model_module": "@jupyter-widgets/controls",
      "_model_module_version": "1.5.0",
      "_model_name": "HBoxModel",
      "_view_count": null,
      "_view_module": "@jupyter-widgets/controls",
      "_view_module_version": "1.5.0",
      "_view_name": "HBoxView",
      "box_style": "",
      "children": [
       "IPY_MODEL_a3edb2fdbc944e649b6d4cd9325d4b92",
       "IPY_MODEL_9b74f0986e934d3282fa42a7cee5a7b7",
       "IPY_MODEL_7e281463ca9a4a8c9efbe87fe2e0c7b8"
      ],
      "layout": "IPY_MODEL_8f3a488813654137936e3ce60733cf90"
     }
    },
    "37d3c23d12f9428384ab15ef03a83aab": {
     "model_module": "@jupyter-widgets/controls",
     "model_module_version": "1.5.0",
     "model_name": "ProgressStyleModel",
     "state": {
      "_model_module": "@jupyter-widgets/controls",
      "_model_module_version": "1.5.0",
      "_model_name": "ProgressStyleModel",
      "_view_count": null,
      "_view_module": "@jupyter-widgets/base",
      "_view_module_version": "1.2.0",
      "_view_name": "StyleView",
      "bar_color": null,
      "description_width": ""
     }
    },
    "3bf4f353021744e1835f992d9643fa5b": {
     "model_module": "@jupyter-widgets/base",
     "model_module_version": "1.2.0",
     "model_name": "LayoutModel",
     "state": {
      "_model_module": "@jupyter-widgets/base",
      "_model_module_version": "1.2.0",
      "_model_name": "LayoutModel",
      "_view_count": null,
      "_view_module": "@jupyter-widgets/base",
      "_view_module_version": "1.2.0",
      "_view_name": "LayoutView",
      "align_content": null,
      "align_items": null,
      "align_self": null,
      "border": null,
      "bottom": null,
      "display": null,
      "flex": null,
      "flex_flow": null,
      "grid_area": null,
      "grid_auto_columns": null,
      "grid_auto_flow": null,
      "grid_auto_rows": null,
      "grid_column": null,
      "grid_gap": null,
      "grid_row": null,
      "grid_template_areas": null,
      "grid_template_columns": null,
      "grid_template_rows": null,
      "height": null,
      "justify_content": null,
      "justify_items": null,
      "left": null,
      "margin": null,
      "max_height": null,
      "max_width": null,
      "min_height": null,
      "min_width": null,
      "object_fit": null,
      "object_position": null,
      "order": null,
      "overflow": null,
      "overflow_x": null,
      "overflow_y": null,
      "padding": null,
      "right": null,
      "top": null,
      "visibility": null,
      "width": null
     }
    },
    "3db44825303c41979a4b8560bf78a411": {
     "model_module": "@jupyter-widgets/controls",
     "model_module_version": "1.5.0",
     "model_name": "DescriptionStyleModel",
     "state": {
      "_model_module": "@jupyter-widgets/controls",
      "_model_module_version": "1.5.0",
      "_model_name": "DescriptionStyleModel",
      "_view_count": null,
      "_view_module": "@jupyter-widgets/base",
      "_view_module_version": "1.2.0",
      "_view_name": "StyleView",
      "description_width": ""
     }
    },
    "4085abae2000471ba1cd1748188357ca": {
     "model_module": "@jupyter-widgets/controls",
     "model_module_version": "1.5.0",
     "model_name": "DescriptionStyleModel",
     "state": {
      "_model_module": "@jupyter-widgets/controls",
      "_model_module_version": "1.5.0",
      "_model_name": "DescriptionStyleModel",
      "_view_count": null,
      "_view_module": "@jupyter-widgets/base",
      "_view_module_version": "1.2.0",
      "_view_name": "StyleView",
      "description_width": ""
     }
    },
    "41d229d8a8c648ddb3591ad532af562b": {
     "model_module": "@jupyter-widgets/controls",
     "model_module_version": "1.5.0",
     "model_name": "ProgressStyleModel",
     "state": {
      "_model_module": "@jupyter-widgets/controls",
      "_model_module_version": "1.5.0",
      "_model_name": "ProgressStyleModel",
      "_view_count": null,
      "_view_module": "@jupyter-widgets/base",
      "_view_module_version": "1.2.0",
      "_view_name": "StyleView",
      "bar_color": null,
      "description_width": ""
     }
    },
    "425289b7141a44e0b6f4546820803b9d": {
     "model_module": "@jupyter-widgets/controls",
     "model_module_version": "1.5.0",
     "model_name": "FloatProgressModel",
     "state": {
      "_dom_classes": [],
      "_model_module": "@jupyter-widgets/controls",
      "_model_module_version": "1.5.0",
      "_model_name": "FloatProgressModel",
      "_view_count": null,
      "_view_module": "@jupyter-widgets/controls",
      "_view_module_version": "1.5.0",
      "_view_name": "ProgressView",
      "bar_style": "success",
      "description": "",
      "description_tooltip": null,
      "layout": "IPY_MODEL_e3147a15e385446ca62afe25b309f5d7",
      "max": 249928,
      "min": 0,
      "orientation": "horizontal",
      "style": "IPY_MODEL_41d229d8a8c648ddb3591ad532af562b",
      "value": 249928
     }
    },
    "4986590559974871bb35bb7430fa1ea0": {
     "model_module": "@jupyter-widgets/controls",
     "model_module_version": "1.5.0",
     "model_name": "DescriptionStyleModel",
     "state": {
      "_model_module": "@jupyter-widgets/controls",
      "_model_module_version": "1.5.0",
      "_model_name": "DescriptionStyleModel",
      "_view_count": null,
      "_view_module": "@jupyter-widgets/base",
      "_view_module_version": "1.2.0",
      "_view_name": "StyleView",
      "description_width": ""
     }
    },
    "4b98f3ad42544d079944bb62537933d6": {
     "model_module": "@jupyter-widgets/base",
     "model_module_version": "1.2.0",
     "model_name": "LayoutModel",
     "state": {
      "_model_module": "@jupyter-widgets/base",
      "_model_module_version": "1.2.0",
      "_model_name": "LayoutModel",
      "_view_count": null,
      "_view_module": "@jupyter-widgets/base",
      "_view_module_version": "1.2.0",
      "_view_name": "LayoutView",
      "align_content": null,
      "align_items": null,
      "align_self": null,
      "border": null,
      "bottom": null,
      "display": null,
      "flex": null,
      "flex_flow": null,
      "grid_area": null,
      "grid_auto_columns": null,
      "grid_auto_flow": null,
      "grid_auto_rows": null,
      "grid_column": null,
      "grid_gap": null,
      "grid_row": null,
      "grid_template_areas": null,
      "grid_template_columns": null,
      "grid_template_rows": null,
      "height": null,
      "justify_content": null,
      "justify_items": null,
      "left": null,
      "margin": null,
      "max_height": null,
      "max_width": null,
      "min_height": null,
      "min_width": null,
      "object_fit": null,
      "object_position": null,
      "order": null,
      "overflow": null,
      "overflow_x": null,
      "overflow_y": null,
      "padding": null,
      "right": null,
      "top": null,
      "visibility": null,
      "width": null
     }
    },
    "4e5dbc65c11a4c7ebc13f50d022e99f1": {
     "model_module": "@jupyter-widgets/base",
     "model_module_version": "1.2.0",
     "model_name": "LayoutModel",
     "state": {
      "_model_module": "@jupyter-widgets/base",
      "_model_module_version": "1.2.0",
      "_model_name": "LayoutModel",
      "_view_count": null,
      "_view_module": "@jupyter-widgets/base",
      "_view_module_version": "1.2.0",
      "_view_name": "LayoutView",
      "align_content": null,
      "align_items": null,
      "align_self": null,
      "border": null,
      "bottom": null,
      "display": null,
      "flex": null,
      "flex_flow": null,
      "grid_area": null,
      "grid_auto_columns": null,
      "grid_auto_flow": null,
      "grid_auto_rows": null,
      "grid_column": null,
      "grid_gap": null,
      "grid_row": null,
      "grid_template_areas": null,
      "grid_template_columns": null,
      "grid_template_rows": null,
      "height": null,
      "justify_content": null,
      "justify_items": null,
      "left": null,
      "margin": null,
      "max_height": null,
      "max_width": null,
      "min_height": null,
      "min_width": null,
      "object_fit": null,
      "object_position": null,
      "order": null,
      "overflow": null,
      "overflow_x": null,
      "overflow_y": null,
      "padding": null,
      "right": null,
      "top": null,
      "visibility": null,
      "width": null
     }
    },
    "54de60b3ddd9411c9606cc38e86d1fe6": {
     "model_module": "@jupyter-widgets/controls",
     "model_module_version": "1.5.0",
     "model_name": "DescriptionStyleModel",
     "state": {
      "_model_module": "@jupyter-widgets/controls",
      "_model_module_version": "1.5.0",
      "_model_name": "DescriptionStyleModel",
      "_view_count": null,
      "_view_module": "@jupyter-widgets/base",
      "_view_module_version": "1.2.0",
      "_view_name": "StyleView",
      "description_width": ""
     }
    },
    "57463dcad89744d78b0d5f7c87f64f57": {
     "model_module": "@jupyter-widgets/controls",
     "model_module_version": "1.5.0",
     "model_name": "HTMLModel",
     "state": {
      "_dom_classes": [],
      "_model_module": "@jupyter-widgets/controls",
      "_model_module_version": "1.5.0",
      "_model_name": "HTMLModel",
      "_view_count": null,
      "_view_module": "@jupyter-widgets/controls",
      "_view_module_version": "1.5.0",
      "_view_name": "HTMLView",
      "description": "",
      "description_tooltip": null,
      "layout": "IPY_MODEL_6e4d48d9021e4e2c88be11ffdfe5a819",
      "placeholder": "​",
      "style": "IPY_MODEL_54de60b3ddd9411c9606cc38e86d1fe6",
      "value": "Downloading (…)solve/main/vocab.txt: 100%"
     }
    },
    "5c7d42b9a9e84c93a0d5b13ec9e60158": {
     "model_module": "@jupyter-widgets/controls",
     "model_module_version": "1.5.0",
     "model_name": "DescriptionStyleModel",
     "state": {
      "_model_module": "@jupyter-widgets/controls",
      "_model_module_version": "1.5.0",
      "_model_name": "DescriptionStyleModel",
      "_view_count": null,
      "_view_module": "@jupyter-widgets/base",
      "_view_module_version": "1.2.0",
      "_view_name": "StyleView",
      "description_width": ""
     }
    },
    "5d278444830f4e3686b95f0da58228e0": {
     "model_module": "@jupyter-widgets/controls",
     "model_module_version": "1.5.0",
     "model_name": "ProgressStyleModel",
     "state": {
      "_model_module": "@jupyter-widgets/controls",
      "_model_module_version": "1.5.0",
      "_model_name": "ProgressStyleModel",
      "_view_count": null,
      "_view_module": "@jupyter-widgets/base",
      "_view_module_version": "1.2.0",
      "_view_name": "StyleView",
      "bar_color": null,
      "description_width": ""
     }
    },
    "6194b70b50b1497b9f1e12e3009dd377": {
     "model_module": "@jupyter-widgets/controls",
     "model_module_version": "1.5.0",
     "model_name": "HTMLModel",
     "state": {
      "_dom_classes": [],
      "_model_module": "@jupyter-widgets/controls",
      "_model_module_version": "1.5.0",
      "_model_name": "HTMLModel",
      "_view_count": null,
      "_view_module": "@jupyter-widgets/controls",
      "_view_module_version": "1.5.0",
      "_view_name": "HTMLView",
      "description": "",
      "description_tooltip": null,
      "layout": "IPY_MODEL_4e5dbc65c11a4c7ebc13f50d022e99f1",
      "placeholder": "​",
      "style": "IPY_MODEL_b7c9f2e92bbb4fac941c38ab33249552",
      "value": "Downloading (…)okenizer_config.json: 100%"
     }
    },
    "6200b17167354bffae81a189472a6cc6": {
     "model_module": "@jupyter-widgets/controls",
     "model_module_version": "1.5.0",
     "model_name": "HTMLModel",
     "state": {
      "_dom_classes": [],
      "_model_module": "@jupyter-widgets/controls",
      "_model_module_version": "1.5.0",
      "_model_name": "HTMLModel",
      "_view_count": null,
      "_view_module": "@jupyter-widgets/controls",
      "_view_module_version": "1.5.0",
      "_view_name": "HTMLView",
      "description": "",
      "description_tooltip": null,
      "layout": "IPY_MODEL_ae705ec2d64f42eb86561dbbaaadb449",
      "placeholder": "​",
      "style": "IPY_MODEL_248e7c182ecb4bc3b1de571bd01fcf12",
      "value": "Downloading (…)/main/tokenizer.json: 100%"
     }
    },
    "6213f62d46084afeaf7b493b31a7af21": {
     "model_module": "@jupyter-widgets/base",
     "model_module_version": "1.2.0",
     "model_name": "LayoutModel",
     "state": {
      "_model_module": "@jupyter-widgets/base",
      "_model_module_version": "1.2.0",
      "_model_name": "LayoutModel",
      "_view_count": null,
      "_view_module": "@jupyter-widgets/base",
      "_view_module_version": "1.2.0",
      "_view_name": "LayoutView",
      "align_content": null,
      "align_items": null,
      "align_self": null,
      "border": null,
      "bottom": null,
      "display": null,
      "flex": null,
      "flex_flow": null,
      "grid_area": null,
      "grid_auto_columns": null,
      "grid_auto_flow": null,
      "grid_auto_rows": null,
      "grid_column": null,
      "grid_gap": null,
      "grid_row": null,
      "grid_template_areas": null,
      "grid_template_columns": null,
      "grid_template_rows": null,
      "height": null,
      "justify_content": null,
      "justify_items": null,
      "left": null,
      "margin": null,
      "max_height": null,
      "max_width": null,
      "min_height": null,
      "min_width": null,
      "object_fit": null,
      "object_position": null,
      "order": null,
      "overflow": null,
      "overflow_x": null,
      "overflow_y": null,
      "padding": null,
      "right": null,
      "top": null,
      "visibility": null,
      "width": null
     }
    },
    "64ebc41c0ed144ffb64f0980901c06ab": {
     "model_module": "@jupyter-widgets/base",
     "model_module_version": "1.2.0",
     "model_name": "LayoutModel",
     "state": {
      "_model_module": "@jupyter-widgets/base",
      "_model_module_version": "1.2.0",
      "_model_name": "LayoutModel",
      "_view_count": null,
      "_view_module": "@jupyter-widgets/base",
      "_view_module_version": "1.2.0",
      "_view_name": "LayoutView",
      "align_content": null,
      "align_items": null,
      "align_self": null,
      "border": null,
      "bottom": null,
      "display": null,
      "flex": null,
      "flex_flow": null,
      "grid_area": null,
      "grid_auto_columns": null,
      "grid_auto_flow": null,
      "grid_auto_rows": null,
      "grid_column": null,
      "grid_gap": null,
      "grid_row": null,
      "grid_template_areas": null,
      "grid_template_columns": null,
      "grid_template_rows": null,
      "height": null,
      "justify_content": null,
      "justify_items": null,
      "left": null,
      "margin": null,
      "max_height": null,
      "max_width": null,
      "min_height": null,
      "min_width": null,
      "object_fit": null,
      "object_position": null,
      "order": null,
      "overflow": null,
      "overflow_x": null,
      "overflow_y": null,
      "padding": null,
      "right": null,
      "top": null,
      "visibility": null,
      "width": null
     }
    },
    "6e4d48d9021e4e2c88be11ffdfe5a819": {
     "model_module": "@jupyter-widgets/base",
     "model_module_version": "1.2.0",
     "model_name": "LayoutModel",
     "state": {
      "_model_module": "@jupyter-widgets/base",
      "_model_module_version": "1.2.0",
      "_model_name": "LayoutModel",
      "_view_count": null,
      "_view_module": "@jupyter-widgets/base",
      "_view_module_version": "1.2.0",
      "_view_name": "LayoutView",
      "align_content": null,
      "align_items": null,
      "align_self": null,
      "border": null,
      "bottom": null,
      "display": null,
      "flex": null,
      "flex_flow": null,
      "grid_area": null,
      "grid_auto_columns": null,
      "grid_auto_flow": null,
      "grid_auto_rows": null,
      "grid_column": null,
      "grid_gap": null,
      "grid_row": null,
      "grid_template_areas": null,
      "grid_template_columns": null,
      "grid_template_rows": null,
      "height": null,
      "justify_content": null,
      "justify_items": null,
      "left": null,
      "margin": null,
      "max_height": null,
      "max_width": null,
      "min_height": null,
      "min_width": null,
      "object_fit": null,
      "object_position": null,
      "order": null,
      "overflow": null,
      "overflow_x": null,
      "overflow_y": null,
      "padding": null,
      "right": null,
      "top": null,
      "visibility": null,
      "width": null
     }
    },
    "77a8da03c45548909b4bd5bb40a76690": {
     "model_module": "@jupyter-widgets/base",
     "model_module_version": "1.2.0",
     "model_name": "LayoutModel",
     "state": {
      "_model_module": "@jupyter-widgets/base",
      "_model_module_version": "1.2.0",
      "_model_name": "LayoutModel",
      "_view_count": null,
      "_view_module": "@jupyter-widgets/base",
      "_view_module_version": "1.2.0",
      "_view_name": "LayoutView",
      "align_content": null,
      "align_items": null,
      "align_self": null,
      "border": null,
      "bottom": null,
      "display": null,
      "flex": null,
      "flex_flow": null,
      "grid_area": null,
      "grid_auto_columns": null,
      "grid_auto_flow": null,
      "grid_auto_rows": null,
      "grid_column": null,
      "grid_gap": null,
      "grid_row": null,
      "grid_template_areas": null,
      "grid_template_columns": null,
      "grid_template_rows": null,
      "height": null,
      "justify_content": null,
      "justify_items": null,
      "left": null,
      "margin": null,
      "max_height": null,
      "max_width": null,
      "min_height": null,
      "min_width": null,
      "object_fit": null,
      "object_position": null,
      "order": null,
      "overflow": null,
      "overflow_x": null,
      "overflow_y": null,
      "padding": null,
      "right": null,
      "top": null,
      "visibility": null,
      "width": null
     }
    },
    "7976b8fe69a844cb9f2541b5b72da37c": {
     "model_module": "@jupyter-widgets/base",
     "model_module_version": "1.2.0",
     "model_name": "LayoutModel",
     "state": {
      "_model_module": "@jupyter-widgets/base",
      "_model_module_version": "1.2.0",
      "_model_name": "LayoutModel",
      "_view_count": null,
      "_view_module": "@jupyter-widgets/base",
      "_view_module_version": "1.2.0",
      "_view_name": "LayoutView",
      "align_content": null,
      "align_items": null,
      "align_self": null,
      "border": null,
      "bottom": null,
      "display": null,
      "flex": null,
      "flex_flow": null,
      "grid_area": null,
      "grid_auto_columns": null,
      "grid_auto_flow": null,
      "grid_auto_rows": null,
      "grid_column": null,
      "grid_gap": null,
      "grid_row": null,
      "grid_template_areas": null,
      "grid_template_columns": null,
      "grid_template_rows": null,
      "height": null,
      "justify_content": null,
      "justify_items": null,
      "left": null,
      "margin": null,
      "max_height": null,
      "max_width": null,
      "min_height": null,
      "min_width": null,
      "object_fit": null,
      "object_position": null,
      "order": null,
      "overflow": null,
      "overflow_x": null,
      "overflow_y": null,
      "padding": null,
      "right": null,
      "top": null,
      "visibility": null,
      "width": null
     }
    },
    "7a045460f8324d8e952e93cc38fdee05": {
     "model_module": "@jupyter-widgets/controls",
     "model_module_version": "1.5.0",
     "model_name": "HBoxModel",
     "state": {
      "_dom_classes": [],
      "_model_module": "@jupyter-widgets/controls",
      "_model_module_version": "1.5.0",
      "_model_name": "HBoxModel",
      "_view_count": null,
      "_view_module": "@jupyter-widgets/controls",
      "_view_module_version": "1.5.0",
      "_view_name": "HBoxView",
      "box_style": "",
      "children": [
       "IPY_MODEL_57463dcad89744d78b0d5f7c87f64f57",
       "IPY_MODEL_425289b7141a44e0b6f4546820803b9d",
       "IPY_MODEL_bd3ca022193d4bfa91db1517642359fc"
      ],
      "layout": "IPY_MODEL_f62b332ec330427294bd490b366000f5"
     }
    },
    "7d1dc08470f24d4589c7699aa6a5d7df": {
     "model_module": "@jupyter-widgets/base",
     "model_module_version": "1.2.0",
     "model_name": "LayoutModel",
     "state": {
      "_model_module": "@jupyter-widgets/base",
      "_model_module_version": "1.2.0",
      "_model_name": "LayoutModel",
      "_view_count": null,
      "_view_module": "@jupyter-widgets/base",
      "_view_module_version": "1.2.0",
      "_view_name": "LayoutView",
      "align_content": null,
      "align_items": null,
      "align_self": null,
      "border": null,
      "bottom": null,
      "display": null,
      "flex": null,
      "flex_flow": null,
      "grid_area": null,
      "grid_auto_columns": null,
      "grid_auto_flow": null,
      "grid_auto_rows": null,
      "grid_column": null,
      "grid_gap": null,
      "grid_row": null,
      "grid_template_areas": null,
      "grid_template_columns": null,
      "grid_template_rows": null,
      "height": null,
      "justify_content": null,
      "justify_items": null,
      "left": null,
      "margin": null,
      "max_height": null,
      "max_width": null,
      "min_height": null,
      "min_width": null,
      "object_fit": null,
      "object_position": null,
      "order": null,
      "overflow": null,
      "overflow_x": null,
      "overflow_y": null,
      "padding": null,
      "right": null,
      "top": null,
      "visibility": null,
      "width": null
     }
    },
    "7e281463ca9a4a8c9efbe87fe2e0c7b8": {
     "model_module": "@jupyter-widgets/controls",
     "model_module_version": "1.5.0",
     "model_name": "HTMLModel",
     "state": {
      "_dom_classes": [],
      "_model_module": "@jupyter-widgets/controls",
      "_model_module_version": "1.5.0",
      "_model_name": "HTMLModel",
      "_view_count": null,
      "_view_module": "@jupyter-widgets/controls",
      "_view_module_version": "1.5.0",
      "_view_name": "HTMLView",
      "description": "",
      "description_tooltip": null,
      "layout": "IPY_MODEL_86adbfa5f9f940b18a9c083c607b8d6b",
      "placeholder": "​",
      "style": "IPY_MODEL_163064efbe4a4e7f84b4d0ccb3552f5f",
      "value": " 820/820 [00:00&lt;00:00, 56.7kB/s]"
     }
    },
    "86adbfa5f9f940b18a9c083c607b8d6b": {
     "model_module": "@jupyter-widgets/base",
     "model_module_version": "1.2.0",
     "model_name": "LayoutModel",
     "state": {
      "_model_module": "@jupyter-widgets/base",
      "_model_module_version": "1.2.0",
      "_model_name": "LayoutModel",
      "_view_count": null,
      "_view_module": "@jupyter-widgets/base",
      "_view_module_version": "1.2.0",
      "_view_name": "LayoutView",
      "align_content": null,
      "align_items": null,
      "align_self": null,
      "border": null,
      "bottom": null,
      "display": null,
      "flex": null,
      "flex_flow": null,
      "grid_area": null,
      "grid_auto_columns": null,
      "grid_auto_flow": null,
      "grid_auto_rows": null,
      "grid_column": null,
      "grid_gap": null,
      "grid_row": null,
      "grid_template_areas": null,
      "grid_template_columns": null,
      "grid_template_rows": null,
      "height": null,
      "justify_content": null,
      "justify_items": null,
      "left": null,
      "margin": null,
      "max_height": null,
      "max_width": null,
      "min_height": null,
      "min_width": null,
      "object_fit": null,
      "object_position": null,
      "order": null,
      "overflow": null,
      "overflow_x": null,
      "overflow_y": null,
      "padding": null,
      "right": null,
      "top": null,
      "visibility": null,
      "width": null
     }
    },
    "8ad310a3bc3f4f8c93aed06036f9442d": {
     "model_module": "@jupyter-widgets/base",
     "model_module_version": "1.2.0",
     "model_name": "LayoutModel",
     "state": {
      "_model_module": "@jupyter-widgets/base",
      "_model_module_version": "1.2.0",
      "_model_name": "LayoutModel",
      "_view_count": null,
      "_view_module": "@jupyter-widgets/base",
      "_view_module_version": "1.2.0",
      "_view_name": "LayoutView",
      "align_content": null,
      "align_items": null,
      "align_self": null,
      "border": null,
      "bottom": null,
      "display": null,
      "flex": null,
      "flex_flow": null,
      "grid_area": null,
      "grid_auto_columns": null,
      "grid_auto_flow": null,
      "grid_auto_rows": null,
      "grid_column": null,
      "grid_gap": null,
      "grid_row": null,
      "grid_template_areas": null,
      "grid_template_columns": null,
      "grid_template_rows": null,
      "height": null,
      "justify_content": null,
      "justify_items": null,
      "left": null,
      "margin": null,
      "max_height": null,
      "max_width": null,
      "min_height": null,
      "min_width": null,
      "object_fit": null,
      "object_position": null,
      "order": null,
      "overflow": null,
      "overflow_x": null,
      "overflow_y": null,
      "padding": null,
      "right": null,
      "top": null,
      "visibility": null,
      "width": null
     }
    },
    "8f3a488813654137936e3ce60733cf90": {
     "model_module": "@jupyter-widgets/base",
     "model_module_version": "1.2.0",
     "model_name": "LayoutModel",
     "state": {
      "_model_module": "@jupyter-widgets/base",
      "_model_module_version": "1.2.0",
      "_model_name": "LayoutModel",
      "_view_count": null,
      "_view_module": "@jupyter-widgets/base",
      "_view_module_version": "1.2.0",
      "_view_name": "LayoutView",
      "align_content": null,
      "align_items": null,
      "align_self": null,
      "border": null,
      "bottom": null,
      "display": null,
      "flex": null,
      "flex_flow": null,
      "grid_area": null,
      "grid_auto_columns": null,
      "grid_auto_flow": null,
      "grid_auto_rows": null,
      "grid_column": null,
      "grid_gap": null,
      "grid_row": null,
      "grid_template_areas": null,
      "grid_template_columns": null,
      "grid_template_rows": null,
      "height": null,
      "justify_content": null,
      "justify_items": null,
      "left": null,
      "margin": null,
      "max_height": null,
      "max_width": null,
      "min_height": null,
      "min_width": null,
      "object_fit": null,
      "object_position": null,
      "order": null,
      "overflow": null,
      "overflow_x": null,
      "overflow_y": null,
      "padding": null,
      "right": null,
      "top": null,
      "visibility": null,
      "width": null
     }
    },
    "8faba5181bd54f458e097239f958d4bc": {
     "model_module": "@jupyter-widgets/controls",
     "model_module_version": "1.5.0",
     "model_name": "DescriptionStyleModel",
     "state": {
      "_model_module": "@jupyter-widgets/controls",
      "_model_module_version": "1.5.0",
      "_model_name": "DescriptionStyleModel",
      "_view_count": null,
      "_view_module": "@jupyter-widgets/base",
      "_view_module_version": "1.2.0",
      "_view_name": "StyleView",
      "description_width": ""
     }
    },
    "9b74f0986e934d3282fa42a7cee5a7b7": {
     "model_module": "@jupyter-widgets/controls",
     "model_module_version": "1.5.0",
     "model_name": "FloatProgressModel",
     "state": {
      "_dom_classes": [],
      "_model_module": "@jupyter-widgets/controls",
      "_model_module_version": "1.5.0",
      "_model_name": "FloatProgressModel",
      "_view_count": null,
      "_view_module": "@jupyter-widgets/controls",
      "_view_module_version": "1.5.0",
      "_view_name": "ProgressView",
      "bar_style": "success",
      "description": "",
      "description_tooltip": null,
      "layout": "IPY_MODEL_ec76e196f39f4e85a2120c38c5dbb430",
      "max": 820,
      "min": 0,
      "orientation": "horizontal",
      "style": "IPY_MODEL_131cf7db18424a85adbc2e91e4e97311",
      "value": 820
     }
    },
    "a3edb2fdbc944e649b6d4cd9325d4b92": {
     "model_module": "@jupyter-widgets/controls",
     "model_module_version": "1.5.0",
     "model_name": "HTMLModel",
     "state": {
      "_dom_classes": [],
      "_model_module": "@jupyter-widgets/controls",
      "_model_module_version": "1.5.0",
      "_model_name": "HTMLModel",
      "_view_count": null,
      "_view_module": "@jupyter-widgets/controls",
      "_view_module_version": "1.5.0",
      "_view_name": "HTMLView",
      "description": "",
      "description_tooltip": null,
      "layout": "IPY_MODEL_7976b8fe69a844cb9f2541b5b72da37c",
      "placeholder": "​",
      "style": "IPY_MODEL_04ba35e17be24f638a4190b3e5cadfba",
      "value": "Downloading (…)lve/main/config.json: 100%"
     }
    },
    "a7c72c57f3da43e096834058f9d60a6f": {
     "model_module": "@jupyter-widgets/base",
     "model_module_version": "1.2.0",
     "model_name": "LayoutModel",
     "state": {
      "_model_module": "@jupyter-widgets/base",
      "_model_module_version": "1.2.0",
      "_model_name": "LayoutModel",
      "_view_count": null,
      "_view_module": "@jupyter-widgets/base",
      "_view_module_version": "1.2.0",
      "_view_name": "LayoutView",
      "align_content": null,
      "align_items": null,
      "align_self": null,
      "border": null,
      "bottom": null,
      "display": null,
      "flex": null,
      "flex_flow": null,
      "grid_area": null,
      "grid_auto_columns": null,
      "grid_auto_flow": null,
      "grid_auto_rows": null,
      "grid_column": null,
      "grid_gap": null,
      "grid_row": null,
      "grid_template_areas": null,
      "grid_template_columns": null,
      "grid_template_rows": null,
      "height": null,
      "justify_content": null,
      "justify_items": null,
      "left": null,
      "margin": null,
      "max_height": null,
      "max_width": null,
      "min_height": null,
      "min_width": null,
      "object_fit": null,
      "object_position": null,
      "order": null,
      "overflow": null,
      "overflow_x": null,
      "overflow_y": null,
      "padding": null,
      "right": null,
      "top": null,
      "visibility": null,
      "width": null
     }
    },
    "aa6d5c23020a458582c3d8f7edc82d2b": {
     "model_module": "@jupyter-widgets/controls",
     "model_module_version": "1.5.0",
     "model_name": "HTMLModel",
     "state": {
      "_dom_classes": [],
      "_model_module": "@jupyter-widgets/controls",
      "_model_module_version": "1.5.0",
      "_model_name": "HTMLModel",
      "_view_count": null,
      "_view_module": "@jupyter-widgets/controls",
      "_view_module_version": "1.5.0",
      "_view_name": "HTMLView",
      "description": "",
      "description_tooltip": null,
      "layout": "IPY_MODEL_6213f62d46084afeaf7b493b31a7af21",
      "placeholder": "​",
      "style": "IPY_MODEL_5c7d42b9a9e84c93a0d5b13ec9e60158",
      "value": " 721k/721k [00:00&lt;00:00, 5.30MB/s]"
     }
    },
    "ae705ec2d64f42eb86561dbbaaadb449": {
     "model_module": "@jupyter-widgets/base",
     "model_module_version": "1.2.0",
     "model_name": "LayoutModel",
     "state": {
      "_model_module": "@jupyter-widgets/base",
      "_model_module_version": "1.2.0",
      "_model_name": "LayoutModel",
      "_view_count": null,
      "_view_module": "@jupyter-widgets/base",
      "_view_module_version": "1.2.0",
      "_view_name": "LayoutView",
      "align_content": null,
      "align_items": null,
      "align_self": null,
      "border": null,
      "bottom": null,
      "display": null,
      "flex": null,
      "flex_flow": null,
      "grid_area": null,
      "grid_auto_columns": null,
      "grid_auto_flow": null,
      "grid_auto_rows": null,
      "grid_column": null,
      "grid_gap": null,
      "grid_row": null,
      "grid_template_areas": null,
      "grid_template_columns": null,
      "grid_template_rows": null,
      "height": null,
      "justify_content": null,
      "justify_items": null,
      "left": null,
      "margin": null,
      "max_height": null,
      "max_width": null,
      "min_height": null,
      "min_width": null,
      "object_fit": null,
      "object_position": null,
      "order": null,
      "overflow": null,
      "overflow_x": null,
      "overflow_y": null,
      "padding": null,
      "right": null,
      "top": null,
      "visibility": null,
      "width": null
     }
    },
    "b06d910ab6df403c9a01aa2edfe52712": {
     "model_module": "@jupyter-widgets/controls",
     "model_module_version": "1.5.0",
     "model_name": "HTMLModel",
     "state": {
      "_dom_classes": [],
      "_model_module": "@jupyter-widgets/controls",
      "_model_module_version": "1.5.0",
      "_model_name": "HTMLModel",
      "_view_count": null,
      "_view_module": "@jupyter-widgets/controls",
      "_view_module_version": "1.5.0",
      "_view_name": "HTMLView",
      "description": "",
      "description_tooltip": null,
      "layout": "IPY_MODEL_0ffb1e5a95ff4c2a82d9a73144bbc1b1",
      "placeholder": "​",
      "style": "IPY_MODEL_c8a8ecadc07245acadd1c3cfcfe4650a",
      "value": "Downloading pytorch_model.bin: 100%"
     }
    },
    "b229e55719f747369067a427d5325340": {
     "model_module": "@jupyter-widgets/base",
     "model_module_version": "1.2.0",
     "model_name": "LayoutModel",
     "state": {
      "_model_module": "@jupyter-widgets/base",
      "_model_module_version": "1.2.0",
      "_model_name": "LayoutModel",
      "_view_count": null,
      "_view_module": "@jupyter-widgets/base",
      "_view_module_version": "1.2.0",
      "_view_name": "LayoutView",
      "align_content": null,
      "align_items": null,
      "align_self": null,
      "border": null,
      "bottom": null,
      "display": null,
      "flex": null,
      "flex_flow": null,
      "grid_area": null,
      "grid_auto_columns": null,
      "grid_auto_flow": null,
      "grid_auto_rows": null,
      "grid_column": null,
      "grid_gap": null,
      "grid_row": null,
      "grid_template_areas": null,
      "grid_template_columns": null,
      "grid_template_rows": null,
      "height": null,
      "justify_content": null,
      "justify_items": null,
      "left": null,
      "margin": null,
      "max_height": null,
      "max_width": null,
      "min_height": null,
      "min_width": null,
      "object_fit": null,
      "object_position": null,
      "order": null,
      "overflow": null,
      "overflow_x": null,
      "overflow_y": null,
      "padding": null,
      "right": null,
      "top": null,
      "visibility": null,
      "width": null
     }
    },
    "b7c9f2e92bbb4fac941c38ab33249552": {
     "model_module": "@jupyter-widgets/controls",
     "model_module_version": "1.5.0",
     "model_name": "DescriptionStyleModel",
     "state": {
      "_model_module": "@jupyter-widgets/controls",
      "_model_module_version": "1.5.0",
      "_model_name": "DescriptionStyleModel",
      "_view_count": null,
      "_view_module": "@jupyter-widgets/base",
      "_view_module_version": "1.2.0",
      "_view_name": "StyleView",
      "description_width": ""
     }
    },
    "bd3ca022193d4bfa91db1517642359fc": {
     "model_module": "@jupyter-widgets/controls",
     "model_module_version": "1.5.0",
     "model_name": "HTMLModel",
     "state": {
      "_dom_classes": [],
      "_model_module": "@jupyter-widgets/controls",
      "_model_module_version": "1.5.0",
      "_model_name": "HTMLModel",
      "_view_count": null,
      "_view_module": "@jupyter-widgets/controls",
      "_view_module_version": "1.5.0",
      "_view_name": "HTMLView",
      "description": "",
      "description_tooltip": null,
      "layout": "IPY_MODEL_e6d0fe531623487d9ccd9150c062fe9a",
      "placeholder": "​",
      "style": "IPY_MODEL_1de8a12bb7e64862a113ba86bf2debb0",
      "value": " 250k/250k [00:00&lt;00:00, 3.77MB/s]"
     }
    },
    "c7a31b2a3b3e49ee95b407cc090eb1b4": {
     "model_module": "@jupyter-widgets/base",
     "model_module_version": "1.2.0",
     "model_name": "LayoutModel",
     "state": {
      "_model_module": "@jupyter-widgets/base",
      "_model_module_version": "1.2.0",
      "_model_name": "LayoutModel",
      "_view_count": null,
      "_view_module": "@jupyter-widgets/base",
      "_view_module_version": "1.2.0",
      "_view_name": "LayoutView",
      "align_content": null,
      "align_items": null,
      "align_self": null,
      "border": null,
      "bottom": null,
      "display": null,
      "flex": null,
      "flex_flow": null,
      "grid_area": null,
      "grid_auto_columns": null,
      "grid_auto_flow": null,
      "grid_auto_rows": null,
      "grid_column": null,
      "grid_gap": null,
      "grid_row": null,
      "grid_template_areas": null,
      "grid_template_columns": null,
      "grid_template_rows": null,
      "height": null,
      "justify_content": null,
      "justify_items": null,
      "left": null,
      "margin": null,
      "max_height": null,
      "max_width": null,
      "min_height": null,
      "min_width": null,
      "object_fit": null,
      "object_position": null,
      "order": null,
      "overflow": null,
      "overflow_x": null,
      "overflow_y": null,
      "padding": null,
      "right": null,
      "top": null,
      "visibility": null,
      "width": null
     }
    },
    "c8a8ecadc07245acadd1c3cfcfe4650a": {
     "model_module": "@jupyter-widgets/controls",
     "model_module_version": "1.5.0",
     "model_name": "DescriptionStyleModel",
     "state": {
      "_model_module": "@jupyter-widgets/controls",
      "_model_module_version": "1.5.0",
      "_model_name": "DescriptionStyleModel",
      "_view_count": null,
      "_view_module": "@jupyter-widgets/base",
      "_view_module_version": "1.2.0",
      "_view_name": "StyleView",
      "description_width": ""
     }
    },
    "c8c5b51d74bb42c099fd123a28b294dc": {
     "model_module": "@jupyter-widgets/controls",
     "model_module_version": "1.5.0",
     "model_name": "HBoxModel",
     "state": {
      "_dom_classes": [],
      "_model_module": "@jupyter-widgets/controls",
      "_model_module_version": "1.5.0",
      "_model_name": "HBoxModel",
      "_view_count": null,
      "_view_module": "@jupyter-widgets/controls",
      "_view_module_version": "1.5.0",
      "_view_name": "HBoxView",
      "box_style": "",
      "children": [
       "IPY_MODEL_b06d910ab6df403c9a01aa2edfe52712",
       "IPY_MODEL_20015162c0a64fcdb572b4018fd61187",
       "IPY_MODEL_d13ada86b4e541899c94fbf936c69ae3"
      ],
      "layout": "IPY_MODEL_a7c72c57f3da43e096834058f9d60a6f"
     }
    },
    "c98167b02d6e46a6b0a10968bb34e07d": {
     "model_module": "@jupyter-widgets/base",
     "model_module_version": "1.2.0",
     "model_name": "LayoutModel",
     "state": {
      "_model_module": "@jupyter-widgets/base",
      "_model_module_version": "1.2.0",
      "_model_name": "LayoutModel",
      "_view_count": null,
      "_view_module": "@jupyter-widgets/base",
      "_view_module_version": "1.2.0",
      "_view_name": "LayoutView",
      "align_content": null,
      "align_items": null,
      "align_self": null,
      "border": null,
      "bottom": null,
      "display": null,
      "flex": null,
      "flex_flow": null,
      "grid_area": null,
      "grid_auto_columns": null,
      "grid_auto_flow": null,
      "grid_auto_rows": null,
      "grid_column": null,
      "grid_gap": null,
      "grid_row": null,
      "grid_template_areas": null,
      "grid_template_columns": null,
      "grid_template_rows": null,
      "height": null,
      "justify_content": null,
      "justify_items": null,
      "left": null,
      "margin": null,
      "max_height": null,
      "max_width": null,
      "min_height": null,
      "min_width": null,
      "object_fit": null,
      "object_position": null,
      "order": null,
      "overflow": null,
      "overflow_x": null,
      "overflow_y": null,
      "padding": null,
      "right": null,
      "top": null,
      "visibility": null,
      "width": null
     }
    },
    "d13ada86b4e541899c94fbf936c69ae3": {
     "model_module": "@jupyter-widgets/controls",
     "model_module_version": "1.5.0",
     "model_name": "HTMLModel",
     "state": {
      "_dom_classes": [],
      "_model_module": "@jupyter-widgets/controls",
      "_model_module_version": "1.5.0",
      "_model_name": "HTMLModel",
      "_view_count": null,
      "_view_module": "@jupyter-widgets/controls",
      "_view_module_version": "1.5.0",
      "_view_name": "HTMLView",
      "description": "",
      "description_tooltip": null,
      "layout": "IPY_MODEL_7d1dc08470f24d4589c7699aa6a5d7df",
      "placeholder": "​",
      "style": "IPY_MODEL_4085abae2000471ba1cd1748188357ca",
      "value": " 436M/436M [00:09&lt;00:00, 44.1MB/s]"
     }
    },
    "e3147a15e385446ca62afe25b309f5d7": {
     "model_module": "@jupyter-widgets/base",
     "model_module_version": "1.2.0",
     "model_name": "LayoutModel",
     "state": {
      "_model_module": "@jupyter-widgets/base",
      "_model_module_version": "1.2.0",
      "_model_name": "LayoutModel",
      "_view_count": null,
      "_view_module": "@jupyter-widgets/base",
      "_view_module_version": "1.2.0",
      "_view_name": "LayoutView",
      "align_content": null,
      "align_items": null,
      "align_self": null,
      "border": null,
      "bottom": null,
      "display": null,
      "flex": null,
      "flex_flow": null,
      "grid_area": null,
      "grid_auto_columns": null,
      "grid_auto_flow": null,
      "grid_auto_rows": null,
      "grid_column": null,
      "grid_gap": null,
      "grid_row": null,
      "grid_template_areas": null,
      "grid_template_columns": null,
      "grid_template_rows": null,
      "height": null,
      "justify_content": null,
      "justify_items": null,
      "left": null,
      "margin": null,
      "max_height": null,
      "max_width": null,
      "min_height": null,
      "min_width": null,
      "object_fit": null,
      "object_position": null,
      "order": null,
      "overflow": null,
      "overflow_x": null,
      "overflow_y": null,
      "padding": null,
      "right": null,
      "top": null,
      "visibility": null,
      "width": null
     }
    },
    "e434d54ff4f443c596794907ae92238e": {
     "model_module": "@jupyter-widgets/controls",
     "model_module_version": "1.5.0",
     "model_name": "HBoxModel",
     "state": {
      "_dom_classes": [],
      "_model_module": "@jupyter-widgets/controls",
      "_model_module_version": "1.5.0",
      "_model_name": "HBoxModel",
      "_view_count": null,
      "_view_module": "@jupyter-widgets/controls",
      "_view_module_version": "1.5.0",
      "_view_name": "HBoxView",
      "box_style": "",
      "children": [
       "IPY_MODEL_0da267fd1551460e90a40ed2fd9d2f38",
       "IPY_MODEL_ea4a6c79200047deaf264e4618ce3e0c",
       "IPY_MODEL_0ee6882367c742129bc7ddc0db159cdf"
      ],
      "layout": "IPY_MODEL_8ad310a3bc3f4f8c93aed06036f9442d"
     }
    },
    "e6d0fe531623487d9ccd9150c062fe9a": {
     "model_module": "@jupyter-widgets/base",
     "model_module_version": "1.2.0",
     "model_name": "LayoutModel",
     "state": {
      "_model_module": "@jupyter-widgets/base",
      "_model_module_version": "1.2.0",
      "_model_name": "LayoutModel",
      "_view_count": null,
      "_view_module": "@jupyter-widgets/base",
      "_view_module_version": "1.2.0",
      "_view_name": "LayoutView",
      "align_content": null,
      "align_items": null,
      "align_self": null,
      "border": null,
      "bottom": null,
      "display": null,
      "flex": null,
      "flex_flow": null,
      "grid_area": null,
      "grid_auto_columns": null,
      "grid_auto_flow": null,
      "grid_auto_rows": null,
      "grid_column": null,
      "grid_gap": null,
      "grid_row": null,
      "grid_template_areas": null,
      "grid_template_columns": null,
      "grid_template_rows": null,
      "height": null,
      "justify_content": null,
      "justify_items": null,
      "left": null,
      "margin": null,
      "max_height": null,
      "max_width": null,
      "min_height": null,
      "min_width": null,
      "object_fit": null,
      "object_position": null,
      "order": null,
      "overflow": null,
      "overflow_x": null,
      "overflow_y": null,
      "padding": null,
      "right": null,
      "top": null,
      "visibility": null,
      "width": null
     }
    },
    "e88ea56191a340c78c2f4867b5323e80": {
     "model_module": "@jupyter-widgets/controls",
     "model_module_version": "1.5.0",
     "model_name": "FloatProgressModel",
     "state": {
      "_dom_classes": [],
      "_model_module": "@jupyter-widgets/controls",
      "_model_module_version": "1.5.0",
      "_model_name": "FloatProgressModel",
      "_view_count": null,
      "_view_module": "@jupyter-widgets/controls",
      "_view_module_version": "1.5.0",
      "_view_name": "ProgressView",
      "bar_style": "success",
      "description": "",
      "description_tooltip": null,
      "layout": "IPY_MODEL_b229e55719f747369067a427d5325340",
      "max": 367,
      "min": 0,
      "orientation": "horizontal",
      "style": "IPY_MODEL_5d278444830f4e3686b95f0da58228e0",
      "value": 367
     }
    },
    "ea4a6c79200047deaf264e4618ce3e0c": {
     "model_module": "@jupyter-widgets/controls",
     "model_module_version": "1.5.0",
     "model_name": "FloatProgressModel",
     "state": {
      "_dom_classes": [],
      "_model_module": "@jupyter-widgets/controls",
      "_model_module_version": "1.5.0",
      "_model_name": "FloatProgressModel",
      "_view_count": null,
      "_view_module": "@jupyter-widgets/controls",
      "_view_module_version": "1.5.0",
      "_view_name": "ProgressView",
      "bar_style": "success",
      "description": "",
      "description_tooltip": null,
      "layout": "IPY_MODEL_fd1c2c76a417427ea038994bba5cd7fc",
      "max": 125,
      "min": 0,
      "orientation": "horizontal",
      "style": "IPY_MODEL_37d3c23d12f9428384ab15ef03a83aab",
      "value": 125
     }
    },
    "ec76e196f39f4e85a2120c38c5dbb430": {
     "model_module": "@jupyter-widgets/base",
     "model_module_version": "1.2.0",
     "model_name": "LayoutModel",
     "state": {
      "_model_module": "@jupyter-widgets/base",
      "_model_module_version": "1.2.0",
      "_model_name": "LayoutModel",
      "_view_count": null,
      "_view_module": "@jupyter-widgets/base",
      "_view_module_version": "1.2.0",
      "_view_name": "LayoutView",
      "align_content": null,
      "align_items": null,
      "align_self": null,
      "border": null,
      "bottom": null,
      "display": null,
      "flex": null,
      "flex_flow": null,
      "grid_area": null,
      "grid_auto_columns": null,
      "grid_auto_flow": null,
      "grid_auto_rows": null,
      "grid_column": null,
      "grid_gap": null,
      "grid_row": null,
      "grid_template_areas": null,
      "grid_template_columns": null,
      "grid_template_rows": null,
      "height": null,
      "justify_content": null,
      "justify_items": null,
      "left": null,
      "margin": null,
      "max_height": null,
      "max_width": null,
      "min_height": null,
      "min_width": null,
      "object_fit": null,
      "object_position": null,
      "order": null,
      "overflow": null,
      "overflow_x": null,
      "overflow_y": null,
      "padding": null,
      "right": null,
      "top": null,
      "visibility": null,
      "width": null
     }
    },
    "f18932da04fb40dd857b5495c3ebd6cd": {
     "model_module": "@jupyter-widgets/controls",
     "model_module_version": "1.5.0",
     "model_name": "HBoxModel",
     "state": {
      "_dom_classes": [],
      "_model_module": "@jupyter-widgets/controls",
      "_model_module_version": "1.5.0",
      "_model_name": "HBoxModel",
      "_view_count": null,
      "_view_module": "@jupyter-widgets/controls",
      "_view_module_version": "1.5.0",
      "_view_name": "HBoxView",
      "box_style": "",
      "children": [
       "IPY_MODEL_6194b70b50b1497b9f1e12e3009dd377",
       "IPY_MODEL_e88ea56191a340c78c2f4867b5323e80",
       "IPY_MODEL_124d60c9444e43d1a374684687855c09"
      ],
      "layout": "IPY_MODEL_f959346fc6194f8d996a709e0fc64c3c"
     }
    },
    "f62b332ec330427294bd490b366000f5": {
     "model_module": "@jupyter-widgets/base",
     "model_module_version": "1.2.0",
     "model_name": "LayoutModel",
     "state": {
      "_model_module": "@jupyter-widgets/base",
      "_model_module_version": "1.2.0",
      "_model_name": "LayoutModel",
      "_view_count": null,
      "_view_module": "@jupyter-widgets/base",
      "_view_module_version": "1.2.0",
      "_view_name": "LayoutView",
      "align_content": null,
      "align_items": null,
      "align_self": null,
      "border": null,
      "bottom": null,
      "display": null,
      "flex": null,
      "flex_flow": null,
      "grid_area": null,
      "grid_auto_columns": null,
      "grid_auto_flow": null,
      "grid_auto_rows": null,
      "grid_column": null,
      "grid_gap": null,
      "grid_row": null,
      "grid_template_areas": null,
      "grid_template_columns": null,
      "grid_template_rows": null,
      "height": null,
      "justify_content": null,
      "justify_items": null,
      "left": null,
      "margin": null,
      "max_height": null,
      "max_width": null,
      "min_height": null,
      "min_width": null,
      "object_fit": null,
      "object_position": null,
      "order": null,
      "overflow": null,
      "overflow_x": null,
      "overflow_y": null,
      "padding": null,
      "right": null,
      "top": null,
      "visibility": null,
      "width": null
     }
    },
    "f959346fc6194f8d996a709e0fc64c3c": {
     "model_module": "@jupyter-widgets/base",
     "model_module_version": "1.2.0",
     "model_name": "LayoutModel",
     "state": {
      "_model_module": "@jupyter-widgets/base",
      "_model_module_version": "1.2.0",
      "_model_name": "LayoutModel",
      "_view_count": null,
      "_view_module": "@jupyter-widgets/base",
      "_view_module_version": "1.2.0",
      "_view_name": "LayoutView",
      "align_content": null,
      "align_items": null,
      "align_self": null,
      "border": null,
      "bottom": null,
      "display": null,
      "flex": null,
      "flex_flow": null,
      "grid_area": null,
      "grid_auto_columns": null,
      "grid_auto_flow": null,
      "grid_auto_rows": null,
      "grid_column": null,
      "grid_gap": null,
      "grid_row": null,
      "grid_template_areas": null,
      "grid_template_columns": null,
      "grid_template_rows": null,
      "height": null,
      "justify_content": null,
      "justify_items": null,
      "left": null,
      "margin": null,
      "max_height": null,
      "max_width": null,
      "min_height": null,
      "min_width": null,
      "object_fit": null,
      "object_position": null,
      "order": null,
      "overflow": null,
      "overflow_x": null,
      "overflow_y": null,
      "padding": null,
      "right": null,
      "top": null,
      "visibility": null,
      "width": null
     }
    },
    "fab1802bb07045eaad18e6b2197ab5c0": {
     "model_module": "@jupyter-widgets/controls",
     "model_module_version": "1.5.0",
     "model_name": "HBoxModel",
     "state": {
      "_dom_classes": [],
      "_model_module": "@jupyter-widgets/controls",
      "_model_module_version": "1.5.0",
      "_model_name": "HBoxModel",
      "_view_count": null,
      "_view_module": "@jupyter-widgets/controls",
      "_view_module_version": "1.5.0",
      "_view_name": "HBoxView",
      "box_style": "",
      "children": [
       "IPY_MODEL_6200b17167354bffae81a189472a6cc6",
       "IPY_MODEL_0de7466e848741ca900e20f20fae605a",
       "IPY_MODEL_aa6d5c23020a458582c3d8f7edc82d2b"
      ],
      "layout": "IPY_MODEL_3bf4f353021744e1835f992d9643fa5b"
     }
    },
    "fad7bfc260094008b310549e9a1fa73d": {
     "model_module": "@jupyter-widgets/controls",
     "model_module_version": "1.5.0",
     "model_name": "ProgressStyleModel",
     "state": {
      "_model_module": "@jupyter-widgets/controls",
      "_model_module_version": "1.5.0",
      "_model_name": "ProgressStyleModel",
      "_view_count": null,
      "_view_module": "@jupyter-widgets/base",
      "_view_module_version": "1.2.0",
      "_view_name": "StyleView",
      "bar_color": null,
      "description_width": ""
     }
    },
    "fd1c2c76a417427ea038994bba5cd7fc": {
     "model_module": "@jupyter-widgets/base",
     "model_module_version": "1.2.0",
     "model_name": "LayoutModel",
     "state": {
      "_model_module": "@jupyter-widgets/base",
      "_model_module_version": "1.2.0",
      "_model_name": "LayoutModel",
      "_view_count": null,
      "_view_module": "@jupyter-widgets/base",
      "_view_module_version": "1.2.0",
      "_view_name": "LayoutView",
      "align_content": null,
      "align_items": null,
      "align_self": null,
      "border": null,
      "bottom": null,
      "display": null,
      "flex": null,
      "flex_flow": null,
      "grid_area": null,
      "grid_auto_columns": null,
      "grid_auto_flow": null,
      "grid_auto_rows": null,
      "grid_column": null,
      "grid_gap": null,
      "grid_row": null,
      "grid_template_areas": null,
      "grid_template_columns": null,
      "grid_template_rows": null,
      "height": null,
      "justify_content": null,
      "justify_items": null,
      "left": null,
      "margin": null,
      "max_height": null,
      "max_width": null,
      "min_height": null,
      "min_width": null,
      "object_fit": null,
      "object_position": null,
      "order": null,
      "overflow": null,
      "overflow_x": null,
      "overflow_y": null,
      "padding": null,
      "right": null,
      "top": null,
      "visibility": null,
      "width": null
     }
    }
   }
  }
 },
 "nbformat": 4,
 "nbformat_minor": 4
}
