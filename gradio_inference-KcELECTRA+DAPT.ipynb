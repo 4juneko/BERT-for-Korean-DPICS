{
 "cells": [
  {
   "cell_type": "code",
   "execution_count": 1,
   "id": "0a479d10-66e4-409f-a10e-0b9f7cfd4a67",
   "metadata": {
    "tags": []
   },
   "outputs": [
    {
     "name": "stdout",
     "output_type": "stream",
     "text": [
      "Requirement already satisfied: torch in /home/tools/anaconda/lib/python3.11/site-packages (2.0.1)\n",
      "Requirement already satisfied: filelock in /home/tools/anaconda/lib/python3.11/site-packages (from torch) (3.9.0)\n",
      "Requirement already satisfied: typing-extensions in /home/tools/anaconda/lib/python3.11/site-packages (from torch) (4.7.1)\n",
      "Requirement already satisfied: sympy in /home/tools/anaconda/lib/python3.11/site-packages (from torch) (1.11.1)\n",
      "Requirement already satisfied: networkx in /home/tools/anaconda/lib/python3.11/site-packages (from torch) (3.1)\n",
      "Requirement already satisfied: jinja2 in /home/tools/anaconda/lib/python3.11/site-packages (from torch) (3.1.2)\n",
      "Requirement already satisfied: MarkupSafe>=2.0 in /home/tools/anaconda/lib/python3.11/site-packages (from jinja2->torch) (2.1.1)\n",
      "Requirement already satisfied: mpmath>=0.19 in /home/tools/anaconda/lib/python3.11/site-packages (from sympy->torch) (1.3.0)\n",
      "\u001b[33mWARNING: Running pip as the 'root' user can result in broken permissions and conflicting behaviour with the system package manager. It is recommended to use a virtual environment instead: https://pip.pypa.io/warnings/venv\u001b[0m\u001b[33m\n",
      "\u001b[0m"
     ]
    }
   ],
   "source": [
    "!pip install torch"
   ]
  },
  {
   "cell_type": "code",
   "execution_count": 2,
   "id": "dfd6ec2b-5d65-49cd-bf62-4ee2c6f9bd9a",
   "metadata": {
    "tags": []
   },
   "outputs": [],
   "source": [
    "!pip install gradio\n"
   ]
  },
  {
   "cell_type": "code",
   "execution_count": 3,
   "id": "2f60a1c8-d4f1-4096-928c-878a3d001941",
   "metadata": {
    "tags": []
   },
   "outputs": [
    {
     "name": "stdout",
     "output_type": "stream",
     "text": [
      "Requirement already satisfied: transformers in /home/tools/anaconda/lib/python3.11/site-packages (4.29.2)\n",
      "Requirement already satisfied: filelock in /home/tools/anaconda/lib/python3.11/site-packages (from transformers) (3.9.0)\n",
      "Requirement already satisfied: huggingface-hub<1.0,>=0.14.1 in /home/tools/anaconda/lib/python3.11/site-packages (from transformers) (0.15.1)\n",
      "Requirement already satisfied: numpy>=1.17 in /home/tools/anaconda/lib/python3.11/site-packages (from transformers) (1.24.3)\n",
      "Requirement already satisfied: packaging>=20.0 in /home/tools/anaconda/lib/python3.11/site-packages (from transformers) (23.0)\n",
      "Requirement already satisfied: pyyaml>=5.1 in /home/tools/anaconda/lib/python3.11/site-packages (from transformers) (6.0)\n",
      "Requirement already satisfied: regex!=2019.12.17 in /home/tools/anaconda/lib/python3.11/site-packages (from transformers) (2022.7.9)\n",
      "Requirement already satisfied: requests in /home/tools/anaconda/lib/python3.11/site-packages (from transformers) (2.31.0)\n",
      "Requirement already satisfied: tokenizers!=0.11.3,<0.14,>=0.11.1 in /home/tools/anaconda/lib/python3.11/site-packages (from transformers) (0.13.2)\n",
      "Requirement already satisfied: tqdm>=4.27 in /home/tools/anaconda/lib/python3.11/site-packages (from transformers) (4.65.0)\n",
      "Requirement already satisfied: fsspec in /home/tools/anaconda/lib/python3.11/site-packages (from huggingface-hub<1.0,>=0.14.1->transformers) (2023.4.0)\n",
      "Requirement already satisfied: typing-extensions>=3.7.4.3 in /home/tools/anaconda/lib/python3.11/site-packages (from huggingface-hub<1.0,>=0.14.1->transformers) (4.7.1)\n",
      "Requirement already satisfied: charset-normalizer<4,>=2 in /home/tools/anaconda/lib/python3.11/site-packages (from requests->transformers) (2.0.4)\n",
      "Requirement already satisfied: idna<4,>=2.5 in /home/tools/anaconda/lib/python3.11/site-packages (from requests->transformers) (3.4)\n",
      "Requirement already satisfied: urllib3<3,>=1.21.1 in /home/tools/anaconda/lib/python3.11/site-packages (from requests->transformers) (1.26.16)\n",
      "Requirement already satisfied: certifi>=2017.4.17 in /home/tools/anaconda/lib/python3.11/site-packages (from requests->transformers) (2023.7.22)\n",
      "\u001b[33mWARNING: Running pip as the 'root' user can result in broken permissions and conflicting behaviour with the system package manager. It is recommended to use a virtual environment instead: https://pip.pypa.io/warnings/venv\u001b[0m\u001b[33m\n",
      "\u001b[0m"
     ]
    }
   ],
   "source": [
    "!pip install transformers"
   ]
  },
  {
   "cell_type": "code",
   "execution_count": 2,
   "id": "a7b7dfca-5ff8-4539-9971-864d175108b7",
   "metadata": {
    "tags": []
   },
   "outputs": [
    {
     "data": {
      "text/plain": [
       "{'일반적인 말': 0,\n",
       " '부정적인 말': 1,\n",
       " '반영': 2,\n",
       " '지시': 3,\n",
       " '행동 묘사': 4,\n",
       " '질문': 5,\n",
       " '일반적인 칭찬': 6,\n",
       " '구체적인 칭찬': 7}"
      ]
     },
     "execution_count": 2,
     "metadata": {},
     "output_type": "execute_result"
    }
   ],
   "source": [
    "labels = ['일반적인 말', '부정적인 말', '반영', '지시', '행동 묘사', '질문', '일반적인 칭찬', '구체적인 칭찬']\n",
    "label_dict = {}\n",
    "for index, label in enumerate(labels):\n",
    "    label_dict[label] = index\n",
    "label_dict"
   ]
  },
  {
   "cell_type": "code",
   "execution_count": 3,
   "id": "9592c268-34a8-4a20-b66d-f9a6a324e69d",
   "metadata": {
    "tags": []
   },
   "outputs": [
    {
     "data": {
      "text/plain": [
       "{0: '일반적인 말',\n",
       " 1: '부정적인 말',\n",
       " 2: '반영',\n",
       " 3: '지시',\n",
       " 4: '행동 묘사',\n",
       " 5: '질문',\n",
       " 6: '일반적인 칭찬',\n",
       " 7: '구체적인 칭찬'}"
      ]
     },
     "execution_count": 3,
     "metadata": {},
     "output_type": "execute_result"
    }
   ],
   "source": [
    "label_dict\n",
    "reverse_label_dict = dict(map(reversed,label_dict.items()))\n",
    "reverse_label_dict"
   ]
  },
  {
   "cell_type": "code",
   "execution_count": 10,
   "id": "6f95d322-c08f-4e49-b6f6-345510918f88",
   "metadata": {
    "tags": []
   },
   "outputs": [
    {
     "name": "stderr",
     "output_type": "stream",
     "text": [
      "Some weights of the model checkpoint at JuneKo/kcELECTRA_parent_09252023_MLM were not used when initializing ElectraForSequenceClassification: ['generator_lm_head.bias', 'generator_predictions.dense.weight', 'generator_predictions.dense.bias', 'generator_lm_head.weight', 'generator_predictions.LayerNorm.bias', 'generator_predictions.LayerNorm.weight']\n",
      "- This IS expected if you are initializing ElectraForSequenceClassification from the checkpoint of a model trained on another task or with another architecture (e.g. initializing a BertForSequenceClassification model from a BertForPreTraining model).\n",
      "- This IS NOT expected if you are initializing ElectraForSequenceClassification from the checkpoint of a model that you expect to be exactly identical (initializing a BertForSequenceClassification model from a BertForSequenceClassification model).\n",
      "Some weights of ElectraForSequenceClassification were not initialized from the model checkpoint at JuneKo/kcELECTRA_parent_09252023_MLM and are newly initialized: ['classifier.dense.weight', 'classifier.out_proj.weight', 'classifier.out_proj.bias', 'classifier.dense.bias']\n",
      "You should probably TRAIN this model on a down-stream task to be able to use it for predictions and inference.\n"
     ]
    },
    {
     "name": "stdout",
     "output_type": "stream",
     "text": [
      "Running on local URL:  http://127.0.0.1:7870\n",
      "Running on public URL: https://fb27fc1c4656c3450c.gradio.live\n",
      "\n",
      "This share link expires in 72 hours. For free permanent hosting and GPU upgrades, run `gradio deploy` from Terminal to deploy to Spaces (https://huggingface.co/spaces)\n"
     ]
    },
    {
     "data": {
      "text/html": [
       "<div><iframe src=\"https://fb27fc1c4656c3450c.gradio.live\" width=\"100%\" height=\"500\" allow=\"autoplay; camera; microphone; clipboard-read; clipboard-write;\" frameborder=\"0\" allowfullscreen></iframe></div>"
      ],
      "text/plain": [
       "<IPython.core.display.HTML object>"
      ]
     },
     "metadata": {},
     "output_type": "display_data"
    }
   ],
   "source": [
    "import torch\n",
    "from transformers import AutoTokenizer, AutoModelForSequenceClassification\n",
    "import gradio as gr\n",
    "\n",
    "# 모델 및 토크나이저 로드\n",
    "# model_name = \"beomi/KcELECTRA-base-v2022\"\n",
    "model_name = \"JuneKo/kcELECTRA_parent_09252023_MLM\"\n",
    "tokenizer = AutoTokenizer.from_pretrained(model_name)\n",
    "\n",
    "# model_save_path = \"KcELECTRA_classification_epoch3_maxlength16.pth\"\n",
    "model_save_path = \"KcELECTRA_DAPT_classification_epoch6_maxlength16.pth\"\n",
    "# 모델 아키텍처 생성\n",
    "loaded_model = AutoModelForSequenceClassification.from_pretrained(model_name, num_labels=len(label_dict))\n",
    "\n",
    "# 저장된 가중치 불러오기\n",
    "loaded_model.load_state_dict(torch.load(model_save_path))\n",
    "\n",
    "# 모델을 평가 모드로 설정\n",
    "loaded_model.eval()\n",
    "\n",
    "# input_encodings = tokenizer(input_data, padding=True, truncation=True, return_tensors=\"pt\")\n",
    "\n",
    "# # 모델에 입력 데이터 전달\n",
    "# with torch.no_grad():\n",
    "#     output = loaded_model(**input_encodings)\n",
    "\n",
    "# # 예측 결과 확인\n",
    "# logits = output.logits\n",
    "# predicted_labels = logits.argmax(dim=1)\n",
    "\n",
    "# 모델 추론 함수\n",
    "def predict(text):\n",
    "    inputs = tokenizer(text, padding=True, truncation=True, return_tensors=\"pt\")\n",
    "    outputs = loaded_model(**inputs)\n",
    "    logits = outputs.logits\n",
    "    predicted_class = torch.argmax(logits, dim=1).item()\n",
    "    return f\"{reverse_label_dict[predicted_class]}\"\n",
    "\n",
    "# Gradio 웹 인터페이스 생성\n",
    "iface = gr.Interface(\n",
    "    fn=predict,\n",
    "    inputs=gr.Textbox(label = \"텍스트\"),\n",
    "    outputs=gr.Textbox(label = \"DPICS 코드\"),\n",
    "    title=\"DPICS 자동 코딩 시스템\"\n",
    ")\n",
    "\n",
    "if __name__ == \"__main__\":\n",
    "    iface.launch(share=True)\n"
   ]
  },
  {
   "cell_type": "code",
   "execution_count": null,
   "id": "00673040-8342-427d-8009-46bbdb081024",
   "metadata": {},
   "outputs": [],
   "source": []
  }
 ],
 "metadata": {
  "kernelspec": {
   "display_name": "Python 3 (ipykernel)",
   "language": "python",
   "name": "python3"
  },
  "language_info": {
   "codemirror_mode": {
    "name": "ipython",
    "version": 3
   },
   "file_extension": ".py",
   "mimetype": "text/x-python",
   "name": "python",
   "nbconvert_exporter": "python",
   "pygments_lexer": "ipython3",
   "version": "3.11.4"
  }
 },
 "nbformat": 4,
 "nbformat_minor": 5
}
