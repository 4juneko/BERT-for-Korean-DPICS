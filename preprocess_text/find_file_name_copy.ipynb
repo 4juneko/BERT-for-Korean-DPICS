{
 "cells": [
  {
   "cell_type": "code",
   "execution_count": 8,
   "id": "5ddc009f",
   "metadata": {},
   "outputs": [],
   "source": [
    "import os\n",
    "import shutil"
   ]
  },
  {
   "cell_type": "code",
   "execution_count": 60,
   "id": "eb1f976b",
   "metadata": {},
   "outputs": [
    {
     "name": "stdout",
     "output_type": "stream",
     "text": [
      "C:\\Users\\vision21\\Downloads\\020.주제별 텍스트 일상 대화 데이터\\01.데이터\\1.Training\\원천데이터\n"
     ]
    }
   ],
   "source": [
    "%cd C:/Users/vision21/Downloads/020.주제별 텍스트 일상 대화 데이터/01.데이터/1.Training/원천데이터"
   ]
  },
  {
   "cell_type": "code",
   "execution_count": 61,
   "id": "ffd96110",
   "metadata": {},
   "outputs": [],
   "source": [
    "n_dir = 'nateon'\n",
    "path =  'C:/Users/vision21/Downloads/020.주제별 텍스트 일상 대화 데이터/01.데이터/1.Training/원천데이터/TS_05. NATEON'\n",
    "path_07 = 'C:/Users/vision21/Downloads/020.주제별 텍스트 일상 대화 데이터/01.데이터/1.Training/원천데이터/' + n_dir"
   ]
  },
  {
   "cell_type": "code",
   "execution_count": 62,
   "id": "eb987094",
   "metadata": {},
   "outputs": [],
   "source": [
    "os.mkdir(n_dir)"
   ]
  },
  {
   "cell_type": "code",
   "execution_count": 63,
   "id": "0981c7cf",
   "metadata": {},
   "outputs": [
    {
     "name": "stdout",
     "output_type": "stream",
     "text": [
      "C:\\Users\\vision21\\Downloads\\020.주제별 텍스트 일상 대화 데이터\\01.데이터\\1.Training\\원천데이터\\TS_05. NATEON\n"
     ]
    }
   ],
   "source": [
    "%cd C:/Users/vision21/Downloads/020.주제별 텍스트 일상 대화 데이터/01.데이터/1.Training/원천데이터/TS_05. NATEON"
   ]
  },
  {
   "cell_type": "code",
   "execution_count": 64,
   "id": "7ecdfdd8",
   "metadata": {},
   "outputs": [
    {
     "data": {
      "text/plain": [
       "1606"
      ]
     },
     "execution_count": 64,
     "metadata": {},
     "output_type": "execute_result"
    }
   ],
   "source": [
    "file_list = os.listdir(path)\n",
    "len(file_list)"
   ]
  },
  {
   "cell_type": "code",
   "execution_count": 65,
   "id": "46087ec0",
   "metadata": {
    "scrolled": true
   },
   "outputs": [
    {
     "name": "stdout",
     "output_type": "stream",
     "text": [
      "NATEON_21_07.txt\n",
      "NATEON_22_07.txt\n",
      "NATEON_23_07.txt\n",
      "NATEON_24_07.txt\n",
      "NATEON_25_07.txt\n",
      "NATEON_26_07.txt\n",
      "NATEON_27_07.txt\n",
      "NATEON_28_07.txt\n",
      "NATEON_29_07.txt\n",
      "NATEON_30_07.txt\n",
      "NATEON_31_07.txt\n",
      "NATEON_32_07.txt\n",
      "NATEON_33_07.txt\n",
      "NATEON_34_07.txt\n",
      "NATEON_35_07.txt\n",
      "NATEON_36_07.txt\n",
      "NATEON_37_07.txt\n",
      "NATEON_38_07.txt\n",
      "NATEON_39_07.txt\n",
      "NATEON_40_07.txt\n",
      "NATEON_41_07.txt\n",
      "NATEON_42_07.txt\n",
      "NATEON_43_07.txt\n",
      "NATEON_44_07.txt\n",
      "NATEON_45_07.txt\n",
      "NATEON_46_07.txt\n",
      "NATEON_47_07.txt\n",
      "NATEON_48_07.txt\n",
      "NATEON_49_07.txt\n",
      "NATEON_50_07.txt\n",
      "NATEON_51_07.txt\n",
      "NATEON_52_07.txt\n",
      "NATEON_53_07.txt\n",
      "NATEON_54_07.txt\n",
      "NATEON_55_07.txt\n",
      "NATEON_56_07.txt\n",
      "NATEON_57_07.txt\n",
      "NATEON_58_07.txt\n",
      "NATEON_59_07.txt\n",
      "NATEON_60_07.txt\n",
      "NATEON_61_07.txt\n",
      "NATEON_62_07.txt\n",
      "NATEON_63_07.txt\n",
      "NATEON_64_07.txt\n",
      "NATEON_65_07.txt\n",
      "NATEON_66_07.txt\n",
      "NATEON_67_07.txt\n",
      "NATEON_68_07.txt\n",
      "NATEON_69_07.txt\n",
      "NATEON_70_07.txt\n",
      "NATEON_71_07.txt\n",
      "NATEON_72_07.txt\n",
      "NATEON_73_07.txt\n",
      "NATEON_74_07.txt\n",
      "NATEON_75_07.txt\n",
      "NATEON_76_07.txt\n",
      "NATEON_77_07.txt\n",
      "NATEON_78_07.txt\n",
      "NATEON_79_07.txt\n",
      "NATEON_80_07.txt\n",
      "NATEON_81_07.txt\n",
      "NATEON_82_07.txt\n",
      "NATEON_83_07.txt\n",
      "NATEON_84_07.txt\n",
      "NATEON_85_07.txt\n",
      "NATEON_86_07.txt\n",
      "NATEON_87_07.txt\n"
     ]
    }
   ],
   "source": [
    "for file_name in file_list:\n",
    "    if file_name.endswith('07.txt'):\n",
    "        print(file_name)\n",
    "        shutil.copy(file_name, path_07)\n",
    "#     name = os.path.splitext(i)[0]\n",
    "#     print(name.split('_'))"
   ]
  },
  {
   "cell_type": "code",
   "execution_count": null,
   "id": "8acfd14e",
   "metadata": {},
   "outputs": [],
   "source": []
  }
 ],
 "metadata": {
  "kernelspec": {
   "display_name": "Python 3 (ipykernel)",
   "language": "python",
   "name": "python3"
  },
  "language_info": {
   "codemirror_mode": {
    "name": "ipython",
    "version": 3
   },
   "file_extension": ".py",
   "mimetype": "text/x-python",
   "name": "python",
   "nbconvert_exporter": "python",
   "pygments_lexer": "ipython3",
   "version": "3.11.4"
  }
 },
 "nbformat": 4,
 "nbformat_minor": 5
}
