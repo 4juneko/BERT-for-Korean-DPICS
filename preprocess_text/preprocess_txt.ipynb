{
 "cells": [
  {
   "cell_type": "code",
   "execution_count": 1,
   "id": "7f4f7a53",
   "metadata": {},
   "outputs": [
    {
     "name": "stdout",
     "output_type": "stream",
     "text": [
      "Requirement already satisfied: kss in c:\\users\\vision21\\anaconda3\\lib\\site-packages (4.5.4)\n",
      "Requirement already satisfied: emoji==1.2.0 in c:\\users\\vision21\\anaconda3\\lib\\site-packages (from kss) (1.2.0)\n",
      "Requirement already satisfied: regex in c:\\users\\vision21\\anaconda3\\lib\\site-packages (from kss) (2022.7.9)\n",
      "Requirement already satisfied: pecab in c:\\users\\vision21\\anaconda3\\lib\\site-packages (from kss) (1.0.8)\n",
      "Requirement already satisfied: networkx in c:\\users\\vision21\\anaconda3\\lib\\site-packages (from kss) (3.1)\n",
      "Requirement already satisfied: numpy in c:\\users\\vision21\\anaconda3\\lib\\site-packages (from pecab->kss) (1.24.3)\n",
      "Requirement already satisfied: pyarrow in c:\\users\\vision21\\anaconda3\\lib\\site-packages (from pecab->kss) (11.0.0)\n",
      "Requirement already satisfied: pytest in c:\\users\\vision21\\anaconda3\\lib\\site-packages (from pecab->kss) (7.4.0)\n",
      "Requirement already satisfied: iniconfig in c:\\users\\vision21\\anaconda3\\lib\\site-packages (from pytest->pecab->kss) (1.1.1)\n",
      "Requirement already satisfied: packaging in c:\\users\\vision21\\anaconda3\\lib\\site-packages (from pytest->pecab->kss) (23.0)\n",
      "Requirement already satisfied: pluggy<2.0,>=0.12 in c:\\users\\vision21\\anaconda3\\lib\\site-packages (from pytest->pecab->kss) (1.0.0)\n",
      "Requirement already satisfied: colorama in c:\\users\\vision21\\anaconda3\\lib\\site-packages (from pytest->pecab->kss) (0.4.6)\n"
     ]
    }
   ],
   "source": [
    "# 한국어 문장 분리기KSS(Korean Sentence Splitter)\n",
    "!pip install kss"
   ]
  },
  {
   "cell_type": "code",
   "execution_count": 2,
   "id": "4ab6c98e",
   "metadata": {},
   "outputs": [
    {
     "name": "stdout",
     "output_type": "stream",
     "text": [
      "Requirement already satisfied: soynlp in c:\\users\\vision21\\anaconda3\\lib\\site-packages (0.0.493)\n",
      "Requirement already satisfied: numpy>=1.12.1 in c:\\users\\vision21\\anaconda3\\lib\\site-packages (from soynlp) (1.24.3)\n",
      "Requirement already satisfied: psutil>=5.0.1 in c:\\users\\vision21\\anaconda3\\lib\\site-packages (from soynlp) (5.9.0)\n",
      "Requirement already satisfied: scipy>=1.1.0 in c:\\users\\vision21\\anaconda3\\lib\\site-packages (from soynlp) (1.10.1)\n",
      "Requirement already satisfied: scikit-learn>=0.20.0 in c:\\users\\vision21\\anaconda3\\lib\\site-packages (from soynlp) (1.3.0)\n",
      "Requirement already satisfied: joblib>=1.1.1 in c:\\users\\vision21\\anaconda3\\lib\\site-packages (from scikit-learn>=0.20.0->soynlp) (1.2.0)\n",
      "Requirement already satisfied: threadpoolctl>=2.0.0 in c:\\users\\vision21\\anaconda3\\lib\\site-packages (from scikit-learn>=0.20.0->soynlp) (2.2.0)\n"
     ]
    }
   ],
   "source": [
    "# https://github.com/lovit/soynlp\n",
    "# 데이터에 존재하는 단어를 찾거나, 문장을 단어열로 분해, 혹은 품사 판별을 할 수 있는 비지도학습 접근법을 지향\n",
    "!pip install soynlp"
   ]
  },
  {
   "cell_type": "code",
   "execution_count": 3,
   "id": "5ddc009f",
   "metadata": {},
   "outputs": [],
   "source": [
    "import os\n",
    "import shutil\n",
    "import pandas as pd\n",
    "import re\n",
    "from kss import split_sentences\n",
    "import emoji\n",
    "from soynlp.normalizer import repeat_normalize"
   ]
  },
  {
   "cell_type": "code",
   "execution_count": 6,
   "id": "d224b875",
   "metadata": {},
   "outputs": [
    {
     "name": "stdout",
     "output_type": "stream",
     "text": [
      "C:\\Users\\vision21\\Documents\\PCIT\n"
     ]
    },
    {
     "data": {
      "text/plain": [
       "'C:\\\\Users\\\\vision21\\\\Documents\\\\PCIT'"
      ]
     },
     "execution_count": 6,
     "metadata": {},
     "output_type": "execute_result"
    }
   ],
   "source": [
    "# os.getcwd()\n",
    "%cd  C:\\Users\\vision21\\Documents\\PCIT\n",
    "%pwd\n"
   ]
  },
  {
   "cell_type": "code",
   "execution_count": 7,
   "id": "92db7b14",
   "metadata": {},
   "outputs": [
    {
     "data": {
      "text/plain": [
       "'C:\\\\Users\\\\vision21\\\\Documents\\\\PCIT'"
      ]
     },
     "execution_count": 7,
     "metadata": {},
     "output_type": "execute_result"
    }
   ],
   "source": [
    "%pwd"
   ]
  },
  {
   "cell_type": "code",
   "execution_count": 120,
   "id": "ec33438e",
   "metadata": {},
   "outputs": [],
   "source": [
    "# emojis = ''.join(emoji.UNICODE_EMOJI.keys())\n",
    "# # emojis = ''.join(emoji.UNICODE_EMOJI.keys()) # UNICODE_EMOJI에 에러가 있어 수정함.\n",
    "# pattern = re.compile(f'[^ .,?!/@$%~％·∼()\\x00-\\x7Fㄱ-ㅣ가-힣{emojis}]+')\n",
    "# url_pattern = re.compile(\n",
    "#     r'https?:\\/\\/(www\\.)?[-a-zA-Z0-9@:%._\\+~#=]{1,256}\\.[a-zA-Z0-9()]{1,6}\\b([-a-zA-Z0-9()@:%_\\+.~#?&//=]*)')\n",
    "\n",
    "# def clean(x):\n",
    "#     x = pattern.sub(' ', x)\n",
    "#     x = url_pattern.sub('', x)\n",
    "#     x = x.strip()\n",
    "#     x = repeat_normalize(x, num_repeats=2)\n",
    "#     return x"
   ]
  },
  {
   "cell_type": "code",
   "execution_count": 8,
   "id": "f6db07b5",
   "metadata": {},
   "outputs": [
    {
     "ename": "NameError",
     "evalue": "name 'emojis' is not defined",
     "output_type": "error",
     "traceback": [
      "\u001b[1;31m---------------------------------------------------------------------------\u001b[0m",
      "\u001b[1;31mNameError\u001b[0m                                 Traceback (most recent call last)",
      "Cell \u001b[1;32mIn[8], line 1\u001b[0m\n\u001b[1;32m----> 1\u001b[0m emojis\n",
      "\u001b[1;31mNameError\u001b[0m: name 'emojis' is not defined"
     ]
    }
   ],
   "source": [
    "emojis"
   ]
  },
  {
   "cell_type": "code",
   "execution_count": 122,
   "id": "0d046765",
   "metadata": {},
   "outputs": [
    {
     "data": {
      "text/plain": [
       "''"
      ]
     },
     "execution_count": 122,
     "metadata": {},
     "output_type": "execute_result"
    }
   ],
   "source": [
    "# input = '\\ㅜ'\n",
    "# clean(input)\n",
    "\n",
    "# re.sub(r\"[^\\uAC00-\\uD7A30-9a-zA-Z\\s]\", \"\", input)"
   ]
  },
  {
   "cell_type": "code",
   "execution_count": 136,
   "id": "3fe34504",
   "metadata": {},
   "outputs": [],
   "source": [
    "# n_dir = ['kakao1','kakao2', 'kakao3','kakao4', 'facebook', 'instagram', 'band', 'nateon']\n",
    "# # for dir_name  in n_dir:\n",
    "# path_07 = 'C:/Users/vision21/Downloads/020.주제별 텍스트 일상 대화 데이터/01.데이터/1.Training/원천데이터/' + n_dir[7]\n",
    "# file_list = os.listdir(path_07)\n",
    "\n",
    "with open('PCIT_09152023.csv', 'w') as fw:\n",
    "    for file_name in file_list:\n",
    "    #     print(file_name)\n",
    "        f = open(path_07 + '/' + file_name, encoding='UTF8')\n",
    "        for line_b in f.readlines():\n",
    "            try:\n",
    "                split_line = re.split(':', line_b)\n",
    "                line = re.sub(r\"[^\\uAC00-\\uD7A30-9a-zA-Z\\s]\", \"\", split_line[1])\n",
    "                line = re.sub(r'[키키]', '', line) # 하하, 와 \n",
    "\n",
    "#                 print(line)\n",
    "                for split_line_again in split_sentences(line):\n",
    "#                     print(split_line_again)\n",
    "                    fw.write(split_line_again +'\\n')\n",
    "#                 fw.write('\\n')\n",
    "            except IndexError:\n",
    "                pass\n",
    "            \n",
    "#         print(file_name)\n",
    "            \n"
   ]
  },
  {
   "cell_type": "code",
   "execution_count": null,
   "id": "8acfd14e",
   "metadata": {},
   "outputs": [],
   "source": []
  }
 ],
 "metadata": {
  "kernelspec": {
   "display_name": "Python 3 (ipykernel)",
   "language": "python",
   "name": "python3"
  },
  "language_info": {
   "codemirror_mode": {
    "name": "ipython",
    "version": 3
   },
   "file_extension": ".py",
   "mimetype": "text/x-python",
   "name": "python",
   "nbconvert_exporter": "python",
   "pygments_lexer": "ipython3",
   "version": "3.11.4"
  }
 },
 "nbformat": 4,
 "nbformat_minor": 5
}
