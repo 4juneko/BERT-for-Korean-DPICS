{
 "cells": [
  {
   "cell_type": "code",
   "execution_count": 1,
   "id": "94a96641",
   "metadata": {},
   "outputs": [],
   "source": [
    "import os\n",
    "import tarfile"
   ]
  },
  {
   "cell_type": "code",
   "execution_count": 28,
   "id": "49da6db1",
   "metadata": {},
   "outputs": [
    {
     "ename": "SyntaxError",
     "evalue": "invalid syntax (330872296.py, line 1)",
     "output_type": "error",
     "traceback": [
      "\u001b[1;36m  Cell \u001b[1;32mIn[28], line 1\u001b[1;36m\u001b[0m\n\u001b[1;33m    path = C:/Users/vision21/Downloads/한국인 대화 음성/Validation\u001b[0m\n\u001b[1;37m            ^\u001b[0m\n\u001b[1;31mSyntaxError\u001b[0m\u001b[1;31m:\u001b[0m invalid syntax\n"
     ]
    }
   ],
   "source": [
    "path = 'C:/Users/vision21/Downloads/한국인 대화 음성/Validation'"
   ]
  },
  {
   "cell_type": "code",
   "execution_count": 27,
   "id": "d59b71db",
   "metadata": {},
   "outputs": [
    {
     "name": "stdout",
     "output_type": "stream",
     "text": [
      "[WinError 2] 지정된 파일을 찾을 수 없습니다: 'path'\n",
      "C:\\Users\\vision21\\Downloads\\한국인 대화 음성\\Training\n"
     ]
    }
   ],
   "source": [
    "%cd C:/Users/vision21/Downloads/한국인 대화 음성/Validation"
   ]
  },
  {
   "cell_type": "code",
   "execution_count": 24,
   "id": "40cca94c",
   "metadata": {},
   "outputs": [
    {
     "name": "stderr",
     "output_type": "stream",
     "text": [
      "'pwd'은(는) 내부 또는 외부 명령, 실행할 수 있는 프로그램, 또는\n",
      "배치 파일이 아닙니다.\n"
     ]
    }
   ],
   "source": [
    "!pwd"
   ]
  },
  {
   "cell_type": "code",
   "execution_count": 29,
   "id": "0cc9508f",
   "metadata": {},
   "outputs": [
    {
     "data": {
      "text/plain": [
       "8"
      ]
     },
     "execution_count": 29,
     "metadata": {},
     "output_type": "execute_result"
    }
   ],
   "source": [
    "file_list = os.listdir(path)\n",
    "len(file_list)"
   ]
  },
  {
   "cell_type": "code",
   "execution_count": 30,
   "id": "d9df0f9f",
   "metadata": {},
   "outputs": [
    {
     "data": {
      "text/plain": [
       "['[라벨]1.방송_broadcast_01.tar.gz',\n",
       " '[라벨]2.취미_hobby_01.tar.gz',\n",
       " '[라벨]3.일상안부_dialog_01.tar.gz',\n",
       " '[라벨]4.생활_life_01.tar.gz',\n",
       " '[라벨]5.날씨_weather_01.tar.gz',\n",
       " '[라벨]6.경제_economy_01.tar.gz',\n",
       " '[라벨]7.놀이_play_01.tar.gz',\n",
       " '[라벨]8.쇼핑_shopping_01.tar.gz']"
      ]
     },
     "execution_count": 30,
     "metadata": {},
     "output_type": "execute_result"
    }
   ],
   "source": [
    "file_list"
   ]
  },
  {
   "cell_type": "code",
   "execution_count": 31,
   "id": "ce82ec55",
   "metadata": {},
   "outputs": [
    {
     "name": "stdout",
     "output_type": "stream",
     "text": [
      "[라벨]1.방송_broadcast_01\n",
      "[라벨]2.취미_hobby_01\n",
      "[라벨]3.일상안부_dialog_01\n",
      "[라벨]4.생활_life_01\n",
      "[라벨]5.날씨_weather_01\n",
      "[라벨]6.경제_economy_01\n",
      "[라벨]7.놀이_play_01\n",
      "[라벨]8.쇼핑_shopping_01\n"
     ]
    }
   ],
   "source": [
    "for i in file_list:\n",
    "    \n",
    "    print(os.path.splitext(os.path.splitext(i)[0])[0])"
   ]
  },
  {
   "cell_type": "code",
   "execution_count": 32,
   "id": "ba2fed15",
   "metadata": {},
   "outputs": [],
   "source": [
    "# tar.gz 파일 압축풀기\n",
    "for i in file_list:\n",
    "    file_name = os.path.splitext(os.path.splitext(i)[0])[0]\n",
    "    with tarfile.open(i, 'r:gz') as tr:\n",
    "        tr.extractall(path='C:/Users/vision21/Downloads/한국인 대화 음성/Validation_unzip/'+ file_name)"
   ]
  },
  {
   "cell_type": "code",
   "execution_count": null,
   "id": "5ecc8241",
   "metadata": {},
   "outputs": [],
   "source": []
  }
 ],
 "metadata": {
  "kernelspec": {
   "display_name": "Python 3 (ipykernel)",
   "language": "python",
   "name": "python3"
  },
  "language_info": {
   "codemirror_mode": {
    "name": "ipython",
    "version": 3
   },
   "file_extension": ".py",
   "mimetype": "text/x-python",
   "name": "python",
   "nbconvert_exporter": "python",
   "pygments_lexer": "ipython3",
   "version": "3.11.4"
  }
 },
 "nbformat": 4,
 "nbformat_minor": 5
}
